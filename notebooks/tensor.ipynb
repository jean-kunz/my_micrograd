{
 "cells": [
  {
   "cell_type": "code",
   "execution_count": 1,
   "metadata": {},
   "outputs": [],
   "source": [
    "#| default_exp tensor"
   ]
  },
  {
   "cell_type": "code",
   "execution_count": 2,
   "metadata": {},
   "outputs": [],
   "source": [
    "from typing import TypeVar\n",
    "import numpy as np\n",
    "import matplotlib\n",
    "from graphviz import Digraph\n",
    "import torch"
   ]
  },
  {
   "cell_type": "code",
   "execution_count": 6,
   "metadata": {},
   "outputs": [
    {
     "data": {
      "text/plain": [
       "[[14. 14.]\n",
       " [32. 32.]], op:@"
      ]
     },
     "execution_count": 6,
     "metadata": {},
     "output_type": "execute_result"
    }
   ],
   "source": [
    "\n",
    "TTensor = TypeVar(\"TTensor\", bound=\"Shape\")\n",
    "\n",
    "class Tensor:\n",
    "    \n",
    "    def __init__(self, data:list, _prev:set=(), _op: str='', label='') -> None:\n",
    "        self.data = np.array(data)\n",
    "        self._prev = _prev\n",
    "        self._op = _op\n",
    "        self.label = label\n",
    "        \n",
    "    def __repr__(self) -> str:\n",
    "        return f\"{np.array_str(self.data)}, op:{self._op}\"\n",
    "    \n",
    "    def __add__(self, other: TTensor) -> TTensor:\n",
    "       res = Tensor(self.data + other.data, _op='+')\n",
    "       return res\n",
    "   \n",
    "    def __mul__(self, other: TTensor) -> TTensor:\n",
    "        return Tensor(self.data * other.data, _op='*')\n",
    "        \n",
    "    def __matmul__(self, other: TTensor) -> TTensor:\n",
    "        return Tensor(self.data @ other.data, _op='@')\n",
    "        \n",
    "    \n",
    "\n",
    "A = Tensor([[1.,2.,3.],[4.,5.,6.]])\n",
    "\n",
    "A @ B"
   ]
  },
  {
   "cell_type": "code",
   "execution_count": null,
   "metadata": {},
   "outputs": [],
   "source": [
    "At = torch.tensor([[1.,2.,3.],[4.,5.,6.]])\n",
    "Bt = torch.tensor([[1.,1.],[2.,2.],[3.,3.]]) \n",
    "\n",
    "Ct=At@Bt\n",
    "\n",
    "Ct.sum().backward()\n",
    "Ct.grad"
   ]
  },
  {
   "cell_type": "code",
   "execution_count": null,
   "metadata": {},
   "outputs": [],
   "source": []
  }
 ],
 "metadata": {
  "kernelspec": {
   "display_name": "micrograd",
   "language": "python",
   "name": "python3"
  },
  "language_info": {
   "codemirror_mode": {
    "name": "ipython",
    "version": 3
   },
   "file_extension": ".py",
   "mimetype": "text/x-python",
   "name": "python",
   "nbconvert_exporter": "python",
   "pygments_lexer": "ipython3",
   "version": "3.10.8"
  },
  "orig_nbformat": 4,
  "vscode": {
   "interpreter": {
    "hash": "0817e48aad823e29ab0979a99cf84a8de159f5c28af964a8e0018065f64daf7e"
   }
  }
 },
 "nbformat": 4,
 "nbformat_minor": 2
}
