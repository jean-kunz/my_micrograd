{
 "cells": [
  {
   "cell_type": "code",
   "execution_count": 1,
   "metadata": {},
   "outputs": [],
   "source": [
    "from dataclasses import dataclass"
   ]
  },
  {
   "cell_type": "code",
   "execution_count": 2,
   "metadata": {},
   "outputs": [
    {
     "data": {
      "text/plain": [
       "[(0, 'a'),\n",
       " (0, 'b'),\n",
       " (1, 'c'),\n",
       " (2, 'd'),\n",
       " (2, 'e'),\n",
       " (1, 'f'),\n",
       " (0, 'g'),\n",
       " (1, 'h'),\n",
       " (1, 'i'),\n",
       " (2, 'j'),\n",
       " (0, 'k')]"
      ]
     },
     "execution_count": 2,
     "metadata": {},
     "output_type": "execute_result"
    }
   ],
   "source": [
    "#%%\n",
    "levels = [0,0,1,2,2,1,0,1,1,2,0]\n",
    "ids = ['a','b','c','d','e','f','g','h','i','j','k']\n",
    "caps = [(l, ids[i]) for i, l in enumerate(levels)]\n",
    "caps\n"
   ]
  },
  {
   "cell_type": "code",
   "execution_count": 21,
   "metadata": {},
   "outputs": [
    {
     "name": "stdout",
     "output_type": "stream",
     "text": [
      ">> [(4440078128, level=0,name=a,children=[])]\n",
      ">> [(4440066896, level=0,name=b,children=[])]\n",
      ">> [(4440066896, level=0,name=b,children=[(4440074240, 1, 'c')]), (4440074240, level=1,name=c,children=[(4440074240, 1, 'c')])]\n",
      ">> [(4440066896, level=0,name=b,children=[(4440074240, 1, 'c'), (4440076112, 2, 'd')]), (4440074240, level=1,name=c,children=[(4440074240, 1, 'c'), (4440076112, 2, 'd')]), (4440076112, level=2,name=d,children=[(4440074240, 1, 'c'), (4440076112, 2, 'd')])]\n",
      ">> [(4440066896, level=0,name=b,children=[(4440074240, 1, 'c'), (4440076112, 2, 'd')]), (4440074240, level=1,name=c,children=[(4440074240, 1, 'c'), (4440076112, 2, 'd')]), (4440072224, level=2,name=e,children=[(4440074240, 1, 'c'), (4440076112, 2, 'd')])]\n",
      ">> [(4440066896, level=0,name=b,children=[(4440074240, 1, 'c'), (4440076112, 2, 'd')]), (4440068672, level=1,name=f,children=[(4440074240, 1, 'c'), (4440076112, 2, 'd')])]\n",
      ">> [(4440072224, level=0,name=g,children=[(4440074240, 1, 'c'), (4440076112, 2, 'd')])]\n",
      ">> [(4440072224, level=0,name=g,children=[(4440074240, 1, 'c'), (4440076112, 2, 'd'), (4440068672, 1, 'h')]), (4440068672, level=1,name=h,children=[(4440074240, 1, 'c'), (4440076112, 2, 'd'), (4440068672, 1, 'h')])]\n",
      ">> [(4440072224, level=0,name=g,children=[(4440074240, 1, 'c'), (4440076112, 2, 'd'), (4440068672, 1, 'h')]), (4440074144, level=1,name=i,children=[(4440074240, 1, 'c'), (4440076112, 2, 'd'), (4440068672, 1, 'h')])]\n",
      ">> [(4440072224, level=0,name=g,children=[(4440074240, 1, 'c'), (4440076112, 2, 'd'), (4440068672, 1, 'h'), (4440073136, 2, 'j')]), (4440074144, level=1,name=i,children=[(4440074240, 1, 'c'), (4440076112, 2, 'd'), (4440068672, 1, 'h'), (4440073136, 2, 'j')]), (4440073136, level=2,name=j,children=[(4440074240, 1, 'c'), (4440076112, 2, 'd'), (4440068672, 1, 'h'), (4440073136, 2, 'j')])]\n",
      ">> [(4440078416, level=0,name=k,children=[(4440074240, 1, 'c'), (4440076112, 2, 'd'), (4440068672, 1, 'h'), (4440073136, 2, 'j')])]\n"
     ]
    },
    {
     "data": {
      "text/plain": [
       "[level=0,name=a,children=[(4440074240, 1, 'c'), (4440076112, 2, 'd'), (4440068672, 1, 'h'), (4440073136, 2, 'j')],\n",
       " level=0,name=b,children=[(4440074240, 1, 'c'), (4440076112, 2, 'd'), (4440068672, 1, 'h'), (4440073136, 2, 'j')],\n",
       " level=0,name=g,children=[(4440074240, 1, 'c'), (4440076112, 2, 'd'), (4440068672, 1, 'h'), (4440073136, 2, 'j')],\n",
       " level=0,name=k,children=[(4440074240, 1, 'c'), (4440076112, 2, 'd'), (4440068672, 1, 'h'), (4440073136, 2, 'j')]]"
      ]
     },
     "execution_count": 21,
     "metadata": {},
     "output_type": "execute_result"
    }
   ],
   "source": [
    "\n",
    "@dataclass\n",
    "class Cap:\n",
    "    name: str\n",
    "    level: int\n",
    "    #parentCap =None\n",
    "    parent = None\n",
    "    children = []\n",
    "    \n",
    "    def __repr__(self) -> str:\n",
    "        return f\"level={self.level},name={self.name},children={[(id(c), c.level, c.name)for c in self.children]}\"\n",
    "        #return f\"level={self.level} - name={self.name}\"\n",
    "\n",
    "prevLevel = -1\n",
    "prevCap = None\n",
    "parentLevelCap: Cap = None\n",
    "capStack = []\n",
    "\n",
    "    \n",
    "pl = []\n",
    "nb_caps = len(caps)-1\n",
    "\n",
    "for i,(level,name) in enumerate(caps):\n",
    "    cap = Cap(name,level)    \n",
    "    if level ==0:\n",
    "        pl.append(cap)\n",
    "        if len(capStack)>0:\n",
    "            capStack=[]           \n",
    "        capStack.append(cap)            \n",
    "    elif level > prevLevel:       \n",
    "        capStack[-1].children.append(cap)                \n",
    "        capStack.append(cap)\n",
    "    elif level < prevLevel:\n",
    "        capStack = capStack[:level]\n",
    "        capStack.append(cap)\n",
    "    elif level == prevLevel:    \n",
    "        capStack = capStack[:level]\n",
    "        capStack.append(cap)\n",
    "    prevLevel = level\n",
    "    #prevCap = cap    \n",
    "    #capStack.append(cap)      \n",
    "    print(\">>\",[(id(c), c) for c in capStack])        \n",
    "\n",
    "pl        "
   ]
  },
  {
   "cell_type": "code",
   "execution_count": 6,
   "metadata": {},
   "outputs": [
    {
     "ename": "IndexError",
     "evalue": "list index out of range",
     "output_type": "error",
     "traceback": [
      "\u001b[0;31m---------------------------------------------------------------------------\u001b[0m",
      "\u001b[0;31mIndexError\u001b[0m                                Traceback (most recent call last)",
      "Cell \u001b[0;32mIn [6], line 4\u001b[0m\n\u001b[1;32m      2\u001b[0m x[:\u001b[39m2\u001b[39m]\n\u001b[1;32m      3\u001b[0m \u001b[39mlen\u001b[39m(caps)\n\u001b[0;32m----> 4\u001b[0m caps[\u001b[39m11\u001b[39m]\n",
      "\u001b[0;31mIndexError\u001b[0m: list index out of range"
     ]
    }
   ],
   "source": [
    "x = [0,1,2,3,4]\n",
    "x[:2]\n",
    "len(caps)\n",
    "caps[11]\n"
   ]
  },
  {
   "cell_type": "code",
   "execution_count": 4,
   "metadata": {},
   "outputs": [
    {
     "name": "stdout",
     "output_type": "stream",
     "text": [
      ">> [level=0,name=a,childrens=[]]\n",
      ">> [level=0,name=b,childrens=[]]\n",
      ">> [level=0,name=b,childrens=[], level=1,name=c,childrens=[]]\n",
      ">> [level=0,name=b,childrens=[], level=1,name=c,childrens=[], level=2,name=d,childrens=[]]\n",
      ">> [level=0,name=b,childrens=[], level=1,name=c,childrens=[], level=2,name=e,childrens=[]]\n",
      ">> [level=0,name=b,childrens=[], level=1,name=f,childrens=[]]\n",
      ">> [level=0,name=g,childrens=[]]\n",
      ">> [level=0,name=g,childrens=[], level=1,name=h,childrens=[]]\n",
      ">> [level=0,name=g,childrens=[], level=1,name=i,childrens=[]]\n",
      ">> [level=0,name=g,childrens=[], level=1,name=i,childrens=[], level=2,name=j,childrens=[]]\n",
      ">> [level=0,name=k,childrens=[]]\n"
     ]
    }
   ],
   "source": []
  },
  {
   "cell_type": "code",
   "execution_count": null,
   "metadata": {},
   "outputs": [],
   "source": []
  }
 ],
 "metadata": {
  "kernelspec": {
   "display_name": "Python 3",
   "language": "python",
   "name": "python3"
  },
  "language_info": {
   "codemirror_mode": {
    "name": "ipython",
    "version": 3
   },
   "file_extension": ".py",
   "mimetype": "text/x-python",
   "name": "python",
   "nbconvert_exporter": "python",
   "pygments_lexer": "ipython3",
   "version": "3.10.10"
  },
  "orig_nbformat": 4,
  "vscode": {
   "interpreter": {
    "hash": "b0fa6594d8f4cbf19f97940f81e996739fb7646882a419484c72d19e05852a7e"
   }
  }
 },
 "nbformat": 4,
 "nbformat_minor": 2
}
