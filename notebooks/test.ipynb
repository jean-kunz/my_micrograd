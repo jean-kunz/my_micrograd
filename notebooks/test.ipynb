{
 "cells": [
  {
   "cell_type": "code",
   "execution_count": 1,
   "metadata": {},
   "outputs": [],
   "source": [
    "from dataclasses import dataclass"
   ]
  },
  {
   "cell_type": "code",
   "execution_count": 2,
   "metadata": {},
   "outputs": [
    {
     "data": {
      "text/plain": [
       "[(0, 'a'),\n",
       " (0, 'b'),\n",
       " (1, 'c'),\n",
       " (2, 'd'),\n",
       " (2, 'e'),\n",
       " (1, 'f'),\n",
       " (0, 'g'),\n",
       " (1, 'h'),\n",
       " (1, 'i'),\n",
       " (2, 'j'),\n",
       " (0, 'k')]"
      ]
     },
     "execution_count": 2,
     "metadata": {},
     "output_type": "execute_result"
    }
   ],
   "source": [
    "#%%\n",
    "levels = [0,0,1,2,2,1,0,1,1,2,0]\n",
    "ids = ['a','b','c','d','e','f','g','h','i','j','k']\n",
    "caps = [(l, ids[i]) for i, l in enumerate(levels)]\n",
    "caps\n"
   ]
  },
  {
   "cell_type": "code",
   "execution_count": 56,
   "metadata": {},
   "outputs": [
    {
     "name": "stdout",
     "output_type": "stream",
     "text": [
      ">> [level=0,name=a,childs=[]]\n",
      ">> [level=0,name=b,childs=[]]\n",
      ">> [level=0,name=b,childs=[], level=1,name=c,childs=[]]\n",
      ">> [level=0,name=b,childs=[], level=1,name=c,childs=[], level=2,name=d,childs=[]]\n",
      ">> [level=0,name=b,childs=[], level=1,name=c,childs=[], level=2,name=e,childs=[]]\n",
      ">> [level=0,name=b,childs=[], level=1,name=f,childs=[]]\n"
     ]
    }
   ],
   "source": [
    "\n",
    "@dataclass\n",
    "class Cap:\n",
    "    name: str\n",
    "    level: int\n",
    "    #parentCap =None\n",
    "    parent = None\n",
    "    children = []\n",
    "    \n",
    "    def __repr__(self) -> str:\n",
    "        return f\"level={self.level},name={self.name},childs={[(c.level, c.name)for c in self.children]}\"\n",
    "        #return f\"level={self.level} - name={self.name}\"\n",
    "\n",
    "prevLevel = -1\n",
    "prevCap = None\n",
    "#upperLevelCap: Cap = None\n",
    "capStack = []\n",
    "\n",
    "    \n",
    "pl = []\n",
    "for i,(level,name) in enumerate(caps):\n",
    "    cap = Cap(name,level)    \n",
    "    if level ==0:\n",
    "        pl.append(cap)\n",
    "        if len(capStack)>0:\n",
    "            capStack[:level]           \n",
    "        capStack.append(cap)            \n",
    "    elif level > prevLevel:\n",
    "        ...\n",
    "        capStack.append(cap)\n",
    "        #prevCap.children.append(cap)        \n",
    "    elif level < prevLevel:\n",
    "        capStack = capStack[:level]\n",
    "        capStack.append(cap)\n",
    "    elif level == prevLevel:    \n",
    "        capStack = capStack[:level]\n",
    "        capStack.append(cap)\n",
    "    prevLevel = level\n",
    "    prevCap = cap        \n",
    "    print(\">>\",capStack)\n",
    "\n",
    "pl        "
   ]
  },
  {
   "cell_type": "code",
   "execution_count": 50,
   "metadata": {},
   "outputs": [
    {
     "data": {
      "text/plain": [
       "[0, 1]"
      ]
     },
     "execution_count": 50,
     "metadata": {},
     "output_type": "execute_result"
    }
   ],
   "source": [
    "x = [0,1,2,3,4]\n",
    "x[:2]\n"
   ]
  },
  {
   "cell_type": "code",
   "execution_count": null,
   "metadata": {},
   "outputs": [],
   "source": []
  }
 ],
 "metadata": {
  "kernelspec": {
   "display_name": "Python 3",
   "language": "python",
   "name": "python3"
  },
  "language_info": {
   "codemirror_mode": {
    "name": "ipython",
    "version": 3
   },
   "file_extension": ".py",
   "mimetype": "text/x-python",
   "name": "python",
   "nbconvert_exporter": "python",
   "pygments_lexer": "ipython3",
   "version": "3.10.9"
  },
  "orig_nbformat": 4,
  "vscode": {
   "interpreter": {
    "hash": "b0fa6594d8f4cbf19f97940f81e996739fb7646882a419484c72d19e05852a7e"
   }
  }
 },
 "nbformat": 4,
 "nbformat_minor": 2
}
