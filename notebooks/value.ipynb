{
 "cells": [
  {
   "attachments": {},
   "cell_type": "markdown",
   "metadata": {},
   "source": [
    "# Value based computations\n"
   ]
  },
  {
   "cell_type": "code",
   "execution_count": 1,
   "metadata": {},
   "outputs": [],
   "source": [
    "#| default_exp explore"
   ]
  },
  {
   "cell_type": "code",
   "execution_count": 2,
   "metadata": {},
   "outputs": [],
   "source": [
    "#| export\n",
    "import numpy as np\n",
    "from graphviz import Digraph\n",
    "import math"
   ]
  },
  {
   "cell_type": "code",
   "execution_count": 3,
   "metadata": {},
   "outputs": [],
   "source": [
    "def trace(root):\n",
    "    nodes, edges = set(), set()\n",
    "    def build(v):\n",
    "        if v not in nodes:\n",
    "            nodes.add(v)\n",
    "            for child in v._prev:\n",
    "                edges.add((child, v))\n",
    "                build(child)\n",
    "    build(root)\n",
    "    return nodes, edges\n",
    "\n",
    "def draw_dot(root, format='svg', rankdir='LR'):\n",
    "    \"\"\"\n",
    "    format: png | svg | ...\n",
    "    rankdir: TB (top to bottom graph) | LR (left to right)\n",
    "    \"\"\"\n",
    "    assert rankdir in ['LR', 'TB']\n",
    "    nodes, edges = trace(root)\n",
    "    dot = Digraph(format=format, graph_attr={'rankdir': rankdir}) #, node_attr={'rankdir': 'TB'})\n",
    "    \n",
    "    for n in nodes:\n",
    "        dot.node(name=str(id(n)), label = \"{%s | data %.4f | grad %.4f }\" % (n.label, n.data, n.grad), shape='record')\n",
    "        if n._op:\n",
    "            dot.node(name=str(id(n)) + n._op, label=n._op)\n",
    "            dot.edge(str(id(n)) + n._op, str(id(n)))\n",
    "    \n",
    "    for n1, n2 in edges:\n",
    "        dot.edge(str(id(n1)), str(id(n2)) + n2._op)\n",
    "    \n",
    "    return dot"
   ]
  },
  {
   "cell_type": "code",
   "execution_count": 47,
   "metadata": {},
   "outputs": [],
   "source": [
    "#| export \n",
    "class Value:\n",
    "    \n",
    "    def __init__(self, data: float, _prev:set=(), _op: str='', label='') -> None:\n",
    "        self.data = data\n",
    "        self._prev = _prev\n",
    "        self._backward = lambda: None\n",
    "        self._op = _op\n",
    "        self.label = label\n",
    "        self.grad: float = 0.\n",
    "        \n",
    "    def __repr__(self) -> str:\n",
    "        return f\"Value({self.data = }, {self.grad=}, {self.label = })\"\n",
    "    \n",
    "    def __add__(self, other):\n",
    "        other = other if isinstance(other, Value) else (Value(other))\n",
    "        out = Value(self.data + other.data, _prev=(self,other),_op='+')\n",
    "        \n",
    "        def _backward():\n",
    "            # we do += to manage the case where we add with itself and it overrides the gradient. So we always add grad. \n",
    "            self.grad += 1. * out.grad\n",
    "            other.grad += 1. * out.grad\n",
    "        out._backward = _backward\n",
    "        \n",
    "        return out\n",
    "    \n",
    "    def __radd__(self, other):\n",
    "        return self + other\n",
    "    \n",
    "    def __neg__(self):\n",
    "        return self *-1\n",
    "    \n",
    "    def __sub__(self, other):\n",
    "        return self + (-other)\n",
    "        \n",
    "    \n",
    "    def __mul__(self, other):\n",
    "        other = other if isinstance(other, Value) else (Value(other))\n",
    "        out =  Value(self.data * other.data, _prev=(self,other),_op='*')\n",
    "    \n",
    "        def _backward():\n",
    "            self.grad += other.data * out.grad\n",
    "            other.grad += self.data * out.grad            \n",
    "        out._backward = _backward\n",
    "        return out\n",
    "    \n",
    "    def __rmul__(self, other):\n",
    "        return self * other\n",
    "    \n",
    "    def __truediv__(self, other):\n",
    "        return self * (other**-1)\n",
    "    \n",
    "    def __pow__(self, other):\n",
    "        assert isinstance(other, (int, float)), \"Other should be either int or float\"\n",
    "        out = Value(self.data**other, _prev=(self,), _op='**')\n",
    "        \n",
    "        def _backward():\n",
    "            self.grad += other * (self.data**(other-1)) * out.grad\n",
    "            \n",
    "        out._backward = _backward\n",
    "        \n",
    "        return out\n",
    "        \n",
    "    \n",
    "    def exp(self):\n",
    "        x = self.data\n",
    "        out = Value(math.exp(x), _prev=(self,), _op='exp')\n",
    "        \n",
    "        def _backward():\n",
    "            self.grad += out.data * out.grad\n",
    "        out._backward = _backward\n",
    "        \n",
    "        return out\n",
    "        \n",
    "        \n",
    "    \n",
    "    def tanh(self):\n",
    "        x = self.data\n",
    "        n = (1-math.exp(-2*x))/(1+math.exp(-2*x))\n",
    "        out = Value(n, _prev=(self,), _op='tanh')\n",
    "        \n",
    "        def _backward():\n",
    "            self.grad += (1-n**2) * out.grad\n",
    "        \n",
    "        out._backward = _backward\n",
    "        \n",
    "        return out\n",
    "    \n",
    "    \n",
    "    \n",
    "    \n",
    "    def backward(self):\n",
    "        topo = []\n",
    "        visited = set()\n",
    "\n",
    "        def build_topo(node: Value):\n",
    "            if node not in visited:\n",
    "                visited.add(node)\n",
    "                for prev in node._prev:\n",
    "                    build_topo(prev)\n",
    "                topo.append(node)\n",
    "\n",
    "        build_topo(self) \n",
    "        topo  \n",
    "        self.grad = 1.\n",
    "        for node in reversed(topo):\n",
    "            node._backward()"
   ]
  },
  {
   "cell_type": "code",
   "execution_count": 48,
   "metadata": {},
   "outputs": [
    {
     "data": {
      "image/svg+xml": "<?xml version=\"1.0\" encoding=\"UTF-8\" standalone=\"no\"?>\n<!DOCTYPE svg PUBLIC \"-//W3C//DTD SVG 1.1//EN\"\n \"http://www.w3.org/Graphics/SVG/1.1/DTD/svg11.dtd\">\n<!-- Generated by graphviz version 7.0.6 (20230106.0513)\n -->\n<!-- Pages: 1 -->\n<svg width=\"826pt\" height=\"128pt\"\n viewBox=\"0.00 0.00 826.00 128.00\" xmlns=\"http://www.w3.org/2000/svg\" xmlns:xlink=\"http://www.w3.org/1999/xlink\">\n<g id=\"graph0\" class=\"graph\" transform=\"scale(1 1) rotate(0) translate(4 124)\">\n<polygon fill=\"white\" stroke=\"none\" points=\"-4,4 -4,-124 822,-124 822,4 -4,4\"/>\n<!-- 4520683568 -->\n<g id=\"node1\" class=\"node\">\n<title>4520683568</title>\n<polygon fill=\"none\" stroke=\"black\" points=\"1,-83.5 1,-119.5 188,-119.5 188,-83.5 1,-83.5\"/>\n<text text-anchor=\"middle\" x=\"11\" y=\"-97.8\" font-family=\"Times,serif\" font-size=\"14.00\"> </text>\n<polyline fill=\"none\" stroke=\"black\" points=\"21,-83.5 21,-119.5\"/>\n<text text-anchor=\"middle\" x=\"63.5\" y=\"-97.8\" font-family=\"Times,serif\" font-size=\"14.00\">data &#45;1.0000</text>\n<polyline fill=\"none\" stroke=\"black\" points=\"106,-83.5 106,-119.5\"/>\n<text text-anchor=\"middle\" x=\"147\" y=\"-97.8\" font-family=\"Times,serif\" font-size=\"14.00\">grad 4.0000</text>\n</g>\n<!-- 4520684288* -->\n<g id=\"node5\" class=\"node\">\n<title>4520684288*</title>\n<ellipse fill=\"none\" stroke=\"black\" cx=\"252\" cy=\"-73.5\" rx=\"27\" ry=\"18\"/>\n<text text-anchor=\"middle\" x=\"252\" y=\"-69.8\" font-family=\"Times,serif\" font-size=\"14.00\">*</text>\n</g>\n<!-- 4520683568&#45;&gt;4520684288* -->\n<g id=\"edge4\" class=\"edge\">\n<title>4520683568&#45;&gt;4520684288*</title>\n<path fill=\"none\" stroke=\"black\" d=\"M187.75,-84.89C197.07,-83.21 206.09,-81.59 214.27,-80.11\"/>\n<polygon fill=\"black\" stroke=\"black\" points=\"214.87,-83.56 224.09,-78.34 213.63,-76.67 214.87,-83.56\"/>\n</g>\n<!-- 4520681600 -->\n<g id=\"node2\" class=\"node\">\n<title>4520681600</title>\n<polygon fill=\"none\" stroke=\"black\" points=\"628,-27.5 628,-63.5 818,-63.5 818,-27.5 628,-27.5\"/>\n<text text-anchor=\"middle\" x=\"639.5\" y=\"-41.8\" font-family=\"Times,serif\" font-size=\"14.00\">c</text>\n<polyline fill=\"none\" stroke=\"black\" points=\"651,-27.5 651,-63.5\"/>\n<text text-anchor=\"middle\" x=\"693.5\" y=\"-41.8\" font-family=\"Times,serif\" font-size=\"14.00\">data &#45;2.0000</text>\n<polyline fill=\"none\" stroke=\"black\" points=\"736,-27.5 736,-63.5\"/>\n<text text-anchor=\"middle\" x=\"777\" y=\"-41.8\" font-family=\"Times,serif\" font-size=\"14.00\">grad 1.0000</text>\n</g>\n<!-- 4520681600+ -->\n<g id=\"node3\" class=\"node\">\n<title>4520681600+</title>\n<ellipse fill=\"none\" stroke=\"black\" cx=\"565\" cy=\"-45.5\" rx=\"27\" ry=\"18\"/>\n<text text-anchor=\"middle\" x=\"565\" y=\"-41.8\" font-family=\"Times,serif\" font-size=\"14.00\">+</text>\n</g>\n<!-- 4520681600+&#45;&gt;4520681600 -->\n<g id=\"edge1\" class=\"edge\">\n<title>4520681600+&#45;&gt;4520681600</title>\n<path fill=\"none\" stroke=\"black\" d=\"M592.46,-45.5C599.68,-45.5 607.95,-45.5 616.76,-45.5\"/>\n<polygon fill=\"black\" stroke=\"black\" points=\"616.64,-49 626.64,-45.5 616.64,-42 616.64,-49\"/>\n</g>\n<!-- 4520684288 -->\n<g id=\"node4\" class=\"node\">\n<title>4520684288</title>\n<polygon fill=\"none\" stroke=\"black\" points=\"315,-55.5 315,-91.5 502,-91.5 502,-55.5 315,-55.5\"/>\n<text text-anchor=\"middle\" x=\"325\" y=\"-69.8\" font-family=\"Times,serif\" font-size=\"14.00\"> </text>\n<polyline fill=\"none\" stroke=\"black\" points=\"335,-55.5 335,-91.5\"/>\n<text text-anchor=\"middle\" x=\"377.5\" y=\"-69.8\" font-family=\"Times,serif\" font-size=\"14.00\">data &#45;4.0000</text>\n<polyline fill=\"none\" stroke=\"black\" points=\"420,-55.5 420,-91.5\"/>\n<text text-anchor=\"middle\" x=\"461\" y=\"-69.8\" font-family=\"Times,serif\" font-size=\"14.00\">grad 1.0000</text>\n</g>\n<!-- 4520684288&#45;&gt;4520681600+ -->\n<g id=\"edge3\" class=\"edge\">\n<title>4520684288&#45;&gt;4520681600+</title>\n<path fill=\"none\" stroke=\"black\" d=\"M501.6,-56.81C510.72,-55.16 519.55,-53.56 527.56,-52.1\"/>\n<polygon fill=\"black\" stroke=\"black\" points=\"527.94,-55.59 537.16,-50.36 526.7,-48.7 527.94,-55.59\"/>\n</g>\n<!-- 4520684288*&#45;&gt;4520684288 -->\n<g id=\"edge2\" class=\"edge\">\n<title>4520684288*&#45;&gt;4520684288</title>\n<path fill=\"none\" stroke=\"black\" d=\"M279.21,-73.5C286.47,-73.5 294.83,-73.5 303.71,-73.5\"/>\n<polygon fill=\"black\" stroke=\"black\" points=\"303.7,-77 313.7,-73.5 303.7,-70 303.7,-77\"/>\n</g>\n<!-- 4520682944 -->\n<g id=\"node6\" class=\"node\">\n<title>4520682944</title>\n<polygon fill=\"none\" stroke=\"black\" points=\"0,-28.5 0,-64.5 189,-64.5 189,-28.5 0,-28.5\"/>\n<text text-anchor=\"middle\" x=\"11.5\" y=\"-42.8\" font-family=\"Times,serif\" font-size=\"14.00\">b</text>\n<polyline fill=\"none\" stroke=\"black\" points=\"23,-28.5 23,-64.5\"/>\n<text text-anchor=\"middle\" x=\"63\" y=\"-42.8\" font-family=\"Times,serif\" font-size=\"14.00\">data 4.0000</text>\n<polyline fill=\"none\" stroke=\"black\" points=\"103,-28.5 103,-64.5\"/>\n<text text-anchor=\"middle\" x=\"146\" y=\"-42.8\" font-family=\"Times,serif\" font-size=\"14.00\">grad &#45;1.0000</text>\n</g>\n<!-- 4520682944&#45;&gt;4520684288* -->\n<g id=\"edge6\" class=\"edge\">\n<title>4520682944&#45;&gt;4520684288*</title>\n<path fill=\"none\" stroke=\"black\" d=\"M188.65,-62.67C197.58,-64.22 206.23,-65.73 214.11,-67.09\"/>\n<polygon fill=\"black\" stroke=\"black\" points=\"213.45,-70.53 223.9,-68.79 214.64,-63.63 213.45,-70.53\"/>\n</g>\n<!-- 4520681456 -->\n<g id=\"node7\" class=\"node\">\n<title>4520681456</title>\n<polygon fill=\"none\" stroke=\"black\" points=\"316,-0.5 316,-36.5 501,-36.5 501,-0.5 316,-0.5\"/>\n<text text-anchor=\"middle\" x=\"327.5\" y=\"-14.8\" font-family=\"Times,serif\" font-size=\"14.00\">a</text>\n<polyline fill=\"none\" stroke=\"black\" points=\"339,-0.5 339,-36.5\"/>\n<text text-anchor=\"middle\" x=\"379\" y=\"-14.8\" font-family=\"Times,serif\" font-size=\"14.00\">data 2.0000</text>\n<polyline fill=\"none\" stroke=\"black\" points=\"419,-0.5 419,-36.5\"/>\n<text text-anchor=\"middle\" x=\"460\" y=\"-14.8\" font-family=\"Times,serif\" font-size=\"14.00\">grad 1.0000</text>\n</g>\n<!-- 4520681456&#45;&gt;4520681600+ -->\n<g id=\"edge5\" class=\"edge\">\n<title>4520681456&#45;&gt;4520681600+</title>\n<path fill=\"none\" stroke=\"black\" d=\"M500.71,-34.44C510.02,-36.07 519.04,-37.64 527.23,-39.07\"/>\n<polygon fill=\"black\" stroke=\"black\" points=\"526.6,-42.52 537.05,-40.79 527.81,-35.62 526.6,-42.52\"/>\n</g>\n</g>\n</svg>\n",
      "text/plain": [
       "<graphviz.graphs.Digraph at 0x10d742680>"
      ]
     },
     "execution_count": 48,
     "metadata": {},
     "output_type": "execute_result"
    }
   ],
   "source": [
    "a = Value(2., label='a')\n",
    "b = Value(4., label='b')\n",
    "#a+1\n",
    "#a*2\n",
    "2*a\n",
    "#1*a\n",
    "#1+a\n",
    "#a.exp()\n",
    "#a/b\n",
    "c=a-b; c.label='c'\n",
    "\n",
    "c.backward()\n",
    "draw_dot(c)"
   ]
  },
  {
   "cell_type": "code",
   "execution_count": 49,
   "metadata": {},
   "outputs": [
    {
     "data": {
      "image/svg+xml": "<?xml version=\"1.0\" encoding=\"UTF-8\" standalone=\"no\"?>\n<!DOCTYPE svg PUBLIC \"-//W3C//DTD SVG 1.1//EN\"\n \"http://www.w3.org/Graphics/SVG/1.1/DTD/svg11.dtd\">\n<!-- Generated by graphviz version 7.0.6 (20230106.0513)\n -->\n<!-- Pages: 1 -->\n<svg width=\"2909pt\" height=\"236pt\"\n viewBox=\"0.00 0.00 2909.00 236.00\" xmlns=\"http://www.w3.org/2000/svg\" xmlns:xlink=\"http://www.w3.org/1999/xlink\">\n<g id=\"graph0\" class=\"graph\" transform=\"scale(1 1) rotate(0) translate(4 232)\">\n<polygon fill=\"white\" stroke=\"none\" points=\"-4,4 -4,-232 2905,-232 2905,4 -4,4\"/>\n<!-- 4520679440 -->\n<g id=\"node1\" class=\"node\">\n<title>4520679440</title>\n<polygon fill=\"none\" stroke=\"black\" points=\"2716,-135.5 2716,-171.5 2901,-171.5 2901,-135.5 2716,-135.5\"/>\n<text text-anchor=\"middle\" x=\"2727.5\" y=\"-149.8\" font-family=\"Times,serif\" font-size=\"14.00\">o</text>\n<polyline fill=\"none\" stroke=\"black\" points=\"2739,-135.5 2739,-171.5\"/>\n<text text-anchor=\"middle\" x=\"2779\" y=\"-149.8\" font-family=\"Times,serif\" font-size=\"14.00\">data 0.7071</text>\n<polyline fill=\"none\" stroke=\"black\" points=\"2819,-135.5 2819,-171.5\"/>\n<text text-anchor=\"middle\" x=\"2860\" y=\"-149.8\" font-family=\"Times,serif\" font-size=\"14.00\">grad 1.0000</text>\n</g>\n<!-- 4520679440* -->\n<g id=\"node2\" class=\"node\">\n<title>4520679440*</title>\n<ellipse fill=\"none\" stroke=\"black\" cx=\"2653\" cy=\"-153.5\" rx=\"27\" ry=\"18\"/>\n<text text-anchor=\"middle\" x=\"2653\" y=\"-149.8\" font-family=\"Times,serif\" font-size=\"14.00\">*</text>\n</g>\n<!-- 4520679440*&#45;&gt;4520679440 -->\n<g id=\"edge1\" class=\"edge\">\n<title>4520679440*&#45;&gt;4520679440</title>\n<path fill=\"none\" stroke=\"black\" d=\"M2680.39,-153.5C2687.62,-153.5 2695.92,-153.5 2704.74,-153.5\"/>\n<polygon fill=\"black\" stroke=\"black\" points=\"2704.64,-157 2714.64,-153.5 2704.64,-150 2704.64,-157\"/>\n</g>\n<!-- 4520678432 -->\n<g id=\"node3\" class=\"node\">\n<title>4520678432</title>\n<polygon fill=\"none\" stroke=\"black\" points=\"0,-165.5 0,-201.5 200,-201.5 200,-165.5 0,-165.5\"/>\n<text text-anchor=\"middle\" x=\"16.5\" y=\"-179.8\" font-family=\"Times,serif\" font-size=\"14.00\">w1</text>\n<polyline fill=\"none\" stroke=\"black\" points=\"33,-165.5 33,-201.5\"/>\n<text text-anchor=\"middle\" x=\"75.5\" y=\"-179.8\" font-family=\"Times,serif\" font-size=\"14.00\">data &#45;3.0000</text>\n<polyline fill=\"none\" stroke=\"black\" points=\"118,-165.5 118,-201.5\"/>\n<text text-anchor=\"middle\" x=\"159\" y=\"-179.8\" font-family=\"Times,serif\" font-size=\"14.00\">grad 1.0000</text>\n</g>\n<!-- 4520686208* -->\n<g id=\"node7\" class=\"node\">\n<title>4520686208*</title>\n<ellipse fill=\"none\" stroke=\"black\" cx=\"263\" cy=\"-128.5\" rx=\"27\" ry=\"18\"/>\n<text text-anchor=\"middle\" x=\"263\" y=\"-124.8\" font-family=\"Times,serif\" font-size=\"14.00\">*</text>\n</g>\n<!-- 4520678432&#45;&gt;4520686208* -->\n<g id=\"edge12\" class=\"edge\">\n<title>4520678432&#45;&gt;4520686208*</title>\n<path fill=\"none\" stroke=\"black\" d=\"M172.27,-165.52C181.67,-162.72 191.12,-159.7 200,-156.5 210.09,-152.87 220.83,-148.29 230.48,-143.89\"/>\n<polygon fill=\"black\" stroke=\"black\" points=\"231.87,-147.11 239.45,-139.71 228.91,-140.76 231.87,-147.11\"/>\n</g>\n<!-- 4520682512 -->\n<g id=\"node4\" class=\"node\">\n<title>4520682512</title>\n<polygon fill=\"none\" stroke=\"black\" points=\"695.5,-137.5 695.5,-173.5 880.5,-173.5 880.5,-137.5 695.5,-137.5\"/>\n<text text-anchor=\"middle\" x=\"707\" y=\"-151.8\" font-family=\"Times,serif\" font-size=\"14.00\">b</text>\n<polyline fill=\"none\" stroke=\"black\" points=\"718.5,-137.5 718.5,-173.5\"/>\n<text text-anchor=\"middle\" x=\"758.5\" y=\"-151.8\" font-family=\"Times,serif\" font-size=\"14.00\">data 6.8814</text>\n<polyline fill=\"none\" stroke=\"black\" points=\"798.5,-137.5 798.5,-173.5\"/>\n<text text-anchor=\"middle\" x=\"839.5\" y=\"-151.8\" font-family=\"Times,serif\" font-size=\"14.00\">grad 0.5000</text>\n</g>\n<!-- 4520682368+ -->\n<g id=\"node20\" class=\"node\">\n<title>4520682368+</title>\n<ellipse fill=\"none\" stroke=\"black\" cx=\"973\" cy=\"-127.5\" rx=\"27\" ry=\"18\"/>\n<text text-anchor=\"middle\" x=\"973\" y=\"-123.8\" font-family=\"Times,serif\" font-size=\"14.00\">+</text>\n</g>\n<!-- 4520682512&#45;&gt;4520682368+ -->\n<g id=\"edge21\" class=\"edge\">\n<title>4520682512&#45;&gt;4520682368+</title>\n<path fill=\"none\" stroke=\"black\" d=\"M880.5,-141.5C899.91,-138.53 919.33,-135.56 935.25,-133.12\"/>\n<polygon fill=\"black\" stroke=\"black\" points=\"935.32,-136.65 944.67,-131.68 934.26,-129.73 935.32,-136.65\"/>\n</g>\n<!-- 4520674880 -->\n<g id=\"node5\" class=\"node\">\n<title>4520674880</title>\n<polygon fill=\"none\" stroke=\"black\" points=\"1655.5,-191.5 1655.5,-227.5 1841.5,-227.5 1841.5,-191.5 1655.5,-191.5\"/>\n<text text-anchor=\"middle\" x=\"1665.5\" y=\"-205.8\" font-family=\"Times,serif\" font-size=\"14.00\"> </text>\n<polyline fill=\"none\" stroke=\"black\" points=\"1675.5,-191.5 1675.5,-227.5\"/>\n<text text-anchor=\"middle\" x=\"1715.5\" y=\"-205.8\" font-family=\"Times,serif\" font-size=\"14.00\">data 1.0000</text>\n<polyline fill=\"none\" stroke=\"black\" points=\"1755.5,-191.5 1755.5,-227.5\"/>\n<text text-anchor=\"middle\" x=\"1798.5\" y=\"-205.8\" font-family=\"Times,serif\" font-size=\"14.00\">grad &#45;0.1036</text>\n</g>\n<!-- 4520674784+ -->\n<g id=\"node13\" class=\"node\">\n<title>4520674784+</title>\n<ellipse fill=\"none\" stroke=\"black\" cx=\"1905\" cy=\"-181.5\" rx=\"27\" ry=\"18\"/>\n<text text-anchor=\"middle\" x=\"1905\" y=\"-177.8\" font-family=\"Times,serif\" font-size=\"14.00\">+</text>\n</g>\n<!-- 4520674880&#45;&gt;4520674784+ -->\n<g id=\"edge11\" class=\"edge\">\n<title>4520674880&#45;&gt;4520674784+</title>\n<path fill=\"none\" stroke=\"black\" d=\"M1841.16,-192.89C1850.33,-191.23 1859.21,-189.62 1867.28,-188.15\"/>\n<polygon fill=\"black\" stroke=\"black\" points=\"1867.74,-191.63 1876.95,-186.4 1866.49,-184.74 1867.74,-191.63\"/>\n</g>\n<!-- 4520686208 -->\n<g id=\"node6\" class=\"node\">\n<title>4520686208</title>\n<polygon fill=\"none\" stroke=\"black\" points=\"326,-110.5 326,-146.5 540,-146.5 540,-110.5 326,-110.5\"/>\n<text text-anchor=\"middle\" x=\"349.5\" y=\"-124.8\" font-family=\"Times,serif\" font-size=\"14.00\">x1w1</text>\n<polyline fill=\"none\" stroke=\"black\" points=\"373,-110.5 373,-146.5\"/>\n<text text-anchor=\"middle\" x=\"415.5\" y=\"-124.8\" font-family=\"Times,serif\" font-size=\"14.00\">data &#45;6.0000</text>\n<polyline fill=\"none\" stroke=\"black\" points=\"458,-110.5 458,-146.5\"/>\n<text text-anchor=\"middle\" x=\"499\" y=\"-124.8\" font-family=\"Times,serif\" font-size=\"14.00\">grad 0.5000</text>\n</g>\n<!-- 4520687072+ -->\n<g id=\"node27\" class=\"node\">\n<title>4520687072+</title>\n<ellipse fill=\"none\" stroke=\"black\" cx=\"603\" cy=\"-100.5\" rx=\"27\" ry=\"18\"/>\n<text text-anchor=\"middle\" x=\"603\" y=\"-96.8\" font-family=\"Times,serif\" font-size=\"14.00\">+</text>\n</g>\n<!-- 4520686208&#45;&gt;4520687072+ -->\n<g id=\"edge28\" class=\"edge\">\n<title>4520686208&#45;&gt;4520687072+</title>\n<path fill=\"none\" stroke=\"black\" d=\"M539.92,-110.85C548.88,-109.35 557.49,-107.92 565.29,-106.62\"/>\n<polygon fill=\"black\" stroke=\"black\" points=\"565.66,-110.1 574.95,-105.01 564.51,-103.2 565.66,-110.1\"/>\n</g>\n<!-- 4520686208*&#45;&gt;4520686208 -->\n<g id=\"edge2\" class=\"edge\">\n<title>4520686208*&#45;&gt;4520686208</title>\n<path fill=\"none\" stroke=\"black\" d=\"M290.25,-128.5C297.53,-128.5 305.94,-128.5 314.95,-128.5\"/>\n<polygon fill=\"black\" stroke=\"black\" points=\"314.69,-132 324.69,-128.5 314.69,-125 314.69,-132\"/>\n</g>\n<!-- 4520685200 -->\n<g id=\"node8\" class=\"node\">\n<title>4520685200</title>\n<polygon fill=\"none\" stroke=\"black\" points=\"328.5,-55.5 328.5,-91.5 537.5,-91.5 537.5,-55.5 328.5,-55.5\"/>\n<text text-anchor=\"middle\" x=\"352\" y=\"-69.8\" font-family=\"Times,serif\" font-size=\"14.00\">x2w2</text>\n<polyline fill=\"none\" stroke=\"black\" points=\"375.5,-55.5 375.5,-91.5\"/>\n<text text-anchor=\"middle\" x=\"415.5\" y=\"-69.8\" font-family=\"Times,serif\" font-size=\"14.00\">data 0.0000</text>\n<polyline fill=\"none\" stroke=\"black\" points=\"455.5,-55.5 455.5,-91.5\"/>\n<text text-anchor=\"middle\" x=\"496.5\" y=\"-69.8\" font-family=\"Times,serif\" font-size=\"14.00\">grad 0.5000</text>\n</g>\n<!-- 4520685200&#45;&gt;4520687072+ -->\n<g id=\"edge13\" class=\"edge\">\n<title>4520685200&#45;&gt;4520687072+</title>\n<path fill=\"none\" stroke=\"black\" d=\"M537.05,-90.06C547.04,-91.67 556.65,-93.21 565.28,-94.6\"/>\n<polygon fill=\"black\" stroke=\"black\" points=\"564.45,-98.01 574.88,-96.14 565.56,-91.1 564.45,-98.01\"/>\n</g>\n<!-- 4520685200* -->\n<g id=\"node9\" class=\"node\">\n<title>4520685200*</title>\n<ellipse fill=\"none\" stroke=\"black\" cx=\"263\" cy=\"-73.5\" rx=\"27\" ry=\"18\"/>\n<text text-anchor=\"middle\" x=\"263\" y=\"-69.8\" font-family=\"Times,serif\" font-size=\"14.00\">*</text>\n</g>\n<!-- 4520685200*&#45;&gt;4520685200 -->\n<g id=\"edge3\" class=\"edge\">\n<title>4520685200*&#45;&gt;4520685200</title>\n<path fill=\"none\" stroke=\"black\" d=\"M290.25,-73.5C298.16,-73.5 307.4,-73.5 317.3,-73.5\"/>\n<polygon fill=\"black\" stroke=\"black\" points=\"317.2,-77 327.2,-73.5 317.2,-70 317.2,-77\"/>\n</g>\n<!-- 4520675024 -->\n<g id=\"node10\" class=\"node\">\n<title>4520675024</title>\n<polygon fill=\"none\" stroke=\"black\" points=\"1657.5,-136.5 1657.5,-172.5 1839.5,-172.5 1839.5,-136.5 1657.5,-136.5\"/>\n<text text-anchor=\"middle\" x=\"1667.5\" y=\"-150.8\" font-family=\"Times,serif\" font-size=\"14.00\"> </text>\n<polyline fill=\"none\" stroke=\"black\" points=\"1677.5,-136.5 1677.5,-172.5\"/>\n<text text-anchor=\"middle\" x=\"1717.5\" y=\"-150.8\" font-family=\"Times,serif\" font-size=\"14.00\">data 5.8284</text>\n<polyline fill=\"none\" stroke=\"black\" points=\"1757.5,-136.5 1757.5,-172.5\"/>\n<text text-anchor=\"middle\" x=\"1798.5\" y=\"-150.8\" font-family=\"Times,serif\" font-size=\"14.00\">grad 0.0429</text>\n</g>\n<!-- 4520675024&#45;&gt;4520674784+ -->\n<g id=\"edge14\" class=\"edge\">\n<title>4520675024&#45;&gt;4520674784+</title>\n<path fill=\"none\" stroke=\"black\" d=\"M1839.37,-170.21C1849.23,-171.93 1858.81,-173.6 1867.44,-175.11\"/>\n<polygon fill=\"black\" stroke=\"black\" points=\"1866.61,-178.52 1877.06,-176.79 1867.81,-171.62 1866.61,-178.52\"/>\n</g>\n<!-- 4520675264+ -->\n<g id=\"node25\" class=\"node\">\n<title>4520675264+</title>\n<ellipse fill=\"none\" stroke=\"black\" cx=\"1905\" cy=\"-126.5\" rx=\"27\" ry=\"18\"/>\n<text text-anchor=\"middle\" x=\"1905\" y=\"-122.8\" font-family=\"Times,serif\" font-size=\"14.00\">+</text>\n</g>\n<!-- 4520675024&#45;&gt;4520675264+ -->\n<g id=\"edge25\" class=\"edge\">\n<title>4520675024&#45;&gt;4520675264+</title>\n<path fill=\"none\" stroke=\"black\" d=\"M1839.37,-138.21C1849.23,-136.43 1858.81,-134.69 1867.44,-133.13\"/>\n<polygon fill=\"black\" stroke=\"black\" points=\"1867.85,-136.61 1877.06,-131.38 1866.6,-129.72 1867.85,-136.61\"/>\n</g>\n<!-- 4520675024exp -->\n<g id=\"node11\" class=\"node\">\n<title>4520675024exp</title>\n<ellipse fill=\"none\" stroke=\"black\" cx=\"1592\" cy=\"-154.5\" rx=\"27\" ry=\"18\"/>\n<text text-anchor=\"middle\" x=\"1592\" y=\"-150.8\" font-family=\"Times,serif\" font-size=\"14.00\">exp</text>\n</g>\n<!-- 4520675024exp&#45;&gt;4520675024 -->\n<g id=\"edge4\" class=\"edge\">\n<title>4520675024exp&#45;&gt;4520675024</title>\n<path fill=\"none\" stroke=\"black\" d=\"M1619.21,-154.5C1627.15,-154.5 1636.4,-154.5 1646.22,-154.5\"/>\n<polygon fill=\"black\" stroke=\"black\" points=\"1646.01,-158 1656.01,-154.5 1646.01,-151 1646.01,-158\"/>\n</g>\n<!-- 4520674784 -->\n<g id=\"node12\" class=\"node\">\n<title>4520674784</title>\n<polygon fill=\"none\" stroke=\"black\" points=\"1968,-163.5 1968,-199.5 2154,-199.5 2154,-163.5 1968,-163.5\"/>\n<text text-anchor=\"middle\" x=\"1978\" y=\"-177.8\" font-family=\"Times,serif\" font-size=\"14.00\"> </text>\n<polyline fill=\"none\" stroke=\"black\" points=\"1988,-163.5 1988,-199.5\"/>\n<text text-anchor=\"middle\" x=\"2028\" y=\"-177.8\" font-family=\"Times,serif\" font-size=\"14.00\">data 6.8284</text>\n<polyline fill=\"none\" stroke=\"black\" points=\"2068,-163.5 2068,-199.5\"/>\n<text text-anchor=\"middle\" x=\"2111\" y=\"-177.8\" font-family=\"Times,serif\" font-size=\"14.00\">grad &#45;0.1036</text>\n</g>\n<!-- 4520679872** -->\n<g id=\"node22\" class=\"node\">\n<title>4520679872**</title>\n<ellipse fill=\"none\" stroke=\"black\" cx=\"2281\" cy=\"-181.5\" rx=\"27\" ry=\"18\"/>\n<text text-anchor=\"middle\" x=\"2281\" y=\"-177.8\" font-family=\"Times,serif\" font-size=\"14.00\">**</text>\n</g>\n<!-- 4520674784&#45;&gt;4520679872** -->\n<g id=\"edge17\" class=\"edge\">\n<title>4520674784&#45;&gt;4520679872**</title>\n<path fill=\"none\" stroke=\"black\" d=\"M2153.82,-181.5C2185.02,-181.5 2218.15,-181.5 2242.62,-181.5\"/>\n<polygon fill=\"black\" stroke=\"black\" points=\"2242.39,-185 2252.39,-181.5 2242.39,-178 2242.39,-185\"/>\n</g>\n<!-- 4520674784+&#45;&gt;4520674784 -->\n<g id=\"edge5\" class=\"edge\">\n<title>4520674784+&#45;&gt;4520674784</title>\n<path fill=\"none\" stroke=\"black\" d=\"M1932.47,-181.5C1939.67,-181.5 1947.92,-181.5 1956.69,-181.5\"/>\n<polygon fill=\"black\" stroke=\"black\" points=\"1956.51,-185 1966.51,-181.5 1956.51,-178 1956.51,-185\"/>\n</g>\n<!-- 4520678144 -->\n<g id=\"node14\" class=\"node\">\n<title>4520678144</title>\n<polygon fill=\"none\" stroke=\"black\" points=\"2,-110.5 2,-146.5 198,-146.5 198,-110.5 2,-110.5\"/>\n<text text-anchor=\"middle\" x=\"17\" y=\"-124.8\" font-family=\"Times,serif\" font-size=\"14.00\">x1</text>\n<polyline fill=\"none\" stroke=\"black\" points=\"32,-110.5 32,-146.5\"/>\n<text text-anchor=\"middle\" x=\"72\" y=\"-124.8\" font-family=\"Times,serif\" font-size=\"14.00\">data 2.0000</text>\n<polyline fill=\"none\" stroke=\"black\" points=\"112,-110.5 112,-146.5\"/>\n<text text-anchor=\"middle\" x=\"155\" y=\"-124.8\" font-family=\"Times,serif\" font-size=\"14.00\">grad &#45;1.5000</text>\n</g>\n<!-- 4520678144&#45;&gt;4520686208* -->\n<g id=\"edge27\" class=\"edge\">\n<title>4520678144&#45;&gt;4520686208*</title>\n<path fill=\"none\" stroke=\"black\" d=\"M197.91,-128.5C207.21,-128.5 216.21,-128.5 224.38,-128.5\"/>\n<polygon fill=\"black\" stroke=\"black\" points=\"224.18,-132 234.18,-128.5 224.18,-125 224.18,-132\"/>\n</g>\n<!-- 4520688896 -->\n<g id=\"node15\" class=\"node\">\n<title>4520688896</title>\n<polygon fill=\"none\" stroke=\"black\" points=\"1037.5,-164.5 1037.5,-200.5 1219.5,-200.5 1219.5,-164.5 1037.5,-164.5\"/>\n<text text-anchor=\"middle\" x=\"1047.5\" y=\"-178.8\" font-family=\"Times,serif\" font-size=\"14.00\"> </text>\n<polyline fill=\"none\" stroke=\"black\" points=\"1057.5,-164.5 1057.5,-200.5\"/>\n<text text-anchor=\"middle\" x=\"1097.5\" y=\"-178.8\" font-family=\"Times,serif\" font-size=\"14.00\">data 2.0000</text>\n<polyline fill=\"none\" stroke=\"black\" points=\"1137.5,-164.5 1137.5,-200.5\"/>\n<text text-anchor=\"middle\" x=\"1178.5\" y=\"-178.8\" font-family=\"Times,serif\" font-size=\"14.00\">grad 0.2203</text>\n</g>\n<!-- 4520682800* -->\n<g id=\"node17\" class=\"node\">\n<title>4520682800*</title>\n<ellipse fill=\"none\" stroke=\"black\" cx=\"1284\" cy=\"-154.5\" rx=\"27\" ry=\"18\"/>\n<text text-anchor=\"middle\" x=\"1284\" y=\"-150.8\" font-family=\"Times,serif\" font-size=\"14.00\">*</text>\n</g>\n<!-- 4520688896&#45;&gt;4520682800* -->\n<g id=\"edge26\" class=\"edge\">\n<title>4520688896&#45;&gt;4520682800*</title>\n<path fill=\"none\" stroke=\"black\" d=\"M1219.24,-166.13C1228.78,-164.39 1238.05,-162.7 1246.42,-161.17\"/>\n<polygon fill=\"black\" stroke=\"black\" points=\"1246.91,-164.64 1256.12,-159.4 1245.66,-157.75 1246.91,-164.64\"/>\n</g>\n<!-- 4520682800 -->\n<g id=\"node16\" class=\"node\">\n<title>4520682800</title>\n<polygon fill=\"none\" stroke=\"black\" points=\"1347,-136.5 1347,-172.5 1529,-172.5 1529,-136.5 1347,-136.5\"/>\n<text text-anchor=\"middle\" x=\"1357\" y=\"-150.8\" font-family=\"Times,serif\" font-size=\"14.00\"> </text>\n<polyline fill=\"none\" stroke=\"black\" points=\"1367,-136.5 1367,-172.5\"/>\n<text text-anchor=\"middle\" x=\"1407\" y=\"-150.8\" font-family=\"Times,serif\" font-size=\"14.00\">data 1.7627</text>\n<polyline fill=\"none\" stroke=\"black\" points=\"1447,-136.5 1447,-172.5\"/>\n<text text-anchor=\"middle\" x=\"1488\" y=\"-150.8\" font-family=\"Times,serif\" font-size=\"14.00\">grad 0.2500</text>\n</g>\n<!-- 4520682800&#45;&gt;4520675024exp -->\n<g id=\"edge19\" class=\"edge\">\n<title>4520682800&#45;&gt;4520675024exp</title>\n<path fill=\"none\" stroke=\"black\" d=\"M1528.74,-154.5C1537.34,-154.5 1545.7,-154.5 1553.36,-154.5\"/>\n<polygon fill=\"black\" stroke=\"black\" points=\"1553.24,-158 1563.24,-154.5 1553.24,-151 1553.24,-158\"/>\n</g>\n<!-- 4520682800*&#45;&gt;4520682800 -->\n<g id=\"edge6\" class=\"edge\">\n<title>4520682800*&#45;&gt;4520682800</title>\n<path fill=\"none\" stroke=\"black\" d=\"M1311.48,-154.5C1318.71,-154.5 1327.01,-154.5 1335.82,-154.5\"/>\n<polygon fill=\"black\" stroke=\"black\" points=\"1335.69,-158 1345.69,-154.5 1335.69,-151 1335.69,-158\"/>\n</g>\n<!-- 4520675168 -->\n<g id=\"node18\" class=\"node\">\n<title>4520675168</title>\n<polygon fill=\"none\" stroke=\"black\" points=\"1655,-81.5 1655,-117.5 1842,-117.5 1842,-81.5 1655,-81.5\"/>\n<text text-anchor=\"middle\" x=\"1665\" y=\"-95.8\" font-family=\"Times,serif\" font-size=\"14.00\"> </text>\n<polyline fill=\"none\" stroke=\"black\" points=\"1675,-81.5 1675,-117.5\"/>\n<text text-anchor=\"middle\" x=\"1717.5\" y=\"-95.8\" font-family=\"Times,serif\" font-size=\"14.00\">data &#45;1.0000</text>\n<polyline fill=\"none\" stroke=\"black\" points=\"1760,-81.5 1760,-117.5\"/>\n<text text-anchor=\"middle\" x=\"1801\" y=\"-95.8\" font-family=\"Times,serif\" font-size=\"14.00\">grad 0.1464</text>\n</g>\n<!-- 4520675168&#45;&gt;4520675264+ -->\n<g id=\"edge24\" class=\"edge\">\n<title>4520675168&#45;&gt;4520675264+</title>\n<path fill=\"none\" stroke=\"black\" d=\"M1841.6,-115.6C1850.53,-117.16 1859.18,-118.67 1867.06,-120.04\"/>\n<polygon fill=\"black\" stroke=\"black\" points=\"1866.4,-123.48 1876.86,-121.76 1867.61,-116.59 1866.4,-123.48\"/>\n</g>\n<!-- 4520682368 -->\n<g id=\"node19\" class=\"node\">\n<title>4520682368</title>\n<polygon fill=\"none\" stroke=\"black\" points=\"1036,-109.5 1036,-145.5 1221,-145.5 1221,-109.5 1036,-109.5\"/>\n<text text-anchor=\"middle\" x=\"1047.5\" y=\"-123.8\" font-family=\"Times,serif\" font-size=\"14.00\">n</text>\n<polyline fill=\"none\" stroke=\"black\" points=\"1059,-109.5 1059,-145.5\"/>\n<text text-anchor=\"middle\" x=\"1099\" y=\"-123.8\" font-family=\"Times,serif\" font-size=\"14.00\">data 0.8814</text>\n<polyline fill=\"none\" stroke=\"black\" points=\"1139,-109.5 1139,-145.5\"/>\n<text text-anchor=\"middle\" x=\"1180\" y=\"-123.8\" font-family=\"Times,serif\" font-size=\"14.00\">grad 0.5000</text>\n</g>\n<!-- 4520682368&#45;&gt;4520682800* -->\n<g id=\"edge15\" class=\"edge\">\n<title>4520682368&#45;&gt;4520682800*</title>\n<path fill=\"none\" stroke=\"black\" d=\"M1220.57,-143.52C1229.67,-145.12 1238.5,-146.67 1246.52,-148.08\"/>\n<polygon fill=\"black\" stroke=\"black\" points=\"1245.66,-151.49 1256.12,-149.77 1246.88,-144.59 1245.66,-151.49\"/>\n</g>\n<!-- 4520682368+&#45;&gt;4520682368 -->\n<g id=\"edge7\" class=\"edge\">\n<title>4520682368+&#45;&gt;4520682368</title>\n<path fill=\"none\" stroke=\"black\" d=\"M1000.39,-127.5C1007.62,-127.5 1015.92,-127.5 1024.74,-127.5\"/>\n<polygon fill=\"black\" stroke=\"black\" points=\"1024.64,-131 1034.64,-127.5 1024.64,-124 1024.64,-131\"/>\n</g>\n<!-- 4520679872 -->\n<g id=\"node21\" class=\"node\">\n<title>4520679872</title>\n<polygon fill=\"none\" stroke=\"black\" points=\"2408,-161.5 2408,-197.5 2590,-197.5 2590,-161.5 2408,-161.5\"/>\n<text text-anchor=\"middle\" x=\"2418\" y=\"-175.8\" font-family=\"Times,serif\" font-size=\"14.00\"> </text>\n<polyline fill=\"none\" stroke=\"black\" points=\"2428,-161.5 2428,-197.5\"/>\n<text text-anchor=\"middle\" x=\"2468\" y=\"-175.8\" font-family=\"Times,serif\" font-size=\"14.00\">data 0.1464</text>\n<polyline fill=\"none\" stroke=\"black\" points=\"2508,-161.5 2508,-197.5\"/>\n<text text-anchor=\"middle\" x=\"2549\" y=\"-175.8\" font-family=\"Times,serif\" font-size=\"14.00\">grad 4.8284</text>\n</g>\n<!-- 4520679872&#45;&gt;4520679440* -->\n<g id=\"edge18\" class=\"edge\">\n<title>4520679872&#45;&gt;4520679440*</title>\n<path fill=\"none\" stroke=\"black\" d=\"M2589.74,-164.15C2598.62,-162.63 2607.23,-161.16 2615.09,-159.81\"/>\n<polygon fill=\"black\" stroke=\"black\" points=\"2615.6,-163.28 2624.86,-158.14 2614.42,-156.38 2615.6,-163.28\"/>\n</g>\n<!-- 4520679872**&#45;&gt;4520679872 -->\n<g id=\"edge8\" class=\"edge\">\n<title>4520679872**&#45;&gt;4520679872</title>\n<path fill=\"none\" stroke=\"black\" d=\"M2308.49,-181.25C2330.76,-181.05 2364.08,-180.74 2396.61,-180.44\"/>\n<polygon fill=\"black\" stroke=\"black\" points=\"2396.58,-183.94 2406.54,-180.35 2396.51,-176.94 2396.58,-183.94\"/>\n</g>\n<!-- 4491238304 -->\n<g id=\"node23\" class=\"node\">\n<title>4491238304</title>\n<polygon fill=\"none\" stroke=\"black\" points=\"4,-55.5 4,-91.5 196,-91.5 196,-55.5 4,-55.5\"/>\n<text text-anchor=\"middle\" x=\"19\" y=\"-69.8\" font-family=\"Times,serif\" font-size=\"14.00\">x2</text>\n<polyline fill=\"none\" stroke=\"black\" points=\"34,-55.5 34,-91.5\"/>\n<text text-anchor=\"middle\" x=\"74\" y=\"-69.8\" font-family=\"Times,serif\" font-size=\"14.00\">data 0.0000</text>\n<polyline fill=\"none\" stroke=\"black\" points=\"114,-55.5 114,-91.5\"/>\n<text text-anchor=\"middle\" x=\"155\" y=\"-69.8\" font-family=\"Times,serif\" font-size=\"14.00\">grad 0.5000</text>\n</g>\n<!-- 4491238304&#45;&gt;4520685200* -->\n<g id=\"edge23\" class=\"edge\">\n<title>4491238304&#45;&gt;4520685200*</title>\n<path fill=\"none\" stroke=\"black\" d=\"M195.59,-73.5C205.66,-73.5 215.42,-73.5 224.23,-73.5\"/>\n<polygon fill=\"black\" stroke=\"black\" points=\"224.07,-77 234.07,-73.5 224.07,-70 224.07,-77\"/>\n</g>\n<!-- 4520675264 -->\n<g id=\"node24\" class=\"node\">\n<title>4520675264</title>\n<polygon fill=\"none\" stroke=\"black\" points=\"2190,-108.5 2190,-144.5 2372,-144.5 2372,-108.5 2190,-108.5\"/>\n<text text-anchor=\"middle\" x=\"2200\" y=\"-122.8\" font-family=\"Times,serif\" font-size=\"14.00\"> </text>\n<polyline fill=\"none\" stroke=\"black\" points=\"2210,-108.5 2210,-144.5\"/>\n<text text-anchor=\"middle\" x=\"2250\" y=\"-122.8\" font-family=\"Times,serif\" font-size=\"14.00\">data 4.8284</text>\n<polyline fill=\"none\" stroke=\"black\" points=\"2290,-108.5 2290,-144.5\"/>\n<text text-anchor=\"middle\" x=\"2331\" y=\"-122.8\" font-family=\"Times,serif\" font-size=\"14.00\">grad 0.1464</text>\n</g>\n<!-- 4520675264&#45;&gt;4520679440* -->\n<g id=\"edge22\" class=\"edge\">\n<title>4520675264&#45;&gt;4520679440*</title>\n<path fill=\"none\" stroke=\"black\" d=\"M2371.57,-133.04C2449.44,-138.72 2558.37,-146.67 2614.81,-150.79\"/>\n<polygon fill=\"black\" stroke=\"black\" points=\"2614.29,-154.26 2624.52,-151.49 2614.8,-147.28 2614.29,-154.26\"/>\n</g>\n<!-- 4520675264+&#45;&gt;4520675264 -->\n<g id=\"edge9\" class=\"edge\">\n<title>4520675264+&#45;&gt;4520675264</title>\n<path fill=\"none\" stroke=\"black\" d=\"M1932.3,-126.5C1982.69,-126.5 2095.25,-126.5 2178.73,-126.5\"/>\n<polygon fill=\"black\" stroke=\"black\" points=\"2178.53,-130 2188.53,-126.5 2178.53,-123 2178.53,-130\"/>\n</g>\n<!-- 4520687072 -->\n<g id=\"node26\" class=\"node\">\n<title>4520687072</title>\n<polygon fill=\"none\" stroke=\"black\" points=\"666,-82.5 666,-118.5 910,-118.5 910,-82.5 666,-82.5\"/>\n<text text-anchor=\"middle\" x=\"704.5\" y=\"-96.8\" font-family=\"Times,serif\" font-size=\"14.00\">x1w1x2w2</text>\n<polyline fill=\"none\" stroke=\"black\" points=\"743,-82.5 743,-118.5\"/>\n<text text-anchor=\"middle\" x=\"785.5\" y=\"-96.8\" font-family=\"Times,serif\" font-size=\"14.00\">data &#45;6.0000</text>\n<polyline fill=\"none\" stroke=\"black\" points=\"828,-82.5 828,-118.5\"/>\n<text text-anchor=\"middle\" x=\"869\" y=\"-96.8\" font-family=\"Times,serif\" font-size=\"14.00\">grad 0.5000</text>\n</g>\n<!-- 4520687072&#45;&gt;4520682368+ -->\n<g id=\"edge20\" class=\"edge\">\n<title>4520687072&#45;&gt;4520682368+</title>\n<path fill=\"none\" stroke=\"black\" d=\"M909.79,-118.32C918.72,-119.64 927.23,-120.89 934.93,-122.03\"/>\n<polygon fill=\"black\" stroke=\"black\" points=\"934.42,-125.49 944.82,-123.49 935.44,-118.57 934.42,-125.49\"/>\n</g>\n<!-- 4520687072+&#45;&gt;4520687072 -->\n<g id=\"edge10\" class=\"edge\">\n<title>4520687072+&#45;&gt;4520687072</title>\n<path fill=\"none\" stroke=\"black\" d=\"M630.22,-100.5C637.46,-100.5 645.83,-100.5 654.87,-100.5\"/>\n<polygon fill=\"black\" stroke=\"black\" points=\"654.68,-104 664.68,-100.5 654.68,-97 654.68,-104\"/>\n</g>\n<!-- 4520678384 -->\n<g id=\"node28\" class=\"node\">\n<title>4520678384</title>\n<polygon fill=\"none\" stroke=\"black\" points=\"2.5,-0.5 2.5,-36.5 197.5,-36.5 197.5,-0.5 2.5,-0.5\"/>\n<text text-anchor=\"middle\" x=\"19\" y=\"-14.8\" font-family=\"Times,serif\" font-size=\"14.00\">w2</text>\n<polyline fill=\"none\" stroke=\"black\" points=\"35.5,-0.5 35.5,-36.5\"/>\n<text text-anchor=\"middle\" x=\"75.5\" y=\"-14.8\" font-family=\"Times,serif\" font-size=\"14.00\">data 1.0000</text>\n<polyline fill=\"none\" stroke=\"black\" points=\"115.5,-0.5 115.5,-36.5\"/>\n<text text-anchor=\"middle\" x=\"156.5\" y=\"-14.8\" font-family=\"Times,serif\" font-size=\"14.00\">grad 0.0000</text>\n</g>\n<!-- 4520678384&#45;&gt;4520685200* -->\n<g id=\"edge16\" class=\"edge\">\n<title>4520678384&#45;&gt;4520685200*</title>\n<path fill=\"none\" stroke=\"black\" d=\"M172.27,-36.48C181.67,-39.28 191.12,-42.3 200,-45.5 210.09,-49.13 220.83,-53.71 230.48,-58.11\"/>\n<polygon fill=\"black\" stroke=\"black\" points=\"228.91,-61.24 239.45,-62.29 231.87,-54.89 228.91,-61.24\"/>\n</g>\n</g>\n</svg>\n",
      "text/plain": [
       "<graphviz.graphs.Digraph at 0x10d740310>"
      ]
     },
     "execution_count": 49,
     "metadata": {},
     "output_type": "execute_result"
    }
   ],
   "source": [
    "x1 = Value(2., label='x1')\n",
    "x2 = Value(0., label='x2')\n",
    "\n",
    "w1 = Value(-3., label='w1')\n",
    "w2 = Value(1, label='w2')\n",
    "\n",
    "x1w1 = x1 * w1; x1w1.label='x1w1'\n",
    "x2w2 = x2 * w2; x2w2.label='x2w2'\n",
    "b = Value(6.8813735870195432, label='b')\n",
    "x1w1x2w2= x1w1 + x2w2; x1w1x2w2.label='x1w1x2w2'\n",
    "n = x1w1x2w2+b; n.label='n'\n",
    "e = (2*n).exp()\n",
    "o = (e-1)/(e+1)\n",
    "#o = n.tanh()\n",
    "o.label = 'o'\n",
    "\n",
    "\n",
    "#o.grad = 1.\n",
    "#o._backward()\n",
    "#n._backward()\n",
    "#x1w1x2w2._backward()\n",
    "#x1w1._backward()\n",
    "##b._backward()\n",
    "#x2w2._backward()\n",
    "#x2._backward()\n",
    "o.backward()\n",
    "draw_dot(o)\n"
   ]
  },
  {
   "cell_type": "code",
   "execution_count": 32,
   "metadata": {},
   "outputs": [
    {
     "data": {
      "text/plain": [
       "[Value(self.data = 0.0, self.grad=0.4999999999999999, self.label = 'x2'),\n",
       " Value(self.data = 1, self.grad=0.0, self.label = 'w2'),\n",
       " Value(self.data = 0.0, self.grad=0.4999999999999999, self.label = 'x2w2')]"
      ]
     },
     "execution_count": 32,
     "metadata": {},
     "output_type": "execute_result"
    }
   ],
   "source": [
    "topo = []\n",
    "visited = set()\n",
    "\n",
    "def build_topo(node: Value):\n",
    "    if node not in visited:\n",
    "        visited.add(node)\n",
    "        for prev in node._prev:\n",
    "            build_topo(prev)\n",
    "        topo.append(node)\n",
    "        \n",
    "build_topo(x2w2)\n",
    "topo"
   ]
  },
  {
   "cell_type": "code",
   "execution_count": null,
   "metadata": {},
   "outputs": [],
   "source": [
    "a = Value(3., label='a')\n",
    "b = a + a; b.label = 'b'\n",
    "\n",
    "b.backward()    \n",
    "draw_dot(b)    "
   ]
  },
  {
   "cell_type": "code",
   "execution_count": null,
   "metadata": {},
   "outputs": [],
   "source": [
    "a = Value(-2., label='a')\n",
    "b = Value(3., label='b')\n",
    "d = a*b; d.label='d'\n",
    "e = a+b; e.label='e'\n",
    "f = d*e; f.label='f'\n",
    "\n",
    "f.backward()\n",
    "draw_dot(f)"
   ]
  },
  {
   "cell_type": "code",
   "execution_count": null,
   "metadata": {},
   "outputs": [],
   "source": []
  },
  {
   "cell_type": "code",
   "execution_count": null,
   "metadata": {},
   "outputs": [],
   "source": []
  },
  {
   "cell_type": "code",
   "execution_count": null,
   "metadata": {},
   "outputs": [],
   "source": []
  },
  {
   "cell_type": "code",
   "execution_count": null,
   "metadata": {},
   "outputs": [],
   "source": [
    "import torch\n",
    "def fit_polynomial(D, x, y):\n",
    "    # Broadcasting magic\n",
    "    X = x[:, None] ** torch.arange(0, D + 1)[None]\n",
    "    # Least square solution\n",
    "    return torch.linalg.lstsq(X, y).solution\n",
    "\n",
    "D, N = 4, 100\n",
    "x = torch.linspace(-math.pi, math.pi, N)\n",
    "y = x.sin()\n",
    "alpha = fit_polynomial(D, x, y)\n",
    "X = x[:, None] ** torch.arange(0, D + 1)[None]\n",
    "y_hat = X @ alpha\n",
    "#for k in range(N):\n",
    "#    print(x[k].item(), y[k].item(), y_hat[k].item())"
   ]
  },
  {
   "cell_type": "code",
   "execution_count": null,
   "metadata": {},
   "outputs": [],
   "source": [
    "X"
   ]
  },
  {
   "cell_type": "code",
   "execution_count": null,
   "metadata": {},
   "outputs": [],
   "source": []
  }
 ],
 "metadata": {
  "kernelspec": {
   "display_name": "Python 3.10.8 ('micrograd')",
   "language": "python",
   "name": "python3"
  },
  "language_info": {
   "codemirror_mode": {
    "name": "ipython",
    "version": 3
   },
   "file_extension": ".py",
   "mimetype": "text/x-python",
   "name": "python",
   "nbconvert_exporter": "python",
   "pygments_lexer": "ipython3",
   "version": "3.10.8"
  },
  "vscode": {
   "interpreter": {
    "hash": "0817e48aad823e29ab0979a99cf84a8de159f5c28af964a8e0018065f64daf7e"
   }
  }
 },
 "nbformat": 4,
 "nbformat_minor": 4
}
