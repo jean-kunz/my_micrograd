{
 "cells": [
  {
   "attachments": {},
   "cell_type": "markdown",
   "metadata": {},
   "source": [
    "# Value based computations\n"
   ]
  },
  {
   "cell_type": "code",
   "execution_count": 1,
   "metadata": {},
   "outputs": [],
   "source": [
    "#| default_exp explore"
   ]
  },
  {
   "cell_type": "code",
   "execution_count": 2,
   "metadata": {},
   "outputs": [],
   "source": [
    "#| export\n",
    "import numpy as np\n",
    "from graphviz import Digraph\n",
    "import math\n",
    "import random"
   ]
  },
  {
   "cell_type": "code",
   "execution_count": 3,
   "metadata": {},
   "outputs": [],
   "source": [
    "def trace(root):\n",
    "    nodes, edges = set(), set()\n",
    "    def build(v):\n",
    "        if v not in nodes:\n",
    "            nodes.add(v)\n",
    "            for child in v._prev:\n",
    "                edges.add((child, v))\n",
    "                build(child)\n",
    "    build(root)\n",
    "    return nodes, edges\n",
    "\n",
    "def draw_dot(root, format='svg', rankdir='LR'):\n",
    "    \"\"\"\n",
    "    format: png | svg | ...\n",
    "    rankdir: TB (top to bottom graph) | LR (left to right)\n",
    "    \"\"\"\n",
    "    assert rankdir in ['LR', 'TB']\n",
    "    nodes, edges = trace(root)\n",
    "    dot = Digraph(format=format, graph_attr={'rankdir': rankdir}) #, node_attr={'rankdir': 'TB'})\n",
    "    \n",
    "    for n in nodes:\n",
    "        dot.node(name=str(id(n)), label = \"{%s | data %.4f | grad %.4f }\" % (n.label, n.data, n.grad), shape='record')\n",
    "        if n._op:\n",
    "            dot.node(name=str(id(n)) + n._op, label=n._op)\n",
    "            dot.edge(str(id(n)) + n._op, str(id(n)))\n",
    "    \n",
    "    for n1, n2 in edges:\n",
    "        dot.edge(str(id(n1)), str(id(n2)) + n2._op)\n",
    "    \n",
    "    return dot"
   ]
  },
  {
   "cell_type": "code",
   "execution_count": 44,
   "metadata": {},
   "outputs": [],
   "source": [
    "#| export \n",
    "class Value:\n",
    "    \n",
    "    def __init__(self, data: float, _prev:set=(), _op: str='', label='') -> None:\n",
    "        self.data = data\n",
    "        self._prev = _prev\n",
    "        self._backward = lambda: None\n",
    "        self._op = _op\n",
    "        self.label = label\n",
    "        self.grad: float = 0.\n",
    "        \n",
    "    def __repr__(self) -> str:\n",
    "        return f\"Value({self.data = }, {self.grad=}, {self.label = })\"\n",
    "    \n",
    "    def __add__(self, other):\n",
    "        other = other if isinstance(other, Value) else (Value(other))\n",
    "        out = Value(self.data + other.data, _prev=(self,other),_op='+')\n",
    "        \n",
    "        def _backward():\n",
    "            # we do += to manage the case where we add with itself and it overrides the gradient. So we always add grad. \n",
    "            self.grad += 1. * out.grad\n",
    "            other.grad += 1. * out.grad\n",
    "        out._backward = _backward\n",
    "        \n",
    "        return out\n",
    "    \n",
    "    def __radd__(self, other):\n",
    "        return self + other\n",
    "    \n",
    "    def __neg__(self):\n",
    "        return self *-1\n",
    "    \n",
    "    def __sub__(self, other):\n",
    "        return self + (-other)\n",
    "        \n",
    "    def __rsub__(self, other):\n",
    "        return self.__sub__(other)\n",
    "    \n",
    "    def __mul__(self, other):\n",
    "        other = other if isinstance(other, Value) else (Value(other))\n",
    "        out =  Value(self.data * other.data, _prev=(self,other),_op='*')\n",
    "    \n",
    "        def _backward():\n",
    "            self.grad += other.data * out.grad\n",
    "            other.grad += self.data * out.grad            \n",
    "        out._backward = _backward\n",
    "        return out\n",
    "    \n",
    "    def __rmul__(self, other):\n",
    "        return self * other\n",
    "    \n",
    "    def __truediv__(self, other):\n",
    "        return self * (other**-1)\n",
    "    \n",
    "    def __pow__(self, other):\n",
    "        assert isinstance(other, (int, float)), \"Other should be either int or float\"\n",
    "        out = Value(self.data**other, _prev=(self,), _op='**')\n",
    "        \n",
    "        def _backward():\n",
    "            self.grad += other * (self.data**(other-1)) * out.grad\n",
    "            \n",
    "        out._backward = _backward\n",
    "        \n",
    "        return out\n",
    "        \n",
    "    \n",
    "    def exp(self):\n",
    "        x = self.data\n",
    "        out = Value(math.exp(x), _prev=(self,), _op='exp')\n",
    "        \n",
    "        def _backward():\n",
    "            self.grad += out.data * out.grad\n",
    "        out._backward = _backward\n",
    "        \n",
    "        return out\n",
    "        \n",
    "        \n",
    "    \n",
    "    def tanh(self):\n",
    "        x = self.data\n",
    "        n = (1-math.exp(-2*x))/(1+math.exp(-2*x))\n",
    "        out = Value(n, _prev=(self,), _op='tanh')\n",
    "        \n",
    "        def _backward():\n",
    "            self.grad += (1-n**2) * out.grad\n",
    "        \n",
    "        out._backward = _backward\n",
    "        \n",
    "        return out\n",
    "    \n",
    "    \n",
    "    def backward(self):\n",
    "        topo = []\n",
    "        visited = set()\n",
    "\n",
    "        def build_topo(node: Value):\n",
    "            if node not in visited:\n",
    "                visited.add(node)\n",
    "                for prev in node._prev:\n",
    "                    build_topo(prev)\n",
    "                topo.append(node)\n",
    "\n",
    "        build_topo(self) \n",
    "        topo  \n",
    "        self.grad = 1.\n",
    "        for node in reversed(topo):\n",
    "            node._backward()"
   ]
  },
  {
   "cell_type": "code",
   "execution_count": 45,
   "metadata": {},
   "outputs": [
    {
     "data": {
      "image/svg+xml": "<?xml version=\"1.0\" encoding=\"UTF-8\" standalone=\"no\"?>\n<!DOCTYPE svg PUBLIC \"-//W3C//DTD SVG 1.1//EN\"\n \"http://www.w3.org/Graphics/SVG/1.1/DTD/svg11.dtd\">\n<!-- Generated by graphviz version 7.1.0 (20230121.1956)\n -->\n<!-- Pages: 1 -->\n<svg width=\"826pt\" height=\"128pt\"\n viewBox=\"0.00 0.00 826.00 128.00\" xmlns=\"http://www.w3.org/2000/svg\" xmlns:xlink=\"http://www.w3.org/1999/xlink\">\n<g id=\"graph0\" class=\"graph\" transform=\"scale(1 1) rotate(0) translate(4 124)\">\n<polygon fill=\"white\" stroke=\"none\" points=\"-4,4 -4,-124 822,-124 822,4 -4,4\"/>\n<!-- 4839801376 -->\n<g id=\"node1\" class=\"node\">\n<title>4839801376</title>\n<polygon fill=\"none\" stroke=\"black\" points=\"1,-83.5 1,-119.5 188,-119.5 188,-83.5 1,-83.5\"/>\n<text text-anchor=\"middle\" x=\"11\" y=\"-97.8\" font-family=\"Times,serif\" font-size=\"14.00\"> </text>\n<polyline fill=\"none\" stroke=\"black\" points=\"21,-83.5 21,-119.5\"/>\n<text text-anchor=\"middle\" x=\"63.5\" y=\"-97.8\" font-family=\"Times,serif\" font-size=\"14.00\">data &#45;1.0000</text>\n<polyline fill=\"none\" stroke=\"black\" points=\"106,-83.5 106,-119.5\"/>\n<text text-anchor=\"middle\" x=\"147\" y=\"-97.8\" font-family=\"Times,serif\" font-size=\"14.00\">grad 4.0000</text>\n</g>\n<!-- 4839801328* -->\n<g id=\"node7\" class=\"node\">\n<title>4839801328*</title>\n<ellipse fill=\"none\" stroke=\"black\" cx=\"252\" cy=\"-73.5\" rx=\"27\" ry=\"18\"/>\n<text text-anchor=\"middle\" x=\"252\" y=\"-69.8\" font-family=\"Times,serif\" font-size=\"14.00\">*</text>\n</g>\n<!-- 4839801376&#45;&gt;4839801328* -->\n<g id=\"edge6\" class=\"edge\">\n<title>4839801376&#45;&gt;4839801328*</title>\n<path fill=\"none\" stroke=\"black\" d=\"M187.75,-84.89C197.07,-83.21 206.09,-81.59 214.27,-80.11\"/>\n<polygon fill=\"black\" stroke=\"black\" points=\"214.87,-83.56 224.09,-78.34 213.63,-76.67 214.87,-83.56\"/>\n</g>\n<!-- 4839802864 -->\n<g id=\"node2\" class=\"node\">\n<title>4839802864</title>\n<polygon fill=\"none\" stroke=\"black\" points=\"316,-0.5 316,-36.5 501,-36.5 501,-0.5 316,-0.5\"/>\n<text text-anchor=\"middle\" x=\"327.5\" y=\"-14.8\" font-family=\"Times,serif\" font-size=\"14.00\">a</text>\n<polyline fill=\"none\" stroke=\"black\" points=\"339,-0.5 339,-36.5\"/>\n<text text-anchor=\"middle\" x=\"379\" y=\"-14.8\" font-family=\"Times,serif\" font-size=\"14.00\">data 2.0000</text>\n<polyline fill=\"none\" stroke=\"black\" points=\"419,-0.5 419,-36.5\"/>\n<text text-anchor=\"middle\" x=\"460\" y=\"-14.8\" font-family=\"Times,serif\" font-size=\"14.00\">grad 1.0000</text>\n</g>\n<!-- 4839801568+ -->\n<g id=\"node4\" class=\"node\">\n<title>4839801568+</title>\n<ellipse fill=\"none\" stroke=\"black\" cx=\"565\" cy=\"-45.5\" rx=\"27\" ry=\"18\"/>\n<text text-anchor=\"middle\" x=\"565\" y=\"-41.8\" font-family=\"Times,serif\" font-size=\"14.00\">+</text>\n</g>\n<!-- 4839802864&#45;&gt;4839801568+ -->\n<g id=\"edge4\" class=\"edge\">\n<title>4839802864&#45;&gt;4839801568+</title>\n<path fill=\"none\" stroke=\"black\" d=\"M500.71,-34.44C510.02,-36.07 519.04,-37.64 527.23,-39.07\"/>\n<polygon fill=\"black\" stroke=\"black\" points=\"526.6,-42.52 537.05,-40.79 527.81,-35.62 526.6,-42.52\"/>\n</g>\n<!-- 4839801568 -->\n<g id=\"node3\" class=\"node\">\n<title>4839801568</title>\n<polygon fill=\"none\" stroke=\"black\" points=\"628,-27.5 628,-63.5 818,-63.5 818,-27.5 628,-27.5\"/>\n<text text-anchor=\"middle\" x=\"639.5\" y=\"-41.8\" font-family=\"Times,serif\" font-size=\"14.00\">c</text>\n<polyline fill=\"none\" stroke=\"black\" points=\"651,-27.5 651,-63.5\"/>\n<text text-anchor=\"middle\" x=\"693.5\" y=\"-41.8\" font-family=\"Times,serif\" font-size=\"14.00\">data &#45;2.0000</text>\n<polyline fill=\"none\" stroke=\"black\" points=\"736,-27.5 736,-63.5\"/>\n<text text-anchor=\"middle\" x=\"777\" y=\"-41.8\" font-family=\"Times,serif\" font-size=\"14.00\">grad 1.0000</text>\n</g>\n<!-- 4839801568+&#45;&gt;4839801568 -->\n<g id=\"edge1\" class=\"edge\">\n<title>4839801568+&#45;&gt;4839801568</title>\n<path fill=\"none\" stroke=\"black\" d=\"M592.46,-45.5C599.68,-45.5 607.95,-45.5 616.76,-45.5\"/>\n<polygon fill=\"black\" stroke=\"black\" points=\"616.64,-49 626.64,-45.5 616.64,-42 616.64,-49\"/>\n</g>\n<!-- 4839802192 -->\n<g id=\"node5\" class=\"node\">\n<title>4839802192</title>\n<polygon fill=\"none\" stroke=\"black\" points=\"0,-28.5 0,-64.5 189,-64.5 189,-28.5 0,-28.5\"/>\n<text text-anchor=\"middle\" x=\"11.5\" y=\"-42.8\" font-family=\"Times,serif\" font-size=\"14.00\">b</text>\n<polyline fill=\"none\" stroke=\"black\" points=\"23,-28.5 23,-64.5\"/>\n<text text-anchor=\"middle\" x=\"63\" y=\"-42.8\" font-family=\"Times,serif\" font-size=\"14.00\">data 4.0000</text>\n<polyline fill=\"none\" stroke=\"black\" points=\"103,-28.5 103,-64.5\"/>\n<text text-anchor=\"middle\" x=\"146\" y=\"-42.8\" font-family=\"Times,serif\" font-size=\"14.00\">grad &#45;1.0000</text>\n</g>\n<!-- 4839802192&#45;&gt;4839801328* -->\n<g id=\"edge5\" class=\"edge\">\n<title>4839802192&#45;&gt;4839801328*</title>\n<path fill=\"none\" stroke=\"black\" d=\"M188.65,-62.67C197.58,-64.22 206.23,-65.73 214.11,-67.09\"/>\n<polygon fill=\"black\" stroke=\"black\" points=\"213.45,-70.53 223.9,-68.79 214.64,-63.63 213.45,-70.53\"/>\n</g>\n<!-- 4839801328 -->\n<g id=\"node6\" class=\"node\">\n<title>4839801328</title>\n<polygon fill=\"none\" stroke=\"black\" points=\"315,-55.5 315,-91.5 502,-91.5 502,-55.5 315,-55.5\"/>\n<text text-anchor=\"middle\" x=\"325\" y=\"-69.8\" font-family=\"Times,serif\" font-size=\"14.00\"> </text>\n<polyline fill=\"none\" stroke=\"black\" points=\"335,-55.5 335,-91.5\"/>\n<text text-anchor=\"middle\" x=\"377.5\" y=\"-69.8\" font-family=\"Times,serif\" font-size=\"14.00\">data &#45;4.0000</text>\n<polyline fill=\"none\" stroke=\"black\" points=\"420,-55.5 420,-91.5\"/>\n<text text-anchor=\"middle\" x=\"461\" y=\"-69.8\" font-family=\"Times,serif\" font-size=\"14.00\">grad 1.0000</text>\n</g>\n<!-- 4839801328&#45;&gt;4839801568+ -->\n<g id=\"edge3\" class=\"edge\">\n<title>4839801328&#45;&gt;4839801568+</title>\n<path fill=\"none\" stroke=\"black\" d=\"M501.6,-56.81C510.72,-55.16 519.55,-53.56 527.56,-52.1\"/>\n<polygon fill=\"black\" stroke=\"black\" points=\"527.94,-55.59 537.16,-50.36 526.7,-48.7 527.94,-55.59\"/>\n</g>\n<!-- 4839801328*&#45;&gt;4839801328 -->\n<g id=\"edge2\" class=\"edge\">\n<title>4839801328*&#45;&gt;4839801328</title>\n<path fill=\"none\" stroke=\"black\" d=\"M279.21,-73.5C286.47,-73.5 294.83,-73.5 303.71,-73.5\"/>\n<polygon fill=\"black\" stroke=\"black\" points=\"303.7,-77 313.7,-73.5 303.7,-70 303.7,-77\"/>\n</g>\n</g>\n</svg>\n",
      "text/plain": [
       "<graphviz.graphs.Digraph at 0x120798670>"
      ]
     },
     "execution_count": 45,
     "metadata": {},
     "output_type": "execute_result"
    }
   ],
   "source": [
    "a = Value(2., label='a')\n",
    "b = Value(4., label='b')\n",
    "#a+1\n",
    "#a*2\n",
    "2*a\n",
    "#1*a\n",
    "#1+a\n",
    "#a.exp()\n",
    "#a/b\n",
    "c=a-b; c.label='c'\n",
    "\n",
    "c.backward()\n",
    "draw_dot(c)"
   ]
  },
  {
   "cell_type": "code",
   "execution_count": 46,
   "metadata": {},
   "outputs": [
    {
     "data": {
      "image/svg+xml": "<?xml version=\"1.0\" encoding=\"UTF-8\" standalone=\"no\"?>\n<!DOCTYPE svg PUBLIC \"-//W3C//DTD SVG 1.1//EN\"\n \"http://www.w3.org/Graphics/SVG/1.1/DTD/svg11.dtd\">\n<!-- Generated by graphviz version 7.1.0 (20230121.1956)\n -->\n<!-- Pages: 1 -->\n<svg width=\"2909pt\" height=\"236pt\"\n viewBox=\"0.00 0.00 2909.00 236.00\" xmlns=\"http://www.w3.org/2000/svg\" xmlns:xlink=\"http://www.w3.org/1999/xlink\">\n<g id=\"graph0\" class=\"graph\" transform=\"scale(1 1) rotate(0) translate(4 232)\">\n<polygon fill=\"white\" stroke=\"none\" points=\"-4,4 -4,-232 2905,-232 2905,4 -4,4\"/>\n<!-- 4839815680 -->\n<g id=\"node1\" class=\"node\">\n<title>4839815680</title>\n<polygon fill=\"none\" stroke=\"black\" points=\"326,-55.5 326,-91.5 540,-91.5 540,-55.5 326,-55.5\"/>\n<text text-anchor=\"middle\" x=\"349.5\" y=\"-69.8\" font-family=\"Times,serif\" font-size=\"14.00\">x1w1</text>\n<polyline fill=\"none\" stroke=\"black\" points=\"373,-55.5 373,-91.5\"/>\n<text text-anchor=\"middle\" x=\"415.5\" y=\"-69.8\" font-family=\"Times,serif\" font-size=\"14.00\">data &#45;6.0000</text>\n<polyline fill=\"none\" stroke=\"black\" points=\"458,-55.5 458,-91.5\"/>\n<text text-anchor=\"middle\" x=\"499\" y=\"-69.8\" font-family=\"Times,serif\" font-size=\"14.00\">grad 0.5000</text>\n</g>\n<!-- 4839813952+ -->\n<g id=\"node19\" class=\"node\">\n<title>4839813952+</title>\n<ellipse fill=\"none\" stroke=\"black\" cx=\"603\" cy=\"-100.5\" rx=\"27\" ry=\"18\"/>\n<text text-anchor=\"middle\" x=\"603\" y=\"-96.8\" font-family=\"Times,serif\" font-size=\"14.00\">+</text>\n</g>\n<!-- 4839815680&#45;&gt;4839813952+ -->\n<g id=\"edge27\" class=\"edge\">\n<title>4839815680&#45;&gt;4839813952+</title>\n<path fill=\"none\" stroke=\"black\" d=\"M539.92,-90.52C548.88,-91.96 557.49,-93.35 565.29,-94.6\"/>\n<polygon fill=\"black\" stroke=\"black\" points=\"564.52,-98.02 574.95,-96.15 565.63,-91.11 564.52,-98.02\"/>\n</g>\n<!-- 4839815680* -->\n<g id=\"node2\" class=\"node\">\n<title>4839815680*</title>\n<ellipse fill=\"none\" stroke=\"black\" cx=\"263\" cy=\"-73.5\" rx=\"27\" ry=\"18\"/>\n<text text-anchor=\"middle\" x=\"263\" y=\"-69.8\" font-family=\"Times,serif\" font-size=\"14.00\">*</text>\n</g>\n<!-- 4839815680*&#45;&gt;4839815680 -->\n<g id=\"edge1\" class=\"edge\">\n<title>4839815680*&#45;&gt;4839815680</title>\n<path fill=\"none\" stroke=\"black\" d=\"M290.25,-73.5C297.53,-73.5 305.94,-73.5 314.95,-73.5\"/>\n<polygon fill=\"black\" stroke=\"black\" points=\"314.69,-77 324.69,-73.5 314.69,-70 314.69,-77\"/>\n</g>\n<!-- 4839808528 -->\n<g id=\"node3\" class=\"node\">\n<title>4839808528</title>\n<polygon fill=\"none\" stroke=\"black\" points=\"1968,-108.5 1968,-144.5 2154,-144.5 2154,-108.5 1968,-108.5\"/>\n<text text-anchor=\"middle\" x=\"1978\" y=\"-122.8\" font-family=\"Times,serif\" font-size=\"14.00\"> </text>\n<polyline fill=\"none\" stroke=\"black\" points=\"1988,-108.5 1988,-144.5\"/>\n<text text-anchor=\"middle\" x=\"2028\" y=\"-122.8\" font-family=\"Times,serif\" font-size=\"14.00\">data 6.8284</text>\n<polyline fill=\"none\" stroke=\"black\" points=\"2068,-108.5 2068,-144.5\"/>\n<text text-anchor=\"middle\" x=\"2111\" y=\"-122.8\" font-family=\"Times,serif\" font-size=\"14.00\">grad &#45;0.1036</text>\n</g>\n<!-- 4839809728** -->\n<g id=\"node10\" class=\"node\">\n<title>4839809728**</title>\n<ellipse fill=\"none\" stroke=\"black\" cx=\"2281\" cy=\"-126.5\" rx=\"27\" ry=\"18\"/>\n<text text-anchor=\"middle\" x=\"2281\" y=\"-122.8\" font-family=\"Times,serif\" font-size=\"14.00\">**</text>\n</g>\n<!-- 4839808528&#45;&gt;4839809728** -->\n<g id=\"edge16\" class=\"edge\">\n<title>4839808528&#45;&gt;4839809728**</title>\n<path fill=\"none\" stroke=\"black\" d=\"M2153.82,-126.5C2185.02,-126.5 2218.15,-126.5 2242.62,-126.5\"/>\n<polygon fill=\"black\" stroke=\"black\" points=\"2242.39,-130 2252.39,-126.5 2242.39,-123 2242.39,-130\"/>\n</g>\n<!-- 4839808528+ -->\n<g id=\"node4\" class=\"node\">\n<title>4839808528+</title>\n<ellipse fill=\"none\" stroke=\"black\" cx=\"1905\" cy=\"-126.5\" rx=\"27\" ry=\"18\"/>\n<text text-anchor=\"middle\" x=\"1905\" y=\"-122.8\" font-family=\"Times,serif\" font-size=\"14.00\">+</text>\n</g>\n<!-- 4839808528+&#45;&gt;4839808528 -->\n<g id=\"edge2\" class=\"edge\">\n<title>4839808528+&#45;&gt;4839808528</title>\n<path fill=\"none\" stroke=\"black\" d=\"M1932.47,-126.5C1939.67,-126.5 1947.92,-126.5 1956.69,-126.5\"/>\n<polygon fill=\"black\" stroke=\"black\" points=\"1956.51,-130 1966.51,-126.5 1956.51,-123 1956.51,-130\"/>\n</g>\n<!-- 4839803440 -->\n<g id=\"node5\" class=\"node\">\n<title>4839803440</title>\n<polygon fill=\"none\" stroke=\"black\" points=\"4,-165.5 4,-201.5 196,-201.5 196,-165.5 4,-165.5\"/>\n<text text-anchor=\"middle\" x=\"19\" y=\"-179.8\" font-family=\"Times,serif\" font-size=\"14.00\">x2</text>\n<polyline fill=\"none\" stroke=\"black\" points=\"34,-165.5 34,-201.5\"/>\n<text text-anchor=\"middle\" x=\"74\" y=\"-179.8\" font-family=\"Times,serif\" font-size=\"14.00\">data 0.0000</text>\n<polyline fill=\"none\" stroke=\"black\" points=\"114,-165.5 114,-201.5\"/>\n<text text-anchor=\"middle\" x=\"155\" y=\"-179.8\" font-family=\"Times,serif\" font-size=\"14.00\">grad 0.5000</text>\n</g>\n<!-- 4839813904* -->\n<g id=\"node13\" class=\"node\">\n<title>4839813904*</title>\n<ellipse fill=\"none\" stroke=\"black\" cx=\"263\" cy=\"-128.5\" rx=\"27\" ry=\"18\"/>\n<text text-anchor=\"middle\" x=\"263\" y=\"-124.8\" font-family=\"Times,serif\" font-size=\"14.00\">*</text>\n</g>\n<!-- 4839803440&#45;&gt;4839813904* -->\n<g id=\"edge11\" class=\"edge\">\n<title>4839803440&#45;&gt;4839813904*</title>\n<path fill=\"none\" stroke=\"black\" d=\"M172.27,-165.52C181.67,-162.72 191.12,-159.7 200,-156.5 210.09,-152.87 220.83,-148.29 230.48,-143.89\"/>\n<polygon fill=\"black\" stroke=\"black\" points=\"231.87,-147.11 239.45,-139.71 228.91,-140.76 231.87,-147.11\"/>\n</g>\n<!-- 4839808384 -->\n<g id=\"node6\" class=\"node\">\n<title>4839808384</title>\n<polygon fill=\"none\" stroke=\"black\" points=\"1655.5,-81.5 1655.5,-117.5 1841.5,-117.5 1841.5,-81.5 1655.5,-81.5\"/>\n<text text-anchor=\"middle\" x=\"1665.5\" y=\"-95.8\" font-family=\"Times,serif\" font-size=\"14.00\"> </text>\n<polyline fill=\"none\" stroke=\"black\" points=\"1675.5,-81.5 1675.5,-117.5\"/>\n<text text-anchor=\"middle\" x=\"1715.5\" y=\"-95.8\" font-family=\"Times,serif\" font-size=\"14.00\">data 1.0000</text>\n<polyline fill=\"none\" stroke=\"black\" points=\"1755.5,-81.5 1755.5,-117.5\"/>\n<text text-anchor=\"middle\" x=\"1798.5\" y=\"-95.8\" font-family=\"Times,serif\" font-size=\"14.00\">grad &#45;0.1036</text>\n</g>\n<!-- 4839808384&#45;&gt;4839808528+ -->\n<g id=\"edge20\" class=\"edge\">\n<title>4839808384&#45;&gt;4839808528+</title>\n<path fill=\"none\" stroke=\"black\" d=\"M1841.16,-115.52C1850.33,-117.12 1859.21,-118.67 1867.28,-120.08\"/>\n<polygon fill=\"black\" stroke=\"black\" points=\"1866.5,-123.5 1876.95,-121.77 1867.71,-116.6 1866.5,-123.5\"/>\n</g>\n<!-- 4839815872 -->\n<g id=\"node7\" class=\"node\">\n<title>4839815872</title>\n<polygon fill=\"none\" stroke=\"black\" points=\"1036,-109.5 1036,-145.5 1221,-145.5 1221,-109.5 1036,-109.5\"/>\n<text text-anchor=\"middle\" x=\"1047.5\" y=\"-123.8\" font-family=\"Times,serif\" font-size=\"14.00\">n</text>\n<polyline fill=\"none\" stroke=\"black\" points=\"1059,-109.5 1059,-145.5\"/>\n<text text-anchor=\"middle\" x=\"1099\" y=\"-123.8\" font-family=\"Times,serif\" font-size=\"14.00\">data 0.8814</text>\n<polyline fill=\"none\" stroke=\"black\" points=\"1139,-109.5 1139,-145.5\"/>\n<text text-anchor=\"middle\" x=\"1180\" y=\"-123.8\" font-family=\"Times,serif\" font-size=\"14.00\">grad 0.5000</text>\n</g>\n<!-- 4839816688* -->\n<g id=\"node28\" class=\"node\">\n<title>4839816688*</title>\n<ellipse fill=\"none\" stroke=\"black\" cx=\"1284\" cy=\"-154.5\" rx=\"27\" ry=\"18\"/>\n<text text-anchor=\"middle\" x=\"1284\" y=\"-150.8\" font-family=\"Times,serif\" font-size=\"14.00\">*</text>\n</g>\n<!-- 4839815872&#45;&gt;4839816688* -->\n<g id=\"edge26\" class=\"edge\">\n<title>4839815872&#45;&gt;4839816688*</title>\n<path fill=\"none\" stroke=\"black\" d=\"M1220.57,-143.52C1229.67,-145.12 1238.5,-146.67 1246.52,-148.08\"/>\n<polygon fill=\"black\" stroke=\"black\" points=\"1245.66,-151.49 1256.12,-149.77 1246.88,-144.59 1245.66,-151.49\"/>\n</g>\n<!-- 4839815872+ -->\n<g id=\"node8\" class=\"node\">\n<title>4839815872+</title>\n<ellipse fill=\"none\" stroke=\"black\" cx=\"973\" cy=\"-127.5\" rx=\"27\" ry=\"18\"/>\n<text text-anchor=\"middle\" x=\"973\" y=\"-123.8\" font-family=\"Times,serif\" font-size=\"14.00\">+</text>\n</g>\n<!-- 4839815872+&#45;&gt;4839815872 -->\n<g id=\"edge3\" class=\"edge\">\n<title>4839815872+&#45;&gt;4839815872</title>\n<path fill=\"none\" stroke=\"black\" d=\"M1000.39,-127.5C1007.62,-127.5 1015.92,-127.5 1024.74,-127.5\"/>\n<polygon fill=\"black\" stroke=\"black\" points=\"1024.64,-131 1034.64,-127.5 1024.64,-124 1024.64,-131\"/>\n</g>\n<!-- 4839809728 -->\n<g id=\"node9\" class=\"node\">\n<title>4839809728</title>\n<polygon fill=\"none\" stroke=\"black\" points=\"2408,-112.5 2408,-148.5 2590,-148.5 2590,-112.5 2408,-112.5\"/>\n<text text-anchor=\"middle\" x=\"2418\" y=\"-126.8\" font-family=\"Times,serif\" font-size=\"14.00\"> </text>\n<polyline fill=\"none\" stroke=\"black\" points=\"2428,-112.5 2428,-148.5\"/>\n<text text-anchor=\"middle\" x=\"2468\" y=\"-126.8\" font-family=\"Times,serif\" font-size=\"14.00\">data 0.1464</text>\n<polyline fill=\"none\" stroke=\"black\" points=\"2508,-112.5 2508,-148.5\"/>\n<text text-anchor=\"middle\" x=\"2549\" y=\"-126.8\" font-family=\"Times,serif\" font-size=\"14.00\">grad 4.8284</text>\n</g>\n<!-- 4839810352* -->\n<g id=\"node15\" class=\"node\">\n<title>4839810352*</title>\n<ellipse fill=\"none\" stroke=\"black\" cx=\"2653\" cy=\"-153.5\" rx=\"27\" ry=\"18\"/>\n<text text-anchor=\"middle\" x=\"2653\" y=\"-149.8\" font-family=\"Times,serif\" font-size=\"14.00\">*</text>\n</g>\n<!-- 4839809728&#45;&gt;4839810352* -->\n<g id=\"edge22\" class=\"edge\">\n<title>4839809728&#45;&gt;4839810352*</title>\n<path fill=\"none\" stroke=\"black\" d=\"M2589.74,-144.08C2598.62,-145.42 2607.23,-146.73 2615.09,-147.91\"/>\n<polygon fill=\"black\" stroke=\"black\" points=\"2614.45,-151.36 2624.86,-149.39 2615.49,-144.44 2614.45,-151.36\"/>\n</g>\n<!-- 4839809728**&#45;&gt;4839809728 -->\n<g id=\"edge4\" class=\"edge\">\n<title>4839809728**&#45;&gt;4839809728</title>\n<path fill=\"none\" stroke=\"black\" d=\"M2308.49,-126.99C2330.76,-127.4 2364.08,-128.02 2396.61,-128.62\"/>\n<polygon fill=\"black\" stroke=\"black\" points=\"2396.48,-132.12 2406.55,-128.81 2396.61,-125.12 2396.48,-132.12\"/>\n</g>\n<!-- 4839805696 -->\n<g id=\"node11\" class=\"node\">\n<title>4839805696</title>\n<polygon fill=\"none\" stroke=\"black\" points=\"2.5,-110.5 2.5,-146.5 197.5,-146.5 197.5,-110.5 2.5,-110.5\"/>\n<text text-anchor=\"middle\" x=\"19\" y=\"-124.8\" font-family=\"Times,serif\" font-size=\"14.00\">w2</text>\n<polyline fill=\"none\" stroke=\"black\" points=\"35.5,-110.5 35.5,-146.5\"/>\n<text text-anchor=\"middle\" x=\"75.5\" y=\"-124.8\" font-family=\"Times,serif\" font-size=\"14.00\">data 1.0000</text>\n<polyline fill=\"none\" stroke=\"black\" points=\"115.5,-110.5 115.5,-146.5\"/>\n<text text-anchor=\"middle\" x=\"156.5\" y=\"-124.8\" font-family=\"Times,serif\" font-size=\"14.00\">grad 0.0000</text>\n</g>\n<!-- 4839805696&#45;&gt;4839813904* -->\n<g id=\"edge21\" class=\"edge\">\n<title>4839805696&#45;&gt;4839813904*</title>\n<path fill=\"none\" stroke=\"black\" d=\"M197.44,-128.5C206.89,-128.5 216.04,-128.5 224.32,-128.5\"/>\n<polygon fill=\"black\" stroke=\"black\" points=\"224.28,-132 234.28,-128.5 224.28,-125 224.28,-132\"/>\n</g>\n<!-- 4839813904 -->\n<g id=\"node12\" class=\"node\">\n<title>4839813904</title>\n<polygon fill=\"none\" stroke=\"black\" points=\"328.5,-110.5 328.5,-146.5 537.5,-146.5 537.5,-110.5 328.5,-110.5\"/>\n<text text-anchor=\"middle\" x=\"352\" y=\"-124.8\" font-family=\"Times,serif\" font-size=\"14.00\">x2w2</text>\n<polyline fill=\"none\" stroke=\"black\" points=\"375.5,-110.5 375.5,-146.5\"/>\n<text text-anchor=\"middle\" x=\"415.5\" y=\"-124.8\" font-family=\"Times,serif\" font-size=\"14.00\">data 0.0000</text>\n<polyline fill=\"none\" stroke=\"black\" points=\"455.5,-110.5 455.5,-146.5\"/>\n<text text-anchor=\"middle\" x=\"496.5\" y=\"-124.8\" font-family=\"Times,serif\" font-size=\"14.00\">grad 0.5000</text>\n</g>\n<!-- 4839813904&#45;&gt;4839813952+ -->\n<g id=\"edge18\" class=\"edge\">\n<title>4839813904&#45;&gt;4839813952+</title>\n<path fill=\"none\" stroke=\"black\" d=\"M537.05,-111.33C547.04,-109.66 556.65,-108.06 565.28,-106.62\"/>\n<polygon fill=\"black\" stroke=\"black\" points=\"565.59,-110.12 574.88,-105.02 564.44,-103.21 565.59,-110.12\"/>\n</g>\n<!-- 4839813904*&#45;&gt;4839813904 -->\n<g id=\"edge5\" class=\"edge\">\n<title>4839813904*&#45;&gt;4839813904</title>\n<path fill=\"none\" stroke=\"black\" d=\"M290.25,-128.5C298.16,-128.5 307.4,-128.5 317.3,-128.5\"/>\n<polygon fill=\"black\" stroke=\"black\" points=\"317.2,-132 327.2,-128.5 317.2,-125 317.2,-132\"/>\n</g>\n<!-- 4839810352 -->\n<g id=\"node14\" class=\"node\">\n<title>4839810352</title>\n<polygon fill=\"none\" stroke=\"black\" points=\"2716,-135.5 2716,-171.5 2901,-171.5 2901,-135.5 2716,-135.5\"/>\n<text text-anchor=\"middle\" x=\"2727.5\" y=\"-149.8\" font-family=\"Times,serif\" font-size=\"14.00\">o</text>\n<polyline fill=\"none\" stroke=\"black\" points=\"2739,-135.5 2739,-171.5\"/>\n<text text-anchor=\"middle\" x=\"2779\" y=\"-149.8\" font-family=\"Times,serif\" font-size=\"14.00\">data 0.7071</text>\n<polyline fill=\"none\" stroke=\"black\" points=\"2819,-135.5 2819,-171.5\"/>\n<text text-anchor=\"middle\" x=\"2860\" y=\"-149.8\" font-family=\"Times,serif\" font-size=\"14.00\">grad 1.0000</text>\n</g>\n<!-- 4839810352*&#45;&gt;4839810352 -->\n<g id=\"edge6\" class=\"edge\">\n<title>4839810352*&#45;&gt;4839810352</title>\n<path fill=\"none\" stroke=\"black\" d=\"M2680.39,-153.5C2687.62,-153.5 2695.92,-153.5 2704.74,-153.5\"/>\n<polygon fill=\"black\" stroke=\"black\" points=\"2704.64,-157 2714.64,-153.5 2704.64,-150 2704.64,-157\"/>\n</g>\n<!-- 4839816496 -->\n<g id=\"node16\" class=\"node\">\n<title>4839816496</title>\n<polygon fill=\"none\" stroke=\"black\" points=\"1657.5,-136.5 1657.5,-172.5 1839.5,-172.5 1839.5,-136.5 1657.5,-136.5\"/>\n<text text-anchor=\"middle\" x=\"1667.5\" y=\"-150.8\" font-family=\"Times,serif\" font-size=\"14.00\"> </text>\n<polyline fill=\"none\" stroke=\"black\" points=\"1677.5,-136.5 1677.5,-172.5\"/>\n<text text-anchor=\"middle\" x=\"1717.5\" y=\"-150.8\" font-family=\"Times,serif\" font-size=\"14.00\">data 5.8284</text>\n<polyline fill=\"none\" stroke=\"black\" points=\"1757.5,-136.5 1757.5,-172.5\"/>\n<text text-anchor=\"middle\" x=\"1798.5\" y=\"-150.8\" font-family=\"Times,serif\" font-size=\"14.00\">grad 0.0429</text>\n</g>\n<!-- 4839816496&#45;&gt;4839808528+ -->\n<g id=\"edge24\" class=\"edge\">\n<title>4839816496&#45;&gt;4839808528+</title>\n<path fill=\"none\" stroke=\"black\" d=\"M1839.37,-138.21C1849.23,-136.43 1858.81,-134.69 1867.44,-133.13\"/>\n<polygon fill=\"black\" stroke=\"black\" points=\"1867.85,-136.61 1877.06,-131.38 1866.6,-129.72 1867.85,-136.61\"/>\n</g>\n<!-- 4839817168+ -->\n<g id=\"node26\" class=\"node\">\n<title>4839817168+</title>\n<ellipse fill=\"none\" stroke=\"black\" cx=\"1905\" cy=\"-181.5\" rx=\"27\" ry=\"18\"/>\n<text text-anchor=\"middle\" x=\"1905\" y=\"-177.8\" font-family=\"Times,serif\" font-size=\"14.00\">+</text>\n</g>\n<!-- 4839816496&#45;&gt;4839817168+ -->\n<g id=\"edge28\" class=\"edge\">\n<title>4839816496&#45;&gt;4839817168+</title>\n<path fill=\"none\" stroke=\"black\" d=\"M1839.37,-170.21C1849.23,-171.93 1858.81,-173.6 1867.44,-175.11\"/>\n<polygon fill=\"black\" stroke=\"black\" points=\"1866.61,-178.52 1877.06,-176.79 1867.81,-171.62 1866.61,-178.52\"/>\n</g>\n<!-- 4839816496exp -->\n<g id=\"node17\" class=\"node\">\n<title>4839816496exp</title>\n<ellipse fill=\"none\" stroke=\"black\" cx=\"1592\" cy=\"-154.5\" rx=\"27\" ry=\"18\"/>\n<text text-anchor=\"middle\" x=\"1592\" y=\"-150.8\" font-family=\"Times,serif\" font-size=\"14.00\">exp</text>\n</g>\n<!-- 4839816496exp&#45;&gt;4839816496 -->\n<g id=\"edge7\" class=\"edge\">\n<title>4839816496exp&#45;&gt;4839816496</title>\n<path fill=\"none\" stroke=\"black\" d=\"M1619.21,-154.5C1627.15,-154.5 1636.4,-154.5 1646.22,-154.5\"/>\n<polygon fill=\"black\" stroke=\"black\" points=\"1646.01,-158 1656.01,-154.5 1646.01,-151 1646.01,-158\"/>\n</g>\n<!-- 4839813952 -->\n<g id=\"node18\" class=\"node\">\n<title>4839813952</title>\n<polygon fill=\"none\" stroke=\"black\" points=\"666,-82.5 666,-118.5 910,-118.5 910,-82.5 666,-82.5\"/>\n<text text-anchor=\"middle\" x=\"704.5\" y=\"-96.8\" font-family=\"Times,serif\" font-size=\"14.00\">x1w1x2w2</text>\n<polyline fill=\"none\" stroke=\"black\" points=\"743,-82.5 743,-118.5\"/>\n<text text-anchor=\"middle\" x=\"785.5\" y=\"-96.8\" font-family=\"Times,serif\" font-size=\"14.00\">data &#45;6.0000</text>\n<polyline fill=\"none\" stroke=\"black\" points=\"828,-82.5 828,-118.5\"/>\n<text text-anchor=\"middle\" x=\"869\" y=\"-96.8\" font-family=\"Times,serif\" font-size=\"14.00\">grad 0.5000</text>\n</g>\n<!-- 4839813952&#45;&gt;4839815872+ -->\n<g id=\"edge15\" class=\"edge\">\n<title>4839813952&#45;&gt;4839815872+</title>\n<path fill=\"none\" stroke=\"black\" d=\"M909.79,-118.32C918.72,-119.64 927.23,-120.89 934.93,-122.03\"/>\n<polygon fill=\"black\" stroke=\"black\" points=\"934.42,-125.49 944.82,-123.49 935.44,-118.57 934.42,-125.49\"/>\n</g>\n<!-- 4839813952+&#45;&gt;4839813952 -->\n<g id=\"edge8\" class=\"edge\">\n<title>4839813952+&#45;&gt;4839813952</title>\n<path fill=\"none\" stroke=\"black\" d=\"M630.22,-100.5C637.46,-100.5 645.83,-100.5 654.87,-100.5\"/>\n<polygon fill=\"black\" stroke=\"black\" points=\"654.68,-104 664.68,-100.5 654.68,-97 654.68,-104\"/>\n</g>\n<!-- 4839803728 -->\n<g id=\"node20\" class=\"node\">\n<title>4839803728</title>\n<polygon fill=\"none\" stroke=\"black\" points=\"2,-55.5 2,-91.5 198,-91.5 198,-55.5 2,-55.5\"/>\n<text text-anchor=\"middle\" x=\"17\" y=\"-69.8\" font-family=\"Times,serif\" font-size=\"14.00\">x1</text>\n<polyline fill=\"none\" stroke=\"black\" points=\"32,-55.5 32,-91.5\"/>\n<text text-anchor=\"middle\" x=\"72\" y=\"-69.8\" font-family=\"Times,serif\" font-size=\"14.00\">data 2.0000</text>\n<polyline fill=\"none\" stroke=\"black\" points=\"112,-55.5 112,-91.5\"/>\n<text text-anchor=\"middle\" x=\"155\" y=\"-69.8\" font-family=\"Times,serif\" font-size=\"14.00\">grad &#45;1.5000</text>\n</g>\n<!-- 4839803728&#45;&gt;4839815680* -->\n<g id=\"edge12\" class=\"edge\">\n<title>4839803728&#45;&gt;4839815680*</title>\n<path fill=\"none\" stroke=\"black\" d=\"M197.91,-73.5C207.21,-73.5 216.21,-73.5 224.38,-73.5\"/>\n<polygon fill=\"black\" stroke=\"black\" points=\"224.18,-77 234.18,-73.5 224.18,-70 224.18,-77\"/>\n</g>\n<!-- 4839805744 -->\n<g id=\"node21\" class=\"node\">\n<title>4839805744</title>\n<polygon fill=\"none\" stroke=\"black\" points=\"0,-0.5 0,-36.5 200,-36.5 200,-0.5 0,-0.5\"/>\n<text text-anchor=\"middle\" x=\"16.5\" y=\"-14.8\" font-family=\"Times,serif\" font-size=\"14.00\">w1</text>\n<polyline fill=\"none\" stroke=\"black\" points=\"33,-0.5 33,-36.5\"/>\n<text text-anchor=\"middle\" x=\"75.5\" y=\"-14.8\" font-family=\"Times,serif\" font-size=\"14.00\">data &#45;3.0000</text>\n<polyline fill=\"none\" stroke=\"black\" points=\"118,-0.5 118,-36.5\"/>\n<text text-anchor=\"middle\" x=\"159\" y=\"-14.8\" font-family=\"Times,serif\" font-size=\"14.00\">grad 1.0000</text>\n</g>\n<!-- 4839805744&#45;&gt;4839815680* -->\n<g id=\"edge14\" class=\"edge\">\n<title>4839805744&#45;&gt;4839815680*</title>\n<path fill=\"none\" stroke=\"black\" d=\"M172.27,-36.48C181.67,-39.28 191.12,-42.3 200,-45.5 210.09,-49.13 220.83,-53.71 230.48,-58.11\"/>\n<polygon fill=\"black\" stroke=\"black\" points=\"228.91,-61.24 239.45,-62.29 231.87,-54.89 228.91,-61.24\"/>\n</g>\n<!-- 4839801184 -->\n<g id=\"node22\" class=\"node\">\n<title>4839801184</title>\n<polygon fill=\"none\" stroke=\"black\" points=\"1037.5,-164.5 1037.5,-200.5 1219.5,-200.5 1219.5,-164.5 1037.5,-164.5\"/>\n<text text-anchor=\"middle\" x=\"1047.5\" y=\"-178.8\" font-family=\"Times,serif\" font-size=\"14.00\"> </text>\n<polyline fill=\"none\" stroke=\"black\" points=\"1057.5,-164.5 1057.5,-200.5\"/>\n<text text-anchor=\"middle\" x=\"1097.5\" y=\"-178.8\" font-family=\"Times,serif\" font-size=\"14.00\">data 2.0000</text>\n<polyline fill=\"none\" stroke=\"black\" points=\"1137.5,-164.5 1137.5,-200.5\"/>\n<text text-anchor=\"middle\" x=\"1178.5\" y=\"-178.8\" font-family=\"Times,serif\" font-size=\"14.00\">grad 0.2203</text>\n</g>\n<!-- 4839801184&#45;&gt;4839816688* -->\n<g id=\"edge13\" class=\"edge\">\n<title>4839801184&#45;&gt;4839816688*</title>\n<path fill=\"none\" stroke=\"black\" d=\"M1219.24,-166.13C1228.78,-164.39 1238.05,-162.7 1246.42,-161.17\"/>\n<polygon fill=\"black\" stroke=\"black\" points=\"1246.91,-164.64 1256.12,-159.4 1245.66,-157.75 1246.91,-164.64\"/>\n</g>\n<!-- 4839817072 -->\n<g id=\"node23\" class=\"node\">\n<title>4839817072</title>\n<polygon fill=\"none\" stroke=\"black\" points=\"1655,-191.5 1655,-227.5 1842,-227.5 1842,-191.5 1655,-191.5\"/>\n<text text-anchor=\"middle\" x=\"1665\" y=\"-205.8\" font-family=\"Times,serif\" font-size=\"14.00\"> </text>\n<polyline fill=\"none\" stroke=\"black\" points=\"1675,-191.5 1675,-227.5\"/>\n<text text-anchor=\"middle\" x=\"1717.5\" y=\"-205.8\" font-family=\"Times,serif\" font-size=\"14.00\">data &#45;1.0000</text>\n<polyline fill=\"none\" stroke=\"black\" points=\"1760,-191.5 1760,-227.5\"/>\n<text text-anchor=\"middle\" x=\"1801\" y=\"-205.8\" font-family=\"Times,serif\" font-size=\"14.00\">grad 0.1464</text>\n</g>\n<!-- 4839817072&#45;&gt;4839817168+ -->\n<g id=\"edge25\" class=\"edge\">\n<title>4839817072&#45;&gt;4839817168+</title>\n<path fill=\"none\" stroke=\"black\" d=\"M1841.6,-192.81C1850.72,-191.16 1859.55,-189.56 1867.56,-188.1\"/>\n<polygon fill=\"black\" stroke=\"black\" points=\"1867.94,-191.59 1877.16,-186.36 1866.7,-184.7 1867.94,-191.59\"/>\n</g>\n<!-- 4839801760 -->\n<g id=\"node24\" class=\"node\">\n<title>4839801760</title>\n<polygon fill=\"none\" stroke=\"black\" points=\"695.5,-137.5 695.5,-173.5 880.5,-173.5 880.5,-137.5 695.5,-137.5\"/>\n<text text-anchor=\"middle\" x=\"707\" y=\"-151.8\" font-family=\"Times,serif\" font-size=\"14.00\">b</text>\n<polyline fill=\"none\" stroke=\"black\" points=\"718.5,-137.5 718.5,-173.5\"/>\n<text text-anchor=\"middle\" x=\"758.5\" y=\"-151.8\" font-family=\"Times,serif\" font-size=\"14.00\">data 6.8814</text>\n<polyline fill=\"none\" stroke=\"black\" points=\"798.5,-137.5 798.5,-173.5\"/>\n<text text-anchor=\"middle\" x=\"839.5\" y=\"-151.8\" font-family=\"Times,serif\" font-size=\"14.00\">grad 0.5000</text>\n</g>\n<!-- 4839801760&#45;&gt;4839815872+ -->\n<g id=\"edge17\" class=\"edge\">\n<title>4839801760&#45;&gt;4839815872+</title>\n<path fill=\"none\" stroke=\"black\" d=\"M880.5,-141.5C899.91,-138.53 919.33,-135.56 935.25,-133.12\"/>\n<polygon fill=\"black\" stroke=\"black\" points=\"935.32,-136.65 944.67,-131.68 934.26,-129.73 935.32,-136.65\"/>\n</g>\n<!-- 4839817168 -->\n<g id=\"node25\" class=\"node\">\n<title>4839817168</title>\n<polygon fill=\"none\" stroke=\"black\" points=\"2190,-163.5 2190,-199.5 2372,-199.5 2372,-163.5 2190,-163.5\"/>\n<text text-anchor=\"middle\" x=\"2200\" y=\"-177.8\" font-family=\"Times,serif\" font-size=\"14.00\"> </text>\n<polyline fill=\"none\" stroke=\"black\" points=\"2210,-163.5 2210,-199.5\"/>\n<text text-anchor=\"middle\" x=\"2250\" y=\"-177.8\" font-family=\"Times,serif\" font-size=\"14.00\">data 4.8284</text>\n<polyline fill=\"none\" stroke=\"black\" points=\"2290,-163.5 2290,-199.5\"/>\n<text text-anchor=\"middle\" x=\"2331\" y=\"-177.8\" font-family=\"Times,serif\" font-size=\"14.00\">grad 0.1464</text>\n</g>\n<!-- 4839817168&#45;&gt;4839810352* -->\n<g id=\"edge19\" class=\"edge\">\n<title>4839817168&#45;&gt;4839810352*</title>\n<path fill=\"none\" stroke=\"black\" d=\"M2371.97,-174.92C2433.4,-170.4 2516.63,-164.2 2590,-158.5 2597.88,-157.89 2606.33,-157.22 2614.38,-156.57\"/>\n<polygon fill=\"black\" stroke=\"black\" points=\"2614.56,-160.07 2624.25,-155.77 2614,-153.09 2614.56,-160.07\"/>\n</g>\n<!-- 4839817168+&#45;&gt;4839817168 -->\n<g id=\"edge9\" class=\"edge\">\n<title>4839817168+&#45;&gt;4839817168</title>\n<path fill=\"none\" stroke=\"black\" d=\"M1932.3,-181.5C1982.69,-181.5 2095.25,-181.5 2178.73,-181.5\"/>\n<polygon fill=\"black\" stroke=\"black\" points=\"2178.53,-185 2188.53,-181.5 2178.53,-178 2178.53,-185\"/>\n</g>\n<!-- 4839816688 -->\n<g id=\"node27\" class=\"node\">\n<title>4839816688</title>\n<polygon fill=\"none\" stroke=\"black\" points=\"1347,-136.5 1347,-172.5 1529,-172.5 1529,-136.5 1347,-136.5\"/>\n<text text-anchor=\"middle\" x=\"1357\" y=\"-150.8\" font-family=\"Times,serif\" font-size=\"14.00\"> </text>\n<polyline fill=\"none\" stroke=\"black\" points=\"1367,-136.5 1367,-172.5\"/>\n<text text-anchor=\"middle\" x=\"1407\" y=\"-150.8\" font-family=\"Times,serif\" font-size=\"14.00\">data 1.7627</text>\n<polyline fill=\"none\" stroke=\"black\" points=\"1447,-136.5 1447,-172.5\"/>\n<text text-anchor=\"middle\" x=\"1488\" y=\"-150.8\" font-family=\"Times,serif\" font-size=\"14.00\">grad 0.2500</text>\n</g>\n<!-- 4839816688&#45;&gt;4839816496exp -->\n<g id=\"edge23\" class=\"edge\">\n<title>4839816688&#45;&gt;4839816496exp</title>\n<path fill=\"none\" stroke=\"black\" d=\"M1528.74,-154.5C1537.34,-154.5 1545.7,-154.5 1553.36,-154.5\"/>\n<polygon fill=\"black\" stroke=\"black\" points=\"1553.24,-158 1563.24,-154.5 1553.24,-151 1553.24,-158\"/>\n</g>\n<!-- 4839816688*&#45;&gt;4839816688 -->\n<g id=\"edge10\" class=\"edge\">\n<title>4839816688*&#45;&gt;4839816688</title>\n<path fill=\"none\" stroke=\"black\" d=\"M1311.48,-154.5C1318.71,-154.5 1327.01,-154.5 1335.82,-154.5\"/>\n<polygon fill=\"black\" stroke=\"black\" points=\"1335.69,-158 1345.69,-154.5 1335.69,-151 1335.69,-158\"/>\n</g>\n</g>\n</svg>\n",
      "text/plain": [
       "<graphviz.graphs.Digraph at 0x12079aa70>"
      ]
     },
     "execution_count": 46,
     "metadata": {},
     "output_type": "execute_result"
    }
   ],
   "source": [
    "x1 = Value(2., label='x1')\n",
    "x2 = Value(0., label='x2')\n",
    "\n",
    "w1 = Value(-3., label='w1')\n",
    "w2 = Value(1, label='w2')\n",
    "\n",
    "x1w1 = x1 * w1; x1w1.label='x1w1'\n",
    "x2w2 = x2 * w2; x2w2.label='x2w2'\n",
    "b = Value(6.8813735870195432, label='b')\n",
    "x1w1x2w2= x1w1 + x2w2; x1w1x2w2.label='x1w1x2w2'\n",
    "n = x1w1x2w2+b; n.label='n'\n",
    "e = (2*n).exp()\n",
    "o = (e-1)/(e+1)\n",
    "#o = n.tanh()\n",
    "o.label = 'o'\n",
    "\n",
    "\n",
    "#o.grad = 1.\n",
    "#o._backward()\n",
    "#n._backward()\n",
    "#x1w1x2w2._backward()\n",
    "#x1w1._backward()\n",
    "##b._backward()\n",
    "#x2w2._backward()\n",
    "#x2._backward()\n",
    "o.backward()\n",
    "draw_dot(o)\n"
   ]
  },
  {
   "cell_type": "code",
   "execution_count": 47,
   "metadata": {},
   "outputs": [
    {
     "data": {
      "text/plain": [
       "Value(self.data = -0.938553939992609, self.grad=0.0, self.label = '')"
      ]
     },
     "execution_count": 47,
     "metadata": {},
     "output_type": "execute_result"
    }
   ],
   "source": [
    "class Neuron:\n",
    "    \n",
    "    def __init__(self, nin:int, activation='tanh') -> None:\n",
    "        self.w = [Value(random.uniform(-1,1))for _ in range(nin)]\n",
    "        self.b = Value(random.uniform(-1,1))\n",
    "        self.activation = activation\n",
    "        \n",
    "    \n",
    "    def __call__(self, x):\n",
    "        out = sum([wi*xi for wi,xi in zip(self.w, x)], self.b)\n",
    "        if self.activation=='tanh':\n",
    "            out = out.tanh()\n",
    "        return out\n",
    "        \n",
    "    \n",
    "x =[2., 3., -1.]\n",
    "n = Neuron(3)\n",
    "n(x)"
   ]
  },
  {
   "cell_type": "code",
   "execution_count": 48,
   "metadata": {},
   "outputs": [
    {
     "data": {
      "text/plain": [
       "[Value(self.data = 0.9909065296322682, self.grad=0.0, self.label = ''),\n",
       " Value(self.data = -0.9997216939783232, self.grad=0.0, self.label = ''),\n",
       " Value(self.data = 0.031169209778011617, self.grad=0.0, self.label = ''),\n",
       " Value(self.data = -0.26548208148363767, self.grad=0.0, self.label = '')]"
      ]
     },
     "execution_count": 48,
     "metadata": {},
     "output_type": "execute_result"
    }
   ],
   "source": [
    "class Layer:\n",
    "    \n",
    "    def __init__(self, nin, nout) -> None:\n",
    "        self.neurons = [Neuron(nin)for _ in range(nout)]\n",
    "    \n",
    "    def __call__(self, x):\n",
    "        outs = [n(x) for n in self.neurons]\n",
    "        return outs[0] if len(outs)==1 else outs\n",
    "    \n",
    "l = Layer(3,4)\n",
    "l(x)"
   ]
  },
  {
   "cell_type": "code",
   "execution_count": 49,
   "metadata": {},
   "outputs": [],
   "source": [
    "class MLP:\n",
    "    \n",
    "    def __init__(self, nin, nouts) -> None:\n",
    "        sz = [nin] + nouts\n",
    "        self.layers = [Layer(sz[i], sz[i+1]) \n",
    "                       for i \n",
    "                       in range(len(nouts))]\n",
    "        \n",
    "        \n",
    "    def __call__(self, x):\n",
    "        for l in self.layers:\n",
    "            x = l(x)\n",
    "        return x\n",
    "        \n",
    "m = MLP(3,[4,4,1])\n",
    "out = m(x)\n",
    "out.backward()"
   ]
  },
  {
   "cell_type": "code",
   "execution_count": 50,
   "metadata": {},
   "outputs": [],
   "source": [
    "xs = [\n",
    "  [2.0, 3.0, -1.0],\n",
    "  [3.0, -1.0, 0.5],\n",
    "  [0.5, 1.0, 1.0],\n",
    "  [1.0, 1.0, -1.0],\n",
    "]\n",
    "ys = [1.0, -1.0, -1.0, 1.0] # desired targets\n",
    "\n",
    "ypred =[m(x) for x in xs]"
   ]
  },
  {
   "cell_type": "code",
   "execution_count": 52,
   "metadata": {},
   "outputs": [
    {
     "data": {
      "text/plain": [
       "Value(self.data = 5.350606076096047, self.grad=0.0, self.label = '')"
      ]
     },
     "execution_count": 52,
     "metadata": {},
     "output_type": "execute_result"
    }
   ],
   "source": [
    "loss = sum([(ygt-yout)**2 for ygt, yout in zip(ys, ypred)])\n",
    "loss\n"
   ]
  },
  {
   "cell_type": "code",
   "execution_count": null,
   "metadata": {},
   "outputs": [],
   "source": [
    "a = Value(3., label='a')\n",
    "b = a + a; b.label = 'b'\n",
    "\n",
    "b.backward()    \n",
    "draw_dot(b)    "
   ]
  },
  {
   "cell_type": "code",
   "execution_count": null,
   "metadata": {},
   "outputs": [],
   "source": [
    "a = Value(-2., label='a')\n",
    "b = Value(3., label='b')\n",
    "d = a*b; d.label='d'\n",
    "e = a+b; e.label='e'\n",
    "f = d*e; f.label='f'\n",
    "\n",
    "f.backward()\n",
    "draw_dot(f)"
   ]
  },
  {
   "cell_type": "code",
   "execution_count": null,
   "metadata": {},
   "outputs": [],
   "source": []
  },
  {
   "cell_type": "code",
   "execution_count": null,
   "metadata": {},
   "outputs": [],
   "source": []
  },
  {
   "cell_type": "code",
   "execution_count": null,
   "metadata": {},
   "outputs": [],
   "source": []
  },
  {
   "cell_type": "code",
   "execution_count": null,
   "metadata": {},
   "outputs": [],
   "source": [
    "import torch\n",
    "def fit_polynomial(D, x, y):\n",
    "    # Broadcasting magic\n",
    "    X = x[:, None] ** torch.arange(0, D + 1)[None]\n",
    "    # Least square solution\n",
    "    return torch.linalg.lstsq(X, y).solution\n",
    "\n",
    "D, N = 4, 100\n",
    "x = torch.linspace(-math.pi, math.pi, N)\n",
    "y = x.sin()\n",
    "alpha = fit_polynomial(D, x, y)\n",
    "X = x[:, None] ** torch.arange(0, D + 1)[None]\n",
    "y_hat = X @ alpha\n",
    "#for k in range(N):\n",
    "#    print(x[k].item(), y[k].item(), y_hat[k].item())"
   ]
  },
  {
   "cell_type": "code",
   "execution_count": null,
   "metadata": {},
   "outputs": [],
   "source": [
    "X"
   ]
  },
  {
   "cell_type": "code",
   "execution_count": null,
   "metadata": {},
   "outputs": [],
   "source": []
  }
 ],
 "metadata": {
  "kernelspec": {
   "display_name": "Python 3.10.8 ('micrograd')",
   "language": "python",
   "name": "python3"
  },
  "language_info": {
   "codemirror_mode": {
    "name": "ipython",
    "version": 3
   },
   "file_extension": ".py",
   "mimetype": "text/x-python",
   "name": "python",
   "nbconvert_exporter": "python",
   "pygments_lexer": "ipython3",
   "version": "3.10.8"
  },
  "vscode": {
   "interpreter": {
    "hash": "0817e48aad823e29ab0979a99cf84a8de159f5c28af964a8e0018065f64daf7e"
   }
  }
 },
 "nbformat": 4,
 "nbformat_minor": 4
}
