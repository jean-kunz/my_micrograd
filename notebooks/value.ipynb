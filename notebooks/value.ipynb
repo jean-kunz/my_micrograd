{
 "cells": [
  {
   "attachments": {},
   "cell_type": "markdown",
   "metadata": {},
   "source": [
    "# Value based computations\n"
   ]
  },
  {
   "cell_type": "code",
   "execution_count": 1,
   "metadata": {},
   "outputs": [],
   "source": [
    "#| default_exp explore"
   ]
  },
  {
   "cell_type": "code",
   "execution_count": 2,
   "metadata": {},
   "outputs": [],
   "source": [
    "#| export\n",
    "import numpy as np\n",
    "from graphviz import Digraph\n",
    "import math\n",
    "import random"
   ]
  },
  {
   "cell_type": "code",
   "execution_count": 3,
   "metadata": {},
   "outputs": [],
   "source": [
    "def trace(root):\n",
    "    nodes, edges = set(), set()\n",
    "    def build(v):\n",
    "        if v not in nodes:\n",
    "            nodes.add(v)\n",
    "            for child in v._prev:\n",
    "                edges.add((child, v))\n",
    "                build(child)\n",
    "    build(root)\n",
    "    return nodes, edges\n",
    "\n",
    "def draw_dot(root, format='svg', rankdir='LR'):\n",
    "    \"\"\"\n",
    "    format: png | svg | ...\n",
    "    rankdir: TB (top to bottom graph) | LR (left to right)\n",
    "    \"\"\"\n",
    "    assert rankdir in ['LR', 'TB']\n",
    "    nodes, edges = trace(root)\n",
    "    dot = Digraph(format=format, graph_attr={'rankdir': rankdir}) #, node_attr={'rankdir': 'TB'})\n",
    "    \n",
    "    for n in nodes:\n",
    "        dot.node(name=str(id(n)), label = \"{%s | data %.4f | grad %.4f }\" % (n.label, n.data, n.grad), shape='record')\n",
    "        if n._op:\n",
    "            dot.node(name=str(id(n)) + n._op, label=n._op)\n",
    "            dot.edge(str(id(n)) + n._op, str(id(n)))\n",
    "    \n",
    "    for n1, n2 in edges:\n",
    "        dot.edge(str(id(n1)), str(id(n2)) + n2._op)\n",
    "    \n",
    "    return dot"
   ]
  },
  {
   "cell_type": "code",
   "execution_count": 73,
   "metadata": {},
   "outputs": [],
   "source": [
    "#| export \n",
    "class Value:\n",
    "    \n",
    "    def __init__(self, data: float, _prev:set=(), _op: str='', label='') -> None:\n",
    "        self.data = data\n",
    "        self._prev = _prev\n",
    "        self._backward = lambda: None\n",
    "        self._op = _op\n",
    "        self.label = label\n",
    "        self.grad: float = 0.\n",
    "        \n",
    "    def __repr__(self) -> str:\n",
    "        return f\"Value({self.data = }, {self.grad=}, {self.label = })\"\n",
    "    \n",
    "    def __add__(self, other):\n",
    "        other = other if isinstance(other, Value) else (Value(other))\n",
    "        out = Value(self.data + other.data, _prev=(self,other),_op='+')\n",
    "        \n",
    "        def _backward():\n",
    "            # we do += to manage the case where we add with itself and it overrides the gradient. So we always add grad. \n",
    "            self.grad += 1. * out.grad\n",
    "            other.grad += 1. * out.grad\n",
    "        out._backward = _backward\n",
    "        \n",
    "        return out\n",
    "    \n",
    "    def __radd__(self, other):\n",
    "        return self + other\n",
    "    \n",
    "    def __neg__(self):\n",
    "        return self *-1\n",
    "    \n",
    "    def __sub__(self, other):\n",
    "        return self + (-other)\n",
    "        \n",
    "    def __rsub__(self, other):\n",
    "        return self.__sub__(other)\n",
    "    \n",
    "    def __mul__(self, other):\n",
    "        other = other if isinstance(other, Value) else (Value(other))\n",
    "        out =  Value(self.data * other.data, _prev=(self,other),_op='*')\n",
    "    \n",
    "        def _backward():\n",
    "            self.grad += other.data * out.grad\n",
    "            other.grad += self.data * out.grad            \n",
    "        out._backward = _backward\n",
    "        return out\n",
    "    \n",
    "    def __rmul__(self, other):\n",
    "        return self * other\n",
    "    \n",
    "    def __truediv__(self, other):\n",
    "        return self * (other**-1)\n",
    "    \n",
    "    def __pow__(self, other):\n",
    "        assert isinstance(other, (int, float)), \"Other should be either int or float\"\n",
    "        out = Value(self.data**other, _prev=(self,), _op='**')\n",
    "        \n",
    "        def _backward():\n",
    "            self.grad += other * (self.data**(other-1)) * out.grad\n",
    "            \n",
    "        out._backward = _backward\n",
    "        \n",
    "        return out\n",
    "        \n",
    "    \n",
    "    def exp(self):\n",
    "        x = self.data\n",
    "        out = Value(math.exp(x), _prev=(self,), _op='exp')\n",
    "        \n",
    "        def _backward():\n",
    "            self.grad += out.data * out.grad\n",
    "        out._backward = _backward\n",
    "        \n",
    "        return out\n",
    "        \n",
    "    def relu(self):\n",
    "        out = Value(0 if self.data < 0 else self.data, (self,), 'ReLU')\n",
    "\n",
    "        def _backward():\n",
    "            self.grad += (out.data > 0) * out.grad\n",
    "        out._backward = _backward\n",
    "\n",
    "        return out\n",
    "        \n",
    "    \n",
    "    def tanh(self):\n",
    "        x = self.data\n",
    "        n = (1-math.exp(-2*x))/(1+math.exp(-2*x))\n",
    "        out = Value(n, _prev=(self,), _op='tanh')\n",
    "        \n",
    "        def _backward():\n",
    "            self.grad += (1-n**2) * out.grad\n",
    "        \n",
    "        out._backward = _backward\n",
    "        \n",
    "        return out\n",
    "    \n",
    "    \n",
    "    def backward(self):\n",
    "        topo = []\n",
    "        visited = set()\n",
    "\n",
    "        def build_topo(node: Value):\n",
    "            if node not in visited:\n",
    "                visited.add(node)\n",
    "                for prev in node._prev:\n",
    "                    build_topo(prev)\n",
    "                topo.append(node)\n",
    "\n",
    "        build_topo(self) \n",
    "        topo  \n",
    "        self.grad = 1.\n",
    "        for node in reversed(topo):\n",
    "            node._backward()"
   ]
  },
  {
   "cell_type": "code",
   "execution_count": 74,
   "metadata": {},
   "outputs": [
    {
     "data": {
      "image/svg+xml": "<?xml version=\"1.0\" encoding=\"UTF-8\" standalone=\"no\"?>\n<!DOCTYPE svg PUBLIC \"-//W3C//DTD SVG 1.1//EN\"\n \"http://www.w3.org/Graphics/SVG/1.1/DTD/svg11.dtd\">\n<!-- Generated by graphviz version 7.1.0 (20230121.1956)\n -->\n<!-- Pages: 1 -->\n<svg width=\"826pt\" height=\"127pt\"\n viewBox=\"0.00 0.00 826.00 127.00\" xmlns=\"http://www.w3.org/2000/svg\" xmlns:xlink=\"http://www.w3.org/1999/xlink\">\n<g id=\"graph0\" class=\"graph\" transform=\"scale(1 1) rotate(0) translate(4 123)\">\n<polygon fill=\"white\" stroke=\"none\" points=\"-4,4 -4,-123 822,-123 822,4 -4,4\"/>\n<!-- 5612220576 -->\n<g id=\"node1\" class=\"node\">\n<title>5612220576</title>\n<polygon fill=\"none\" stroke=\"black\" points=\"315,-27.5 315,-63.5 502,-63.5 502,-27.5 315,-27.5\"/>\n<text text-anchor=\"middle\" x=\"325\" y=\"-41.8\" font-family=\"Times,serif\" font-size=\"14.00\"> </text>\n<polyline fill=\"none\" stroke=\"black\" points=\"335,-27.5 335,-63.5\"/>\n<text text-anchor=\"middle\" x=\"377.5\" y=\"-41.8\" font-family=\"Times,serif\" font-size=\"14.00\">data &#45;4.0000</text>\n<polyline fill=\"none\" stroke=\"black\" points=\"420,-27.5 420,-63.5\"/>\n<text text-anchor=\"middle\" x=\"461\" y=\"-41.8\" font-family=\"Times,serif\" font-size=\"14.00\">grad 1.0000</text>\n</g>\n<!-- 5612219232+ -->\n<g id=\"node7\" class=\"node\">\n<title>5612219232+</title>\n<ellipse fill=\"none\" stroke=\"black\" cx=\"565\" cy=\"-72.5\" rx=\"27\" ry=\"18\"/>\n<text text-anchor=\"middle\" x=\"565\" y=\"-68.8\" font-family=\"Times,serif\" font-size=\"14.00\">+</text>\n</g>\n<!-- 5612220576&#45;&gt;5612219232+ -->\n<g id=\"edge5\" class=\"edge\">\n<title>5612220576&#45;&gt;5612219232+</title>\n<path fill=\"none\" stroke=\"black\" d=\"M501.6,-61.6C510.53,-63.16 519.18,-64.67 527.06,-66.04\"/>\n<polygon fill=\"black\" stroke=\"black\" points=\"526.4,-69.48 536.86,-67.76 527.61,-62.59 526.4,-69.48\"/>\n</g>\n<!-- 5612220576* -->\n<g id=\"node2\" class=\"node\">\n<title>5612220576*</title>\n<ellipse fill=\"none\" stroke=\"black\" cx=\"252\" cy=\"-45.5\" rx=\"27\" ry=\"18\"/>\n<text text-anchor=\"middle\" x=\"252\" y=\"-41.8\" font-family=\"Times,serif\" font-size=\"14.00\">*</text>\n</g>\n<!-- 5612220576*&#45;&gt;5612220576 -->\n<g id=\"edge1\" class=\"edge\">\n<title>5612220576*&#45;&gt;5612220576</title>\n<path fill=\"none\" stroke=\"black\" d=\"M279.21,-45.5C286.47,-45.5 294.83,-45.5 303.71,-45.5\"/>\n<polygon fill=\"black\" stroke=\"black\" points=\"303.7,-49 313.7,-45.5 303.7,-42 303.7,-49\"/>\n</g>\n<!-- 5612219568 -->\n<g id=\"node3\" class=\"node\">\n<title>5612219568</title>\n<polygon fill=\"none\" stroke=\"black\" points=\"316,-82.5 316,-118.5 501,-118.5 501,-82.5 316,-82.5\"/>\n<text text-anchor=\"middle\" x=\"327.5\" y=\"-96.8\" font-family=\"Times,serif\" font-size=\"14.00\">a</text>\n<polyline fill=\"none\" stroke=\"black\" points=\"339,-82.5 339,-118.5\"/>\n<text text-anchor=\"middle\" x=\"379\" y=\"-96.8\" font-family=\"Times,serif\" font-size=\"14.00\">data 2.0000</text>\n<polyline fill=\"none\" stroke=\"black\" points=\"419,-82.5 419,-118.5\"/>\n<text text-anchor=\"middle\" x=\"460\" y=\"-96.8\" font-family=\"Times,serif\" font-size=\"14.00\">grad 1.0000</text>\n</g>\n<!-- 5612219568&#45;&gt;5612219232+ -->\n<g id=\"edge4\" class=\"edge\">\n<title>5612219568&#45;&gt;5612219232+</title>\n<path fill=\"none\" stroke=\"black\" d=\"M500.71,-83.97C510.02,-82.28 519.04,-80.65 527.23,-79.16\"/>\n<polygon fill=\"black\" stroke=\"black\" points=\"527.84,-82.61 537.05,-77.38 526.59,-75.72 527.84,-82.61\"/>\n</g>\n<!-- 5612221104 -->\n<g id=\"node4\" class=\"node\">\n<title>5612221104</title>\n<polygon fill=\"none\" stroke=\"black\" points=\"1,-55.5 1,-91.5 188,-91.5 188,-55.5 1,-55.5\"/>\n<text text-anchor=\"middle\" x=\"11\" y=\"-69.8\" font-family=\"Times,serif\" font-size=\"14.00\"> </text>\n<polyline fill=\"none\" stroke=\"black\" points=\"21,-55.5 21,-91.5\"/>\n<text text-anchor=\"middle\" x=\"63.5\" y=\"-69.8\" font-family=\"Times,serif\" font-size=\"14.00\">data &#45;1.0000</text>\n<polyline fill=\"none\" stroke=\"black\" points=\"106,-55.5 106,-91.5\"/>\n<text text-anchor=\"middle\" x=\"147\" y=\"-69.8\" font-family=\"Times,serif\" font-size=\"14.00\">grad 4.0000</text>\n</g>\n<!-- 5612221104&#45;&gt;5612220576* -->\n<g id=\"edge3\" class=\"edge\">\n<title>5612221104&#45;&gt;5612220576*</title>\n<path fill=\"none\" stroke=\"black\" d=\"M187.75,-56.89C197.07,-55.21 206.09,-53.59 214.27,-52.11\"/>\n<polygon fill=\"black\" stroke=\"black\" points=\"214.87,-55.56 224.09,-50.34 213.63,-48.67 214.87,-55.56\"/>\n</g>\n<!-- 5612220192 -->\n<g id=\"node5\" class=\"node\">\n<title>5612220192</title>\n<polygon fill=\"none\" stroke=\"black\" points=\"0,-0.5 0,-36.5 189,-36.5 189,-0.5 0,-0.5\"/>\n<text text-anchor=\"middle\" x=\"11.5\" y=\"-14.8\" font-family=\"Times,serif\" font-size=\"14.00\">b</text>\n<polyline fill=\"none\" stroke=\"black\" points=\"23,-0.5 23,-36.5\"/>\n<text text-anchor=\"middle\" x=\"63\" y=\"-14.8\" font-family=\"Times,serif\" font-size=\"14.00\">data 4.0000</text>\n<polyline fill=\"none\" stroke=\"black\" points=\"103,-0.5 103,-36.5\"/>\n<text text-anchor=\"middle\" x=\"146\" y=\"-14.8\" font-family=\"Times,serif\" font-size=\"14.00\">grad &#45;1.0000</text>\n</g>\n<!-- 5612220192&#45;&gt;5612220576* -->\n<g id=\"edge6\" class=\"edge\">\n<title>5612220192&#45;&gt;5612220576*</title>\n<path fill=\"none\" stroke=\"black\" d=\"M188.65,-34.67C197.58,-36.22 206.23,-37.73 214.11,-39.09\"/>\n<polygon fill=\"black\" stroke=\"black\" points=\"213.45,-42.53 223.9,-40.79 214.64,-35.63 213.45,-42.53\"/>\n</g>\n<!-- 5612219232 -->\n<g id=\"node6\" class=\"node\">\n<title>5612219232</title>\n<polygon fill=\"none\" stroke=\"black\" points=\"628,-54.5 628,-90.5 818,-90.5 818,-54.5 628,-54.5\"/>\n<text text-anchor=\"middle\" x=\"639.5\" y=\"-68.8\" font-family=\"Times,serif\" font-size=\"14.00\">c</text>\n<polyline fill=\"none\" stroke=\"black\" points=\"651,-54.5 651,-90.5\"/>\n<text text-anchor=\"middle\" x=\"693.5\" y=\"-68.8\" font-family=\"Times,serif\" font-size=\"14.00\">data &#45;2.0000</text>\n<polyline fill=\"none\" stroke=\"black\" points=\"736,-54.5 736,-90.5\"/>\n<text text-anchor=\"middle\" x=\"777\" y=\"-68.8\" font-family=\"Times,serif\" font-size=\"14.00\">grad 1.0000</text>\n</g>\n<!-- 5612219232+&#45;&gt;5612219232 -->\n<g id=\"edge2\" class=\"edge\">\n<title>5612219232+&#45;&gt;5612219232</title>\n<path fill=\"none\" stroke=\"black\" d=\"M592.46,-72.5C599.68,-72.5 607.95,-72.5 616.76,-72.5\"/>\n<polygon fill=\"black\" stroke=\"black\" points=\"616.64,-76 626.64,-72.5 616.64,-69 616.64,-76\"/>\n</g>\n</g>\n</svg>\n",
      "text/plain": [
       "<graphviz.graphs.Digraph at 0x14e83ae00>"
      ]
     },
     "execution_count": 74,
     "metadata": {},
     "output_type": "execute_result"
    }
   ],
   "source": [
    "a = Value(2., label='a')\n",
    "b = Value(4., label='b')\n",
    "#a+1\n",
    "#a*2\n",
    "2*a\n",
    "#1*a\n",
    "#1+a\n",
    "#a.exp()\n",
    "#a/b\n",
    "c=a-b; c.label='c'\n",
    "\n",
    "c.backward()\n",
    "draw_dot(c)"
   ]
  },
  {
   "cell_type": "code",
   "execution_count": 75,
   "metadata": {},
   "outputs": [
    {
     "data": {
      "image/svg+xml": "<?xml version=\"1.0\" encoding=\"UTF-8\" standalone=\"no\"?>\n<!DOCTYPE svg PUBLIC \"-//W3C//DTD SVG 1.1//EN\"\n \"http://www.w3.org/Graphics/SVG/1.1/DTD/svg11.dtd\">\n<!-- Generated by graphviz version 7.1.0 (20230121.1956)\n -->\n<!-- Pages: 1 -->\n<svg width=\"2909pt\" height=\"239pt\"\n viewBox=\"0.00 0.00 2909.00 239.00\" xmlns=\"http://www.w3.org/2000/svg\" xmlns:xlink=\"http://www.w3.org/1999/xlink\">\n<g id=\"graph0\" class=\"graph\" transform=\"scale(1 1) rotate(0) translate(4 235)\">\n<polygon fill=\"white\" stroke=\"none\" points=\"-4,4 -4,-235 2905,-235 2905,4 -4,4\"/>\n<!-- 5612210688 -->\n<g id=\"node1\" class=\"node\">\n<title>5612210688</title>\n<polygon fill=\"none\" stroke=\"black\" points=\"1655,-110.5 1655,-146.5 1842,-146.5 1842,-110.5 1655,-110.5\"/>\n<text text-anchor=\"middle\" x=\"1665\" y=\"-124.8\" font-family=\"Times,serif\" font-size=\"14.00\"> </text>\n<polyline fill=\"none\" stroke=\"black\" points=\"1675,-110.5 1675,-146.5\"/>\n<text text-anchor=\"middle\" x=\"1717.5\" y=\"-124.8\" font-family=\"Times,serif\" font-size=\"14.00\">data &#45;1.0000</text>\n<polyline fill=\"none\" stroke=\"black\" points=\"1760,-110.5 1760,-146.5\"/>\n<text text-anchor=\"middle\" x=\"1801\" y=\"-124.8\" font-family=\"Times,serif\" font-size=\"14.00\">grad 0.1464</text>\n</g>\n<!-- 5612210592+ -->\n<g id=\"node22\" class=\"node\">\n<title>5612210592+</title>\n<ellipse fill=\"none\" stroke=\"black\" cx=\"1905\" cy=\"-100.5\" rx=\"27\" ry=\"18\"/>\n<text text-anchor=\"middle\" x=\"1905\" y=\"-96.8\" font-family=\"Times,serif\" font-size=\"14.00\">+</text>\n</g>\n<!-- 5612210688&#45;&gt;5612210592+ -->\n<g id=\"edge28\" class=\"edge\">\n<title>5612210688&#45;&gt;5612210592+</title>\n<path fill=\"none\" stroke=\"black\" d=\"M1841.6,-111.81C1850.72,-110.16 1859.55,-108.56 1867.56,-107.1\"/>\n<polygon fill=\"black\" stroke=\"black\" points=\"1867.94,-110.59 1877.16,-105.36 1866.7,-103.7 1867.94,-110.59\"/>\n</g>\n<!-- 5612218896 -->\n<g id=\"node2\" class=\"node\">\n<title>5612218896</title>\n<polygon fill=\"none\" stroke=\"black\" points=\"326,-139.5 326,-175.5 540,-175.5 540,-139.5 326,-139.5\"/>\n<text text-anchor=\"middle\" x=\"349.5\" y=\"-153.8\" font-family=\"Times,serif\" font-size=\"14.00\">x1w1</text>\n<polyline fill=\"none\" stroke=\"black\" points=\"373,-139.5 373,-175.5\"/>\n<text text-anchor=\"middle\" x=\"415.5\" y=\"-153.8\" font-family=\"Times,serif\" font-size=\"14.00\">data &#45;6.0000</text>\n<polyline fill=\"none\" stroke=\"black\" points=\"458,-139.5 458,-175.5\"/>\n<text text-anchor=\"middle\" x=\"499\" y=\"-153.8\" font-family=\"Times,serif\" font-size=\"14.00\">grad 0.5000</text>\n</g>\n<!-- 5612219184+ -->\n<g id=\"node19\" class=\"node\">\n<title>5612219184+</title>\n<ellipse fill=\"none\" stroke=\"black\" cx=\"603\" cy=\"-129.5\" rx=\"27\" ry=\"18\"/>\n<text text-anchor=\"middle\" x=\"603\" y=\"-125.8\" font-family=\"Times,serif\" font-size=\"14.00\">+</text>\n</g>\n<!-- 5612218896&#45;&gt;5612219184+ -->\n<g id=\"edge14\" class=\"edge\">\n<title>5612218896&#45;&gt;5612219184+</title>\n<path fill=\"none\" stroke=\"black\" d=\"M539.92,-139.85C548.88,-138.35 557.49,-136.92 565.29,-135.62\"/>\n<polygon fill=\"black\" stroke=\"black\" points=\"565.66,-139.1 574.95,-134.01 564.51,-132.2 565.66,-139.1\"/>\n</g>\n<!-- 5612218896* -->\n<g id=\"node3\" class=\"node\">\n<title>5612218896*</title>\n<ellipse fill=\"none\" stroke=\"black\" cx=\"263\" cy=\"-157.5\" rx=\"27\" ry=\"18\"/>\n<text text-anchor=\"middle\" x=\"263\" y=\"-153.8\" font-family=\"Times,serif\" font-size=\"14.00\">*</text>\n</g>\n<!-- 5612218896*&#45;&gt;5612218896 -->\n<g id=\"edge1\" class=\"edge\">\n<title>5612218896*&#45;&gt;5612218896</title>\n<path fill=\"none\" stroke=\"black\" d=\"M290.25,-157.5C297.53,-157.5 305.94,-157.5 314.95,-157.5\"/>\n<polygon fill=\"black\" stroke=\"black\" points=\"314.69,-161 324.69,-157.5 314.69,-154 314.69,-161\"/>\n</g>\n<!-- 5612211744 -->\n<g id=\"node4\" class=\"node\">\n<title>5612211744</title>\n<polygon fill=\"none\" stroke=\"black\" points=\"2716,-54.5 2716,-90.5 2901,-90.5 2901,-54.5 2716,-54.5\"/>\n<text text-anchor=\"middle\" x=\"2727.5\" y=\"-68.8\" font-family=\"Times,serif\" font-size=\"14.00\">o</text>\n<polyline fill=\"none\" stroke=\"black\" points=\"2739,-54.5 2739,-90.5\"/>\n<text text-anchor=\"middle\" x=\"2779\" y=\"-68.8\" font-family=\"Times,serif\" font-size=\"14.00\">data 0.7071</text>\n<polyline fill=\"none\" stroke=\"black\" points=\"2819,-54.5 2819,-90.5\"/>\n<text text-anchor=\"middle\" x=\"2860\" y=\"-68.8\" font-family=\"Times,serif\" font-size=\"14.00\">grad 1.0000</text>\n</g>\n<!-- 5612211744* -->\n<g id=\"node5\" class=\"node\">\n<title>5612211744*</title>\n<ellipse fill=\"none\" stroke=\"black\" cx=\"2653\" cy=\"-72.5\" rx=\"27\" ry=\"18\"/>\n<text text-anchor=\"middle\" x=\"2653\" y=\"-68.8\" font-family=\"Times,serif\" font-size=\"14.00\">*</text>\n</g>\n<!-- 5612211744*&#45;&gt;5612211744 -->\n<g id=\"edge2\" class=\"edge\">\n<title>5612211744*&#45;&gt;5612211744</title>\n<path fill=\"none\" stroke=\"black\" d=\"M2680.39,-72.5C2687.62,-72.5 2695.92,-72.5 2704.74,-72.5\"/>\n<polygon fill=\"black\" stroke=\"black\" points=\"2704.64,-76 2714.64,-72.5 2704.64,-69 2704.64,-76\"/>\n</g>\n<!-- 5612211264 -->\n<g id=\"node6\" class=\"node\">\n<title>5612211264</title>\n<polygon fill=\"none\" stroke=\"black\" points=\"1657.5,-55.5 1657.5,-91.5 1839.5,-91.5 1839.5,-55.5 1657.5,-55.5\"/>\n<text text-anchor=\"middle\" x=\"1667.5\" y=\"-69.8\" font-family=\"Times,serif\" font-size=\"14.00\"> </text>\n<polyline fill=\"none\" stroke=\"black\" points=\"1677.5,-55.5 1677.5,-91.5\"/>\n<text text-anchor=\"middle\" x=\"1717.5\" y=\"-69.8\" font-family=\"Times,serif\" font-size=\"14.00\">data 5.8284</text>\n<polyline fill=\"none\" stroke=\"black\" points=\"1757.5,-55.5 1757.5,-91.5\"/>\n<text text-anchor=\"middle\" x=\"1798.5\" y=\"-69.8\" font-family=\"Times,serif\" font-size=\"14.00\">grad 0.0429</text>\n</g>\n<!-- 5612210928+ -->\n<g id=\"node14\" class=\"node\">\n<title>5612210928+</title>\n<ellipse fill=\"none\" stroke=\"black\" cx=\"1905\" cy=\"-45.5\" rx=\"27\" ry=\"18\"/>\n<text text-anchor=\"middle\" x=\"1905\" y=\"-41.8\" font-family=\"Times,serif\" font-size=\"14.00\">+</text>\n</g>\n<!-- 5612211264&#45;&gt;5612210928+ -->\n<g id=\"edge23\" class=\"edge\">\n<title>5612211264&#45;&gt;5612210928+</title>\n<path fill=\"none\" stroke=\"black\" d=\"M1839.37,-57.21C1849.23,-55.43 1858.81,-53.69 1867.44,-52.13\"/>\n<polygon fill=\"black\" stroke=\"black\" points=\"1867.85,-55.61 1877.06,-50.38 1866.6,-48.72 1867.85,-55.61\"/>\n</g>\n<!-- 5612211264&#45;&gt;5612210592+ -->\n<g id=\"edge12\" class=\"edge\">\n<title>5612211264&#45;&gt;5612210592+</title>\n<path fill=\"none\" stroke=\"black\" d=\"M1839.37,-89.21C1849.23,-90.93 1858.81,-92.6 1867.44,-94.11\"/>\n<polygon fill=\"black\" stroke=\"black\" points=\"1866.61,-97.52 1877.06,-95.79 1867.81,-90.62 1866.61,-97.52\"/>\n</g>\n<!-- 5612211264exp -->\n<g id=\"node7\" class=\"node\">\n<title>5612211264exp</title>\n<ellipse fill=\"none\" stroke=\"black\" cx=\"1592\" cy=\"-73.5\" rx=\"27\" ry=\"18\"/>\n<text text-anchor=\"middle\" x=\"1592\" y=\"-69.8\" font-family=\"Times,serif\" font-size=\"14.00\">exp</text>\n</g>\n<!-- 5612211264exp&#45;&gt;5612211264 -->\n<g id=\"edge3\" class=\"edge\">\n<title>5612211264exp&#45;&gt;5612211264</title>\n<path fill=\"none\" stroke=\"black\" d=\"M1619.21,-73.5C1627.15,-73.5 1636.4,-73.5 1646.22,-73.5\"/>\n<polygon fill=\"black\" stroke=\"black\" points=\"1646.01,-77 1656.01,-73.5 1646.01,-70 1646.01,-77\"/>\n</g>\n<!-- 5612208240 -->\n<g id=\"node8\" class=\"node\">\n<title>5612208240</title>\n<polygon fill=\"none\" stroke=\"black\" points=\"2.5,-84.5 2.5,-120.5 197.5,-120.5 197.5,-84.5 2.5,-84.5\"/>\n<text text-anchor=\"middle\" x=\"19\" y=\"-98.8\" font-family=\"Times,serif\" font-size=\"14.00\">w2</text>\n<polyline fill=\"none\" stroke=\"black\" points=\"35.5,-84.5 35.5,-120.5\"/>\n<text text-anchor=\"middle\" x=\"75.5\" y=\"-98.8\" font-family=\"Times,serif\" font-size=\"14.00\">data 1.0000</text>\n<polyline fill=\"none\" stroke=\"black\" points=\"115.5,-84.5 115.5,-120.5\"/>\n<text text-anchor=\"middle\" x=\"156.5\" y=\"-98.8\" font-family=\"Times,serif\" font-size=\"14.00\">grad 0.0000</text>\n</g>\n<!-- 5612216304* -->\n<g id=\"node28\" class=\"node\">\n<title>5612216304*</title>\n<ellipse fill=\"none\" stroke=\"black\" cx=\"263\" cy=\"-102.5\" rx=\"27\" ry=\"18\"/>\n<text text-anchor=\"middle\" x=\"263\" y=\"-98.8\" font-family=\"Times,serif\" font-size=\"14.00\">*</text>\n</g>\n<!-- 5612208240&#45;&gt;5612216304* -->\n<g id=\"edge11\" class=\"edge\">\n<title>5612208240&#45;&gt;5612216304*</title>\n<path fill=\"none\" stroke=\"black\" d=\"M197.44,-102.5C206.89,-102.5 216.04,-102.5 224.32,-102.5\"/>\n<polygon fill=\"black\" stroke=\"black\" points=\"224.28,-106 234.28,-102.5 224.28,-99 224.28,-106\"/>\n</g>\n<!-- 5612208288 -->\n<g id=\"node9\" class=\"node\">\n<title>5612208288</title>\n<polygon fill=\"none\" stroke=\"black\" points=\"0,-194.5 0,-230.5 200,-230.5 200,-194.5 0,-194.5\"/>\n<text text-anchor=\"middle\" x=\"16.5\" y=\"-208.8\" font-family=\"Times,serif\" font-size=\"14.00\">w1</text>\n<polyline fill=\"none\" stroke=\"black\" points=\"33,-194.5 33,-230.5\"/>\n<text text-anchor=\"middle\" x=\"75.5\" y=\"-208.8\" font-family=\"Times,serif\" font-size=\"14.00\">data &#45;3.0000</text>\n<polyline fill=\"none\" stroke=\"black\" points=\"118,-194.5 118,-230.5\"/>\n<text text-anchor=\"middle\" x=\"159\" y=\"-208.8\" font-family=\"Times,serif\" font-size=\"14.00\">grad 1.0000</text>\n</g>\n<!-- 5612208288&#45;&gt;5612218896* -->\n<g id=\"edge24\" class=\"edge\">\n<title>5612208288&#45;&gt;5612218896*</title>\n<path fill=\"none\" stroke=\"black\" d=\"M169.02,-194.58C179.47,-191.44 190.08,-188.05 200,-184.5 209.96,-180.94 220.59,-176.54 230.18,-172.34\"/>\n<polygon fill=\"black\" stroke=\"black\" points=\"231.4,-175.63 239.1,-168.34 228.54,-169.24 231.4,-175.63\"/>\n</g>\n<!-- 5612224176 -->\n<g id=\"node10\" class=\"node\">\n<title>5612224176</title>\n<polygon fill=\"none\" stroke=\"black\" points=\"2,-139.5 2,-175.5 198,-175.5 198,-139.5 2,-139.5\"/>\n<text text-anchor=\"middle\" x=\"17\" y=\"-153.8\" font-family=\"Times,serif\" font-size=\"14.00\">x1</text>\n<polyline fill=\"none\" stroke=\"black\" points=\"32,-139.5 32,-175.5\"/>\n<text text-anchor=\"middle\" x=\"72\" y=\"-153.8\" font-family=\"Times,serif\" font-size=\"14.00\">data 2.0000</text>\n<polyline fill=\"none\" stroke=\"black\" points=\"112,-139.5 112,-175.5\"/>\n<text text-anchor=\"middle\" x=\"155\" y=\"-153.8\" font-family=\"Times,serif\" font-size=\"14.00\">grad &#45;1.5000</text>\n</g>\n<!-- 5612224176&#45;&gt;5612218896* -->\n<g id=\"edge22\" class=\"edge\">\n<title>5612224176&#45;&gt;5612218896*</title>\n<path fill=\"none\" stroke=\"black\" d=\"M197.91,-157.5C207.21,-157.5 216.21,-157.5 224.38,-157.5\"/>\n<polygon fill=\"black\" stroke=\"black\" points=\"224.18,-161 234.18,-157.5 224.18,-154 224.18,-161\"/>\n</g>\n<!-- 5612216544 -->\n<g id=\"node11\" class=\"node\">\n<title>5612216544</title>\n<polygon fill=\"none\" stroke=\"black\" points=\"1036,-83.5 1036,-119.5 1221,-119.5 1221,-83.5 1036,-83.5\"/>\n<text text-anchor=\"middle\" x=\"1047.5\" y=\"-97.8\" font-family=\"Times,serif\" font-size=\"14.00\">n</text>\n<polyline fill=\"none\" stroke=\"black\" points=\"1059,-83.5 1059,-119.5\"/>\n<text text-anchor=\"middle\" x=\"1099\" y=\"-97.8\" font-family=\"Times,serif\" font-size=\"14.00\">data 0.8814</text>\n<polyline fill=\"none\" stroke=\"black\" points=\"1139,-83.5 1139,-119.5\"/>\n<text text-anchor=\"middle\" x=\"1180\" y=\"-97.8\" font-family=\"Times,serif\" font-size=\"14.00\">grad 0.5000</text>\n</g>\n<!-- 5612216064* -->\n<g id=\"node16\" class=\"node\">\n<title>5612216064*</title>\n<ellipse fill=\"none\" stroke=\"black\" cx=\"1284\" cy=\"-73.5\" rx=\"27\" ry=\"18\"/>\n<text text-anchor=\"middle\" x=\"1284\" y=\"-69.8\" font-family=\"Times,serif\" font-size=\"14.00\">*</text>\n</g>\n<!-- 5612216544&#45;&gt;5612216064* -->\n<g id=\"edge25\" class=\"edge\">\n<title>5612216544&#45;&gt;5612216064*</title>\n<path fill=\"none\" stroke=\"black\" d=\"M1220.57,-84.89C1229.67,-83.23 1238.5,-81.62 1246.52,-80.15\"/>\n<polygon fill=\"black\" stroke=\"black\" points=\"1246.91,-83.64 1256.12,-78.4 1245.65,-76.75 1246.91,-83.64\"/>\n</g>\n<!-- 5612216544+ -->\n<g id=\"node12\" class=\"node\">\n<title>5612216544+</title>\n<ellipse fill=\"none\" stroke=\"black\" cx=\"973\" cy=\"-101.5\" rx=\"27\" ry=\"18\"/>\n<text text-anchor=\"middle\" x=\"973\" y=\"-97.8\" font-family=\"Times,serif\" font-size=\"14.00\">+</text>\n</g>\n<!-- 5612216544+&#45;&gt;5612216544 -->\n<g id=\"edge4\" class=\"edge\">\n<title>5612216544+&#45;&gt;5612216544</title>\n<path fill=\"none\" stroke=\"black\" d=\"M1000.39,-101.5C1007.62,-101.5 1015.92,-101.5 1024.74,-101.5\"/>\n<polygon fill=\"black\" stroke=\"black\" points=\"1024.64,-105 1034.64,-101.5 1024.64,-98 1024.64,-105\"/>\n</g>\n<!-- 5612210928 -->\n<g id=\"node13\" class=\"node\">\n<title>5612210928</title>\n<polygon fill=\"none\" stroke=\"black\" points=\"1968,-27.5 1968,-63.5 2154,-63.5 2154,-27.5 1968,-27.5\"/>\n<text text-anchor=\"middle\" x=\"1978\" y=\"-41.8\" font-family=\"Times,serif\" font-size=\"14.00\"> </text>\n<polyline fill=\"none\" stroke=\"black\" points=\"1988,-27.5 1988,-63.5\"/>\n<text text-anchor=\"middle\" x=\"2028\" y=\"-41.8\" font-family=\"Times,serif\" font-size=\"14.00\">data 6.8284</text>\n<polyline fill=\"none\" stroke=\"black\" points=\"2068,-27.5 2068,-63.5\"/>\n<text text-anchor=\"middle\" x=\"2111\" y=\"-41.8\" font-family=\"Times,serif\" font-size=\"14.00\">grad &#45;0.1036</text>\n</g>\n<!-- 5612211120** -->\n<g id=\"node24\" class=\"node\">\n<title>5612211120**</title>\n<ellipse fill=\"none\" stroke=\"black\" cx=\"2281\" cy=\"-45.5\" rx=\"27\" ry=\"18\"/>\n<text text-anchor=\"middle\" x=\"2281\" y=\"-41.8\" font-family=\"Times,serif\" font-size=\"14.00\">**</text>\n</g>\n<!-- 5612210928&#45;&gt;5612211120** -->\n<g id=\"edge21\" class=\"edge\">\n<title>5612210928&#45;&gt;5612211120**</title>\n<path fill=\"none\" stroke=\"black\" d=\"M2153.82,-45.5C2185.02,-45.5 2218.15,-45.5 2242.62,-45.5\"/>\n<polygon fill=\"black\" stroke=\"black\" points=\"2242.39,-49 2252.39,-45.5 2242.39,-42 2242.39,-49\"/>\n</g>\n<!-- 5612210928+&#45;&gt;5612210928 -->\n<g id=\"edge5\" class=\"edge\">\n<title>5612210928+&#45;&gt;5612210928</title>\n<path fill=\"none\" stroke=\"black\" d=\"M1932.47,-45.5C1939.67,-45.5 1947.92,-45.5 1956.69,-45.5\"/>\n<polygon fill=\"black\" stroke=\"black\" points=\"1956.51,-49 1966.51,-45.5 1956.51,-42 1956.51,-49\"/>\n</g>\n<!-- 5612216064 -->\n<g id=\"node15\" class=\"node\">\n<title>5612216064</title>\n<polygon fill=\"none\" stroke=\"black\" points=\"1347,-55.5 1347,-91.5 1529,-91.5 1529,-55.5 1347,-55.5\"/>\n<text text-anchor=\"middle\" x=\"1357\" y=\"-69.8\" font-family=\"Times,serif\" font-size=\"14.00\"> </text>\n<polyline fill=\"none\" stroke=\"black\" points=\"1367,-55.5 1367,-91.5\"/>\n<text text-anchor=\"middle\" x=\"1407\" y=\"-69.8\" font-family=\"Times,serif\" font-size=\"14.00\">data 1.7627</text>\n<polyline fill=\"none\" stroke=\"black\" points=\"1447,-55.5 1447,-91.5\"/>\n<text text-anchor=\"middle\" x=\"1488\" y=\"-69.8\" font-family=\"Times,serif\" font-size=\"14.00\">grad 0.2500</text>\n</g>\n<!-- 5612216064&#45;&gt;5612211264exp -->\n<g id=\"edge13\" class=\"edge\">\n<title>5612216064&#45;&gt;5612211264exp</title>\n<path fill=\"none\" stroke=\"black\" d=\"M1528.74,-73.5C1537.34,-73.5 1545.7,-73.5 1553.36,-73.5\"/>\n<polygon fill=\"black\" stroke=\"black\" points=\"1553.24,-77 1563.24,-73.5 1553.24,-70 1553.24,-77\"/>\n</g>\n<!-- 5612216064*&#45;&gt;5612216064 -->\n<g id=\"edge6\" class=\"edge\">\n<title>5612216064*&#45;&gt;5612216064</title>\n<path fill=\"none\" stroke=\"black\" d=\"M1311.48,-73.5C1318.71,-73.5 1327.01,-73.5 1335.82,-73.5\"/>\n<polygon fill=\"black\" stroke=\"black\" points=\"1335.69,-77 1345.69,-73.5 1335.69,-70 1335.69,-77\"/>\n</g>\n<!-- 5612210976 -->\n<g id=\"node17\" class=\"node\">\n<title>5612210976</title>\n<polygon fill=\"none\" stroke=\"black\" points=\"1655.5,-0.5 1655.5,-36.5 1841.5,-36.5 1841.5,-0.5 1655.5,-0.5\"/>\n<text text-anchor=\"middle\" x=\"1665.5\" y=\"-14.8\" font-family=\"Times,serif\" font-size=\"14.00\"> </text>\n<polyline fill=\"none\" stroke=\"black\" points=\"1675.5,-0.5 1675.5,-36.5\"/>\n<text text-anchor=\"middle\" x=\"1715.5\" y=\"-14.8\" font-family=\"Times,serif\" font-size=\"14.00\">data 1.0000</text>\n<polyline fill=\"none\" stroke=\"black\" points=\"1755.5,-0.5 1755.5,-36.5\"/>\n<text text-anchor=\"middle\" x=\"1798.5\" y=\"-14.8\" font-family=\"Times,serif\" font-size=\"14.00\">grad &#45;0.1036</text>\n</g>\n<!-- 5612210976&#45;&gt;5612210928+ -->\n<g id=\"edge20\" class=\"edge\">\n<title>5612210976&#45;&gt;5612210928+</title>\n<path fill=\"none\" stroke=\"black\" d=\"M1841.16,-34.52C1850.33,-36.12 1859.21,-37.67 1867.28,-39.08\"/>\n<polygon fill=\"black\" stroke=\"black\" points=\"1866.5,-42.5 1876.95,-40.77 1867.71,-35.6 1866.5,-42.5\"/>\n</g>\n<!-- 5612219184 -->\n<g id=\"node18\" class=\"node\">\n<title>5612219184</title>\n<polygon fill=\"none\" stroke=\"black\" points=\"666,-111.5 666,-147.5 910,-147.5 910,-111.5 666,-111.5\"/>\n<text text-anchor=\"middle\" x=\"704.5\" y=\"-125.8\" font-family=\"Times,serif\" font-size=\"14.00\">x1w1x2w2</text>\n<polyline fill=\"none\" stroke=\"black\" points=\"743,-111.5 743,-147.5\"/>\n<text text-anchor=\"middle\" x=\"785.5\" y=\"-125.8\" font-family=\"Times,serif\" font-size=\"14.00\">data &#45;6.0000</text>\n<polyline fill=\"none\" stroke=\"black\" points=\"828,-111.5 828,-147.5\"/>\n<text text-anchor=\"middle\" x=\"869\" y=\"-125.8\" font-family=\"Times,serif\" font-size=\"14.00\">grad 0.5000</text>\n</g>\n<!-- 5612219184&#45;&gt;5612216544+ -->\n<g id=\"edge15\" class=\"edge\">\n<title>5612219184&#45;&gt;5612216544+</title>\n<path fill=\"none\" stroke=\"black\" d=\"M906.45,-111.53C916.69,-109.96 926.46,-108.47 935.18,-107.13\"/>\n<polygon fill=\"black\" stroke=\"black\" points=\"935.52,-110.62 944.87,-105.65 934.46,-103.7 935.52,-110.62\"/>\n</g>\n<!-- 5612219184+&#45;&gt;5612219184 -->\n<g id=\"edge7\" class=\"edge\">\n<title>5612219184+&#45;&gt;5612219184</title>\n<path fill=\"none\" stroke=\"black\" d=\"M630.22,-129.5C637.46,-129.5 645.83,-129.5 654.87,-129.5\"/>\n<polygon fill=\"black\" stroke=\"black\" points=\"654.68,-133 664.68,-129.5 654.68,-126 654.68,-133\"/>\n</g>\n<!-- 5612220288 -->\n<g id=\"node20\" class=\"node\">\n<title>5612220288</title>\n<polygon fill=\"none\" stroke=\"black\" points=\"695.5,-56.5 695.5,-92.5 880.5,-92.5 880.5,-56.5 695.5,-56.5\"/>\n<text text-anchor=\"middle\" x=\"707\" y=\"-70.8\" font-family=\"Times,serif\" font-size=\"14.00\">b</text>\n<polyline fill=\"none\" stroke=\"black\" points=\"718.5,-56.5 718.5,-92.5\"/>\n<text text-anchor=\"middle\" x=\"758.5\" y=\"-70.8\" font-family=\"Times,serif\" font-size=\"14.00\">data 6.8814</text>\n<polyline fill=\"none\" stroke=\"black\" points=\"798.5,-56.5 798.5,-92.5\"/>\n<text text-anchor=\"middle\" x=\"839.5\" y=\"-70.8\" font-family=\"Times,serif\" font-size=\"14.00\">grad 0.5000</text>\n</g>\n<!-- 5612220288&#45;&gt;5612216544+ -->\n<g id=\"edge16\" class=\"edge\">\n<title>5612220288&#45;&gt;5612216544+</title>\n<path fill=\"none\" stroke=\"black\" d=\"M880.5,-88C899.73,-90.84 918.95,-93.67 934.78,-96.01\"/>\n<polygon fill=\"black\" stroke=\"black\" points=\"934.27,-99.47 944.67,-97.47 935.29,-92.55 934.27,-99.47\"/>\n</g>\n<!-- 5612210592 -->\n<g id=\"node21\" class=\"node\">\n<title>5612210592</title>\n<polygon fill=\"none\" stroke=\"black\" points=\"2190,-82.5 2190,-118.5 2372,-118.5 2372,-82.5 2190,-82.5\"/>\n<text text-anchor=\"middle\" x=\"2200\" y=\"-96.8\" font-family=\"Times,serif\" font-size=\"14.00\"> </text>\n<polyline fill=\"none\" stroke=\"black\" points=\"2210,-82.5 2210,-118.5\"/>\n<text text-anchor=\"middle\" x=\"2250\" y=\"-96.8\" font-family=\"Times,serif\" font-size=\"14.00\">data 4.8284</text>\n<polyline fill=\"none\" stroke=\"black\" points=\"2290,-82.5 2290,-118.5\"/>\n<text text-anchor=\"middle\" x=\"2331\" y=\"-96.8\" font-family=\"Times,serif\" font-size=\"14.00\">grad 0.1464</text>\n</g>\n<!-- 5612210592&#45;&gt;5612211744* -->\n<g id=\"edge17\" class=\"edge\">\n<title>5612210592&#45;&gt;5612211744*</title>\n<path fill=\"none\" stroke=\"black\" d=\"M2371.57,-93.72C2449.44,-87.83 2558.37,-79.59 2614.81,-75.31\"/>\n<polygon fill=\"black\" stroke=\"black\" points=\"2614.81,-78.82 2624.52,-74.58 2614.28,-71.84 2614.81,-78.82\"/>\n</g>\n<!-- 5612210592+&#45;&gt;5612210592 -->\n<g id=\"edge8\" class=\"edge\">\n<title>5612210592+&#45;&gt;5612210592</title>\n<path fill=\"none\" stroke=\"black\" d=\"M1932.3,-100.5C1982.69,-100.5 2095.25,-100.5 2178.73,-100.5\"/>\n<polygon fill=\"black\" stroke=\"black\" points=\"2178.53,-104 2188.53,-100.5 2178.53,-97 2178.53,-104\"/>\n</g>\n<!-- 5612211120 -->\n<g id=\"node23\" class=\"node\">\n<title>5612211120</title>\n<polygon fill=\"none\" stroke=\"black\" points=\"2408,-31.5 2408,-67.5 2590,-67.5 2590,-31.5 2408,-31.5\"/>\n<text text-anchor=\"middle\" x=\"2418\" y=\"-45.8\" font-family=\"Times,serif\" font-size=\"14.00\"> </text>\n<polyline fill=\"none\" stroke=\"black\" points=\"2428,-31.5 2428,-67.5\"/>\n<text text-anchor=\"middle\" x=\"2468\" y=\"-45.8\" font-family=\"Times,serif\" font-size=\"14.00\">data 0.1464</text>\n<polyline fill=\"none\" stroke=\"black\" points=\"2508,-31.5 2508,-67.5\"/>\n<text text-anchor=\"middle\" x=\"2549\" y=\"-45.8\" font-family=\"Times,serif\" font-size=\"14.00\">grad 4.8284</text>\n</g>\n<!-- 5612211120&#45;&gt;5612211744* -->\n<g id=\"edge19\" class=\"edge\">\n<title>5612211120&#45;&gt;5612211744*</title>\n<path fill=\"none\" stroke=\"black\" d=\"M2589.74,-63.08C2598.62,-64.42 2607.23,-65.73 2615.09,-66.91\"/>\n<polygon fill=\"black\" stroke=\"black\" points=\"2614.45,-70.36 2624.86,-68.39 2615.49,-63.44 2614.45,-70.36\"/>\n</g>\n<!-- 5612211120**&#45;&gt;5612211120 -->\n<g id=\"edge9\" class=\"edge\">\n<title>5612211120**&#45;&gt;5612211120</title>\n<path fill=\"none\" stroke=\"black\" d=\"M2308.49,-45.99C2330.76,-46.4 2364.08,-47.02 2396.61,-47.62\"/>\n<polygon fill=\"black\" stroke=\"black\" points=\"2396.48,-51.12 2406.55,-47.81 2396.61,-44.12 2396.48,-51.12\"/>\n</g>\n<!-- 5612219328 -->\n<g id=\"node25\" class=\"node\">\n<title>5612219328</title>\n<polygon fill=\"none\" stroke=\"black\" points=\"1037.5,-28.5 1037.5,-64.5 1219.5,-64.5 1219.5,-28.5 1037.5,-28.5\"/>\n<text text-anchor=\"middle\" x=\"1047.5\" y=\"-42.8\" font-family=\"Times,serif\" font-size=\"14.00\"> </text>\n<polyline fill=\"none\" stroke=\"black\" points=\"1057.5,-28.5 1057.5,-64.5\"/>\n<text text-anchor=\"middle\" x=\"1097.5\" y=\"-42.8\" font-family=\"Times,serif\" font-size=\"14.00\">data 2.0000</text>\n<polyline fill=\"none\" stroke=\"black\" points=\"1137.5,-28.5 1137.5,-64.5\"/>\n<text text-anchor=\"middle\" x=\"1178.5\" y=\"-42.8\" font-family=\"Times,serif\" font-size=\"14.00\">grad 0.2203</text>\n</g>\n<!-- 5612219328&#45;&gt;5612216064* -->\n<g id=\"edge18\" class=\"edge\">\n<title>5612219328&#45;&gt;5612216064*</title>\n<path fill=\"none\" stroke=\"black\" d=\"M1219.24,-62.28C1228.78,-63.96 1238.05,-65.59 1246.42,-67.07\"/>\n<polygon fill=\"black\" stroke=\"black\" points=\"1245.67,-70.49 1256.12,-68.77 1246.88,-63.59 1245.67,-70.49\"/>\n</g>\n<!-- 5612224464 -->\n<g id=\"node26\" class=\"node\">\n<title>5612224464</title>\n<polygon fill=\"none\" stroke=\"black\" points=\"4,-29.5 4,-65.5 196,-65.5 196,-29.5 4,-29.5\"/>\n<text text-anchor=\"middle\" x=\"19\" y=\"-43.8\" font-family=\"Times,serif\" font-size=\"14.00\">x2</text>\n<polyline fill=\"none\" stroke=\"black\" points=\"34,-29.5 34,-65.5\"/>\n<text text-anchor=\"middle\" x=\"74\" y=\"-43.8\" font-family=\"Times,serif\" font-size=\"14.00\">data 0.0000</text>\n<polyline fill=\"none\" stroke=\"black\" points=\"114,-29.5 114,-65.5\"/>\n<text text-anchor=\"middle\" x=\"155\" y=\"-43.8\" font-family=\"Times,serif\" font-size=\"14.00\">grad 0.5000</text>\n</g>\n<!-- 5612224464&#45;&gt;5612216304* -->\n<g id=\"edge26\" class=\"edge\">\n<title>5612224464&#45;&gt;5612216304*</title>\n<path fill=\"none\" stroke=\"black\" d=\"M172.27,-65.48C181.67,-68.28 191.12,-71.3 200,-74.5 210.09,-78.13 220.83,-82.71 230.48,-87.11\"/>\n<polygon fill=\"black\" stroke=\"black\" points=\"228.91,-90.24 239.45,-91.29 231.87,-83.89 228.91,-90.24\"/>\n</g>\n<!-- 5612216304 -->\n<g id=\"node27\" class=\"node\">\n<title>5612216304</title>\n<polygon fill=\"none\" stroke=\"black\" points=\"328.5,-84.5 328.5,-120.5 537.5,-120.5 537.5,-84.5 328.5,-84.5\"/>\n<text text-anchor=\"middle\" x=\"352\" y=\"-98.8\" font-family=\"Times,serif\" font-size=\"14.00\">x2w2</text>\n<polyline fill=\"none\" stroke=\"black\" points=\"375.5,-84.5 375.5,-120.5\"/>\n<text text-anchor=\"middle\" x=\"415.5\" y=\"-98.8\" font-family=\"Times,serif\" font-size=\"14.00\">data 0.0000</text>\n<polyline fill=\"none\" stroke=\"black\" points=\"455.5,-84.5 455.5,-120.5\"/>\n<text text-anchor=\"middle\" x=\"496.5\" y=\"-98.8\" font-family=\"Times,serif\" font-size=\"14.00\">grad 0.5000</text>\n</g>\n<!-- 5612216304&#45;&gt;5612219184+ -->\n<g id=\"edge27\" class=\"edge\">\n<title>5612216304&#45;&gt;5612219184+</title>\n<path fill=\"none\" stroke=\"black\" d=\"M537.05,-119.06C547.04,-120.67 556.65,-122.21 565.28,-123.6\"/>\n<polygon fill=\"black\" stroke=\"black\" points=\"564.45,-127.01 574.88,-125.14 565.56,-120.1 564.45,-127.01\"/>\n</g>\n<!-- 5612216304*&#45;&gt;5612216304 -->\n<g id=\"edge10\" class=\"edge\">\n<title>5612216304*&#45;&gt;5612216304</title>\n<path fill=\"none\" stroke=\"black\" d=\"M290.25,-102.5C298.16,-102.5 307.4,-102.5 317.3,-102.5\"/>\n<polygon fill=\"black\" stroke=\"black\" points=\"317.2,-106 327.2,-102.5 317.2,-99 317.2,-106\"/>\n</g>\n</g>\n</svg>\n",
      "text/plain": [
       "<graphviz.graphs.Digraph at 0x14e839210>"
      ]
     },
     "execution_count": 75,
     "metadata": {},
     "output_type": "execute_result"
    }
   ],
   "source": [
    "x1 = Value(2., label='x1')\n",
    "x2 = Value(0., label='x2')\n",
    "\n",
    "w1 = Value(-3., label='w1')\n",
    "w2 = Value(1, label='w2')\n",
    "\n",
    "x1w1 = x1 * w1; x1w1.label='x1w1'\n",
    "x2w2 = x2 * w2; x2w2.label='x2w2'\n",
    "b = Value(6.8813735870195432, label='b')\n",
    "x1w1x2w2= x1w1 + x2w2; x1w1x2w2.label='x1w1x2w2'\n",
    "n = x1w1x2w2+b; n.label='n'\n",
    "e = (2*n).exp()\n",
    "o = (e-1)/(e+1)\n",
    "#o = n.tanh()\n",
    "o.label = 'o'\n",
    "\n",
    "\n",
    "#o.grad = 1.\n",
    "#o._backward()\n",
    "#n._backward()\n",
    "#x1w1x2w2._backward()\n",
    "#x1w1._backward()\n",
    "##b._backward()\n",
    "#x2w2._backward()\n",
    "#x2._backward()\n",
    "o.backward()\n",
    "draw_dot(o)\n"
   ]
  },
  {
   "cell_type": "code",
   "execution_count": 76,
   "metadata": {},
   "outputs": [],
   "source": [
    "class Module:\n",
    "    def parameters(self):\n",
    "        return []\n",
    "\n",
    "    def zero_grad(self):\n",
    "        for p in self.parameters():\n",
    "            p.grad = 0.\n",
    "            \n"
   ]
  },
  {
   "cell_type": "code",
   "execution_count": 77,
   "metadata": {},
   "outputs": [
    {
     "data": {
      "text/plain": [
       "[Value(self.data = -0.8864184957139518, self.grad=0.0, self.label = ''),\n",
       " Value(self.data = 0.8397456443671873, self.grad=0.0, self.label = ''),\n",
       " Value(self.data = -0.7991337583059006, self.grad=0.0, self.label = ''),\n",
       " Value(self.data = 0.11189342017367565, self.grad=0.0, self.label = '')]"
      ]
     },
     "execution_count": 77,
     "metadata": {},
     "output_type": "execute_result"
    }
   ],
   "source": [
    "class Neuron(Module):\n",
    "    \n",
    "    def __init__(self, nin:int, activation='tanh') -> None:\n",
    "        self.w = [Value(random.uniform(-1,1))for _ in range(nin)]\n",
    "        self.b = Value(random.uniform(-1,1))\n",
    "        self.activation = activation\n",
    "        \n",
    "    \n",
    "    def __call__(self, x):\n",
    "        out = sum([wi*xi for wi,xi in zip(self.w, x)], self.b)\n",
    "        if self.activation=='tanh':\n",
    "            out = out.tanh()\n",
    "        return out\n",
    "    \n",
    "    def parameters(self):\n",
    "        return self.w + [self.b]\n",
    "        \n",
    "    \n",
    "x =[2., 3., -1.]\n",
    "n = Neuron(3)\n",
    "n(x)\n",
    "n.parameters()"
   ]
  },
  {
   "cell_type": "code",
   "execution_count": 78,
   "metadata": {},
   "outputs": [
    {
     "data": {
      "text/plain": [
       "[Value(self.data = -0.427280033764017, self.grad=0.0, self.label = ''),\n",
       " Value(self.data = 0.7510805322357965, self.grad=0.0, self.label = ''),\n",
       " Value(self.data = 0.8301498598350983, self.grad=0.0, self.label = ''),\n",
       " Value(self.data = -0.490817108445335, self.grad=0.0, self.label = ''),\n",
       " Value(self.data = -0.35880289464723325, self.grad=0.0, self.label = ''),\n",
       " Value(self.data = 0.3775271637572202, self.grad=0.0, self.label = ''),\n",
       " Value(self.data = 0.28449661881000354, self.grad=0.0, self.label = ''),\n",
       " Value(self.data = 0.08204574523201025, self.grad=0.0, self.label = ''),\n",
       " Value(self.data = 0.17781941993246075, self.grad=0.0, self.label = ''),\n",
       " Value(self.data = 0.07192455642656559, self.grad=0.0, self.label = ''),\n",
       " Value(self.data = -0.9309296179504123, self.grad=0.0, self.label = ''),\n",
       " Value(self.data = -0.35479024223149014, self.grad=0.0, self.label = ''),\n",
       " Value(self.data = 0.6657026268528405, self.grad=0.0, self.label = ''),\n",
       " Value(self.data = 0.8698787710044755, self.grad=0.0, self.label = ''),\n",
       " Value(self.data = -0.1435754523140591, self.grad=0.0, self.label = ''),\n",
       " Value(self.data = 0.7731013670364075, self.grad=0.0, self.label = '')]"
      ]
     },
     "execution_count": 78,
     "metadata": {},
     "output_type": "execute_result"
    }
   ],
   "source": [
    "class Layer(Module):\n",
    "    \n",
    "    def __init__(self, nin, nout) -> None:\n",
    "        self.neurons = [Neuron(nin)for _ in range(nout)]\n",
    "    \n",
    "    def __call__(self, x):\n",
    "        outs = [n(x) for n in self.neurons]\n",
    "        return outs[0] if len(outs)==1 else outs\n",
    "    \n",
    "    def parameters(self):\n",
    "        return [p for n in self.neurons for p in n.parameters()]\n",
    "    \n",
    "l = Layer(3,4)\n",
    "l(x)\n",
    "l.parameters()"
   ]
  },
  {
   "cell_type": "code",
   "execution_count": 79,
   "metadata": {},
   "outputs": [],
   "source": [
    "class MLP(Module):\n",
    "    \n",
    "    def __init__(self, nin, nouts) -> None:\n",
    "        sz = [nin] + nouts\n",
    "        self.layers = [Layer(sz[i], sz[i+1]) \n",
    "                       for i \n",
    "                       in range(len(nouts))]\n",
    "        \n",
    "        \n",
    "    def __call__(self, x):\n",
    "        for l in self.layers:\n",
    "            x = l(x)\n",
    "        return x\n",
    "    \n",
    "    def parameters(self):\n",
    "        return [p for l in self.layers for p in l.parameters()]\n",
    "        \n"
   ]
  },
  {
   "cell_type": "code",
   "execution_count": 80,
   "metadata": {},
   "outputs": [
    {
     "data": {
      "text/plain": [
       "Value(self.data = -0.24422166916258942, self.grad=0.0, self.label = '')"
      ]
     },
     "execution_count": 80,
     "metadata": {},
     "output_type": "execute_result"
    }
   ],
   "source": [
    "m = MLP(3,[4,4,1])\n",
    "out = m(x)\n",
    "out\n"
   ]
  },
  {
   "cell_type": "code",
   "execution_count": null,
   "metadata": {},
   "outputs": [],
   "source": []
  },
  {
   "cell_type": "code",
   "execution_count": 81,
   "metadata": {},
   "outputs": [],
   "source": [
    "xs = [\n",
    "  [2.0, 3.0, -1.0],\n",
    "  [3.0, -1.0, 0.5],\n",
    "  [0.5, 1.0, 1.0],\n",
    "  [1.0, 1.0, -1.0],\n",
    "]\n",
    "ys = [1.0, -1.0, -1.0, 1.0] # desired targets\n",
    "\n"
   ]
  },
  {
   "cell_type": "code",
   "execution_count": 82,
   "metadata": {},
   "outputs": [
    {
     "data": {
      "text/plain": [
       "[Value(self.data = -0.24422166916258942, self.grad=0.0, self.label = ''),\n",
       " Value(self.data = -0.5107883769393252, self.grad=0.0, self.label = ''),\n",
       " Value(self.data = -0.47113637375146894, self.grad=0.0, self.label = ''),\n",
       " Value(self.data = -0.3720755391348969, self.grad=0.0, self.label = '')]"
      ]
     },
     "execution_count": 82,
     "metadata": {},
     "output_type": "execute_result"
    }
   ],
   "source": [
    "ypred =[m(x) for x in xs]\n",
    "ypred\n",
    "\n"
   ]
  },
  {
   "cell_type": "code",
   "execution_count": 84,
   "metadata": {},
   "outputs": [],
   "source": [
    "#lr = 0.1\n",
    "epoch_nb = 100\n",
    "for k in range(epoch_nb):\n",
    "    # forward pass\n",
    "    ypred =[m(x) for x in xs]\n",
    "    loss = sum([(ygt-yout)**2 for ygt, yout in zip(ys, ypred)])\n",
    "      \n",
    "    \n",
    "    # backward pass\n",
    "    # zero out grads because during backward we do a += so we accumulate past gradients. We must flush gradient to 0.\n",
    "    m.zero_grad()\n",
    "    loss.backward()\n",
    "    \n",
    "    lr = 1-0.9*k/epoch_nb\n",
    "    \n",
    "    # parameter update\n",
    "    for p in m.parameters():\n",
    "        p.data += -lr*p.grad\n",
    "     \n",
    "    #print(k, loss.data, lr)  "
   ]
  },
  {
   "attachments": {},
   "cell_type": "markdown",
   "metadata": {},
   "source": [
    "# Demo exemple"
   ]
  },
  {
   "cell_type": "code",
   "execution_count": 85,
   "metadata": {},
   "outputs": [],
   "source": [
    "import random\n",
    "import numpy as np\n",
    "import matplotlib.pyplot as plt\n",
    "import sklearn\n",
    "%matplotlib inline"
   ]
  },
  {
   "cell_type": "code",
   "execution_count": 86,
   "metadata": {},
   "outputs": [],
   "source": [
    "np.random.seed(1337)\n",
    "random.seed(1337)"
   ]
  },
  {
   "cell_type": "code",
   "execution_count": 87,
   "metadata": {},
   "outputs": [
    {
     "data": {
      "text/plain": [
       "<matplotlib.collections.PathCollection at 0x14ec8b340>"
      ]
     },
     "execution_count": 87,
     "metadata": {},
     "output_type": "execute_result"
    },
    {
     "data": {
      "image/png": "[encoded data removed]",
      "text/plain": [
       "<Figure size 500x500 with 1 Axes>"
      ]
     },
     "metadata": {},
     "output_type": "display_data"
    }
   ],
   "source": [
    "# make up a dataset\n",
    "\n",
    "from sklearn.datasets import make_moons, make_blobs\n",
    "X, y = make_moons(n_samples=100, noise=0.1)\n",
    "\n",
    "y = y*2 - 1 # make y be -1 or 1\n",
    "# visualize in 2D\n",
    "plt.figure(figsize=(5,5))\n",
    "plt.scatter(X[:,0], X[:,1], c=y, s=20, cmap='jet')"
   ]
  },
  {
   "cell_type": "code",
   "execution_count": 88,
   "metadata": {},
   "outputs": [
    {
     "name": "stdout",
     "output_type": "stream",
     "text": [
      "<__main__.MLP object at 0x14eb43400>\n",
      "number of parameters 337\n"
     ]
    }
   ],
   "source": [
    "# initialize a model \n",
    "model = MLP(2, [16, 16, 1]) # 2-layer neural network\n",
    "print(model)\n",
    "print(\"number of parameters\", len(model.parameters()))"
   ]
  },
  {
   "cell_type": "code",
   "execution_count": 90,
   "metadata": {},
   "outputs": [
    {
     "name": "stdout",
     "output_type": "stream",
     "text": [
      "Value(self.data = 0.7840043023159258, self.grad=0.0, self.label = '') 0.68\n"
     ]
    }
   ],
   "source": [
    "# loss function\n",
    "def loss(batch_size=None):\n",
    "    \n",
    "    # inline DataLoader :)\n",
    "    if batch_size is None:\n",
    "        Xb, yb = X, y\n",
    "    else:\n",
    "        ri = np.random.permutation(X.shape[0])[:batch_size]\n",
    "        Xb, yb = X[ri], y[ri]\n",
    "    inputs = [list(map(Value, xrow)) for xrow in Xb]\n",
    "    \n",
    "    # forward the model to get scores\n",
    "    scores = list(map(model, inputs))\n",
    "    \n",
    "    # svm \"max-margin\" loss\n",
    "    losses = [(1 + -yi*scorei).relu() for yi, scorei in zip(yb, scores)]\n",
    "    data_loss = sum(losses) * (1.0 / len(losses))\n",
    "    # L2 regularization\n",
    "    alpha = 1e-4\n",
    "    reg_loss = alpha * sum((p*p for p in model.parameters()))\n",
    "    total_loss = data_loss + reg_loss\n",
    "    \n",
    "    # also get accuracy\n",
    "    accuracy = [(yi > 0) == (scorei.data > 0) for yi, scorei in zip(yb, scores)]\n",
    "    return total_loss, sum(accuracy) / len(accuracy)\n",
    "\n",
    "total_loss, acc = loss()\n",
    "print(total_loss, acc)"
   ]
  },
  {
   "cell_type": "code",
   "execution_count": null,
   "metadata": {},
   "outputs": [],
   "source": []
  }
 ],
 "metadata": {
  "kernelspec": {
   "display_name": "Python 3.10.8 ('micrograd')",
   "language": "python",
   "name": "python3"
  },
  "language_info": {
   "codemirror_mode": {
    "name": "ipython",
    "version": 3
   },
   "file_extension": ".py",
   "mimetype": "text/x-python",
   "name": "python",
   "nbconvert_exporter": "python",
   "pygments_lexer": "ipython3",
   "version": "3.10.8"
  },
  "vscode": {
   "interpreter": {
    "hash": "0817e48aad823e29ab0979a99cf84a8de159f5c28af964a8e0018065f64daf7e"
   }
  }
 },
 "nbformat": 4,
 "nbformat_minor": 4
}
