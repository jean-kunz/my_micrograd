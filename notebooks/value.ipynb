{
 "cells": [
  {
   "attachments": {},
   "cell_type": "markdown",
   "metadata": {},
   "source": [
    "# Value based computations\n"
   ]
  },
  {
   "cell_type": "code",
   "execution_count": null,
   "metadata": {},
   "outputs": [],
   "source": [
    "#| default_exp explore"
   ]
  },
  {
   "cell_type": "code",
   "execution_count": null,
   "metadata": {},
   "outputs": [],
   "source": [
    "#| export\n",
    "import numpy as np\n",
    "from graphviz import Digraph\n",
    "import math"
   ]
  },
  {
   "cell_type": "code",
   "execution_count": null,
   "metadata": {},
   "outputs": [],
   "source": [
    "def trace(root):\n",
    "    nodes, edges = set(), set()\n",
    "    def build(v):\n",
    "        if v not in nodes:\n",
    "            nodes.add(v)\n",
    "            for child in v._prev:\n",
    "                edges.add((child, v))\n",
    "                build(child)\n",
    "    build(root)\n",
    "    return nodes, edges\n",
    "\n",
    "def draw_dot(root, format='svg', rankdir='LR'):\n",
    "    \"\"\"\n",
    "    format: png | svg | ...\n",
    "    rankdir: TB (top to bottom graph) | LR (left to right)\n",
    "    \"\"\"\n",
    "    assert rankdir in ['LR', 'TB']\n",
    "    nodes, edges = trace(root)\n",
    "    dot = Digraph(format=format, graph_attr={'rankdir': rankdir}) #, node_attr={'rankdir': 'TB'})\n",
    "    \n",
    "    for n in nodes:\n",
    "        dot.node(name=str(id(n)), label = \"{%s | data %.4f | grad %.4f }\" % (n.label, n.data, n.grad), shape='record')\n",
    "        if n._op:\n",
    "            dot.node(name=str(id(n)) + n._op, label=n._op)\n",
    "            dot.edge(str(id(n)) + n._op, str(id(n)))\n",
    "    \n",
    "    for n1, n2 in edges:\n",
    "        dot.edge(str(id(n1)), str(id(n2)) + n2._op)\n",
    "    \n",
    "    return dot"
   ]
  },
  {
   "cell_type": "code",
   "execution_count": null,
   "metadata": {},
   "outputs": [],
   "source": [
    "#| export \n",
    "class Value:\n",
    "    \n",
    "    def __init__(self, data: float, _prev:set=(), _op: str='', label='') -> None:\n",
    "        self.data = data\n",
    "        self._prev = _prev\n",
    "        self._backward = lambda: None\n",
    "        self._op = _op\n",
    "        self.label = label\n",
    "        self.grad: float = 0.\n",
    "        \n",
    "    def __repr__(self) -> str:\n",
    "        return f\"Value({self.data = }, {self.grad=}, {self.label = })\"\n",
    "    \n",
    "    def __add__(self, other):\n",
    "        out = Value(self.data + other.data, _prev=(self,other),_op='+')\n",
    "        \n",
    "        def _backward():\n",
    "            self.grad = 1. * out.grad\n",
    "            other.grad = 1. * out.grad\n",
    "        out._backward = _backward\n",
    "        \n",
    "        return out\n",
    "    \n",
    "    def __mul__(self, other):\n",
    "        out =  Value(self.data * other.data, _prev=(self,other),_op='*')\n",
    "    \n",
    "        def _backward():\n",
    "            self.grad = other.data * out.grad\n",
    "            other.grad = self.data * out.grad            \n",
    "        out._backward = _backward\n",
    "        return out\n",
    "    \n",
    "    def tanh(self):\n",
    "        x = self.data\n",
    "        n = (1-math.exp(-2*x))/(1+math.exp(-2*x))\n",
    "        out = Value(n, _prev=(self,), _op='tanh')\n",
    "        \n",
    "        def _backward():\n",
    "            self.grad = (1-n**2) * out.grad\n",
    "        \n",
    "        out._backward = _backward\n",
    "        \n",
    "        return out"
   ]
  },
  {
   "cell_type": "code",
   "execution_count": null,
   "metadata": {},
   "outputs": [],
   "source": [
    "x1 = Value(2., label='x1')\n",
    "x2 = Value(0., label='x2')\n",
    "\n",
    "w1 = Value(-3., label='w1')\n",
    "w2 = Value(1, label='w2')\n",
    "\n",
    "x1w1 = x1 * w1; x1w1.label='x1w1'\n",
    "x2w2 = x2 * w2; x2w2.label='x2w2'\n",
    "b = Value(6.8813735870195432, label='b')\n",
    "x1w1x2w2= x1w1 + x2w2; x1w1x2w2.label='x1w1x2w2'\n",
    "n = x1w1x2w2+b; n.label='n'\n",
    "o = n.tanh()\n",
    "\n",
    "o.grad = 1.\n",
    "o._backward()\n",
    "n._backward()\n",
    "x1w1x2w2._backward()\n",
    "b._backward()\n",
    "x1w1._backward()\n",
    "x2w2._backward()\n",
    "x2._backward()\n",
    "draw_dot(o)\n"
   ]
  },
  {
   "cell_type": "code",
   "execution_count": null,
   "metadata": {},
   "outputs": [],
   "source": [
    "\n",
    "a = Value(2., label='a')\n",
    "b = Value(-3., label='b')\n",
    "c = Value(10., label='c')\n",
    "e = a*b; e.label='e'\n",
    "d= c+e; d.label='d'\n",
    "f = Value(-2, label='f')\n",
    "L = f*d; L.label='L'\n",
    "L\n",
    "L.grad = 1\n",
    "d.grad = -2\n",
    "f.grad = 16\n",
    "e.grad = -2\n",
    "c.grad = -2\n",
    "a.grad = 6.\n",
    "b.grad = -4\n"
   ]
  },
  {
   "cell_type": "code",
   "execution_count": null,
   "metadata": {},
   "outputs": [],
   "source": [
    "e = 0.01\n",
    "a.data += e * a.grad\n",
    "b.data += e * b.grad\n",
    "c.data += e * c.grad\n",
    "f.data += e * f.grad\n",
    "\n",
    "e = a*b\n",
    "d = c + e\n",
    "L = d * f\n",
    "L"
   ]
  },
  {
   "cell_type": "code",
   "execution_count": null,
   "metadata": {},
   "outputs": [],
   "source": [
    "def grad():\n",
    "  \n",
    "  h = 0.001\n",
    "  \n",
    "  a = Value(2.0, label='a')\n",
    "  b = Value(-3.0, label='b')\n",
    "  c = Value(10.0, label='c')\n",
    "  e = a*b; e.label = 'e'\n",
    "  d = e + c; d.label = 'd'\n",
    "  f = Value(-2.0, label='f')\n",
    "  L = d * f; L.label = 'L'\n",
    "  L1 = L.data\n",
    "  \n",
    "  #a = Value(2.0, label='a')\n",
    "  #b = Value(-3.0, label='b')\n",
    "  \n",
    "  #c = Value(10.0, label='c')\n",
    "\n",
    "  #e = a*b; e.label = 'e'\n",
    "  #d = e + c; d.label = 'd'\n",
    "  #d.data += h\n",
    "  #f = Value(-2.0, label='f')\n",
    "  #L = d * f; L.label = 'L'\n",
    "  L.data += h\n",
    "  L2 = L.data\n",
    "  \n",
    "  print((L2 - L1)/h)\n",
    "  \n",
    "grad()\n"
   ]
  },
  {
   "cell_type": "code",
   "execution_count": null,
   "metadata": {},
   "outputs": [],
   "source": [
    "d._op\n",
    "d._prev[1]._op"
   ]
  },
  {
   "cell_type": "code",
   "execution_count": null,
   "metadata": {},
   "outputs": [],
   "source": [
    "draw_dot(L)"
   ]
  },
  {
   "cell_type": "code",
   "execution_count": null,
   "metadata": {},
   "outputs": [],
   "source": []
  },
  {
   "cell_type": "code",
   "execution_count": null,
   "metadata": {},
   "outputs": [],
   "source": []
  }
 ],
 "metadata": {
  "kernelspec": {
   "display_name": "Python 3.10.8 ('micrograd')",
   "language": "python",
   "name": "python3"
  },
  "language_info": {
   "codemirror_mode": {
    "name": "ipython",
    "version": 3
   },
   "file_extension": ".py",
   "mimetype": "text/x-python",
   "name": "python",
   "nbconvert_exporter": "python",
   "pygments_lexer": "ipython3",
   "version": "3.10.8"
  },
  "vscode": {
   "interpreter": {
    "hash": "0817e48aad823e29ab0979a99cf84a8de159f5c28af964a8e0018065f64daf7e"
   }
  }
 },
 "nbformat": 4,
 "nbformat_minor": 4
}
